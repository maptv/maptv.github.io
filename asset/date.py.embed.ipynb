{
  "cells": [
    {
      "cell_type": "markdown",
      "metadata": {},
      "source": [
        "#"
      ],
      "id": "ff2511b0-ef64-43ce-8471-a3960e1b8b30"
    },
    {
      "cell_type": "code",
      "execution_count": 2,
      "metadata": {},
      "outputs": [
        {
          "output_type": "display_data",
          "metadata": {},
          "data": {
            "text/plain": [
              "[2024, 217.0]"
            ]
          }
        }
      ],
      "source": [
        "def unix2doty(unix):\n",
        "    dote = unix / 86400 + 719468\n",
        "    cykl = (\n",
        "        dote if dote >= 0\n",
        "        else dote - 146096\n",
        "    ) // 146097\n",
        "    dotc = dote - cykl * 146097\n",
        "    yotc = (dotc\n",
        "        - dotc // 1460\n",
        "        + dotc // 36524\n",
        "        - dotc // 146096\n",
        "    ) // 365\n",
        "    return [\n",
        "        int(yotc + cykl * 400),\n",
        "        dotc - (yotc * 365\n",
        "            + yotc // 4\n",
        "            - yotc // 100\n",
        "    )]\n",
        "unix2doty(1728000000)"
      ],
      "id": "d11fc51c"
    },
    {
      "cell_type": "code",
      "execution_count": 3,
      "metadata": {},
      "outputs": [
        {
          "output_type": "display_data",
          "metadata": {},
          "data": {
            "text/plain": [
              "[2029, 266.0]"
            ]
          }
        }
      ],
      "source": [
        "unix2doty(1890000000)"
      ],
      "id": "a060c1e8"
    }
  ],
  "nbformat": 4,
  "nbformat_minor": 5,
  "metadata": {
    "kernelspec": {
      "name": "python3",
      "display_name": "Python 3 (ipykernel)",
      "language": "python",
      "path": "/opt/homebrew/Caskroom/miniforge/base/envs/py/share/jupyter/kernels/python3"
    },
    "language_info": {
      "name": "python",
      "codemirror_mode": {
        "name": "ipython",
        "version": "3"
      },
      "file_extension": ".py",
      "mimetype": "text/x-python",
      "nbconvert_exporter": "python",
      "pygments_lexer": "ipython3",
      "version": "3.12.3"
    }
  }
}