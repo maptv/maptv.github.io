{
  "cells": [
    {
      "cell_type": "markdown",
      "metadata": {},
      "source": [
        "#"
      ],
      "id": "9ed7697d-1c81-4514-9304-e25a4701365d"
    },
    {
      "cell_type": "code",
      "execution_count": 2,
      "metadata": {
        "editable": true,
        "slideshow": {
          "slide_type": ""
        },
        "tags": []
      },
      "outputs": [],
      "source": [
        "function unix2doty(unix)\n",
        "  local dote = unix / 86400 + 719468\n",
        "  local cykl = (\n",
        "    dote >= 0 and dote\n",
        "    or dote - 146096\n",
        "  ) // 146097\n",
        "  local dotc = dote - cykl * 146097\n",
        "  local yotc = (\n",
        "    dotc - dotc // 1460\n",
        "    + dotc // 36524\n",
        "    - dotc // 146096\n",
        "  ) // 365\n",
        "  return {\n",
        "    math.floor(yotc + cykl * 400),\n",
        "    dotc - (yotc * 365\n",
        "      + yotc // 4\n",
        "      - yotc // 100\n",
        "  )}\n",
        "end"
      ],
      "id": "57296f55"
    },
    {
      "cell_type": "code",
      "execution_count": 3,
      "metadata": {
        "editable": true,
        "slideshow": {
          "slide_type": ""
        },
        "tags": []
      },
      "outputs": [
        {
          "output_type": "stream",
          "name": "stdout",
          "text": [
            "{ 2024, 217.0 } "
          ]
        }
      ],
      "source": [
        "unix2doty(1728000000)"
      ],
      "id": "9d79e651"
    },
    {
      "cell_type": "code",
      "execution_count": 4,
      "metadata": {},
      "outputs": [
        {
          "output_type": "stream",
          "name": "stdout",
          "text": [
            "{ 2029, 266.0 } "
          ]
        }
      ],
      "source": [
        "unix2doty(1890000000)"
      ],
      "id": "cdf82f8f"
    }
  ],
  "nbformat": 4,
  "nbformat_minor": 5,
  "metadata": {
    "kernelspec": {
      "name": "xlua",
      "display_name": "Lua (XLua)",
      "language": "lua",
      "path": "/opt/homebrew/Caskroom/miniforge/base/envs/py/share/jupyter/kernels/xlua"
    },
    "language_info": {
      "name": "lua",
      "file_extension": ".lua",
      "mimetype": "text/x-luasrc",
      "version": "14.0.0"
    }
  }
}