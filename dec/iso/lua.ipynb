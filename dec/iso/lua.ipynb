{
 "cells": [
  {
   "cell_type": "code",
   "execution_count": 1,
   "metadata": {
    "editable": true,
    "slideshow": {
     "slide_type": ""
    },
    "tags": []
   },
   "outputs": [],
   "source": [
    "function unix2doty(unix)\n",
    "  local dote = unix / 86400 + 719468\n",
    "  local socy = (\n",
    "    dote >= 0 and dote\n",
    "    or dote - 146096\n",
    "  ) // 146097\n",
    "  local dotc = dote - socy * 146097\n",
    "  local yotc = (\n",
    "    dotc - dotc // 1460\n",
    "    + dotc // 36524\n",
    "    - dotc // 146096\n",
    "  ) // 365\n",
    "  return {\n",
    "    math.floor(yotc + socy * 400),\n",
    "    dotc - (yotc * 365\n",
    "      + yotc // 4\n",
    "      - yotc // 100\n",
    "  )}\n",
    "end"
   ]
  },
  {
   "cell_type": "code",
   "execution_count": 2,
   "metadata": {
    "editable": true,
    "slideshow": {
     "slide_type": ""
    },
    "tags": []
   },
   "outputs": [
    {
     "name": "stdout",
     "output_type": "stream",
     "text": [
      "{ 2024, 217.0 } \n"
     ]
    }
   ],
   "source": [
    "unix2doty(1728000000)"
   ]
  },
  {
   "cell_type": "code",
   "execution_count": 3,
   "metadata": {
    "scrolled": true
   },
   "outputs": [
    {
     "name": "stdout",
     "output_type": "stream",
     "text": [
      "{ 2029, 266.0 } \n"
     ]
    }
   ],
   "source": [
    "unix2doty(1890000000)"
   ]
  },
  {
   "cell_type": "code",
   "execution_count": 11,
   "metadata": {},
   "outputs": [
    {
     "name": "stdout",
     "output_type": "stream",
     "text": [
      "false \n",
      "365 \n",
      "1970 1 \n",
      "1969 306 \n"
     ]
    }
   ],
   "source": [
    "function leap(year)\n",
    "    year = year or 1969\n",
    "    return (year % 4 == 0 and year % 100 ~= 0) or (year % 400 == 0)\n",
    "end\n",
    "function year2dity(year)\n",
    "    year = year or 1969\n",
    "    return 365 + (leap(year + 1) and 1 or 0)\n",
    "end\n",
    "function date2isoo(year, doty)\n",
    "    year = year or 1969\n",
    "    doty = doty or 306\n",
    "    return year + (doty > 305 and 1 or 0),\n",
    "        (doty + 59 + (leap(year) and 1 or 0))\n",
    "        % (365 + (leap(year) and 1 or 0)) + 1\n",
    "end\n",
    "function isoo2date(year, doty)\n",
    "    year = year or 1970\n",
    "    doty = doty or 1\n",
    "    return year - (doty < (60 + (leap(year) and 1 or 0)) and 1 or 0),\n",
    "        (doty + 305) % (365 + (leap(year) and 1 or 0))\n",
    "end\n",
    "print(leap())\n",
    "print(year2dity())\n",
    "print(date2isoo())\n",
    "print(isoo2date())"
   ]
  },
  {
   "cell_type": "code",
   "execution_count": null,
   "metadata": {},
   "outputs": [],
   "source": []
  }
 ],
 "metadata": {
  "kernelspec": {
   "display_name": "Lua  (XLua)",
   "language": "lua",
   "name": "xlua"
  },
  "language_info": {
   "file_extension": ".lua",
   "mimetype": "text/x-luasrc",
   "name": "lua",
   "version": "14.0.0"
  }
 },
 "nbformat": 4,
 "nbformat_minor": 4
}
