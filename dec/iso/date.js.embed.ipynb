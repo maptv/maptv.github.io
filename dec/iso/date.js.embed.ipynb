{
  "cells": [
    {
      "cell_type": "markdown",
      "metadata": {},
      "source": [
        "# \n",
        "\n",
        "\\| [Martin Laptev]()"
      ],
      "id": "11b8e96e-ff0b-43ed-8dec-59a354d08baf"
    },
    {
      "cell_type": "code",
      "execution_count": 2,
      "metadata": {
        "editable": true,
        "slideshow": {
          "slide_type": ""
        },
        "tags": []
      },
      "outputs": [
        {
          "output_type": "display_data",
          "metadata": {},
          "data": {
            "text/html": [
              "<pre>[ <span class=\"ansi-yellow-fg\">2024</span>, <span class=\"ansi-yellow-fg\">217</span> ]</pre>"
            ]
          }
        }
      ],
      "source": [
        "function unix2doty(unix) {\n",
        "  const dote = unix / 86400 + 719468,\n",
        "    cykl = Math.floor((\n",
        "      dote >= 0 ? dote\n",
        "      : dote - 146096\n",
        "    ) / 146097),\n",
        "  dotc = dote - cykl * 146097,\n",
        "  yotc = Math.floor((dotc\n",
        "    - Math.floor(dotc / 1460)\n",
        "    + Math.floor(dotc / 36524)\n",
        "    - Math.floor(dotc / 146096)\n",
        "  ) / 365);\n",
        "  return [\n",
        "    yotc + cykl * 400,\n",
        "    dotc - (yotc * 365\n",
        "      + Math.floor(yotc / 4)\n",
        "      - Math.floor(yotc / 100)\n",
        "  )]}\n",
        "unix2doty(1728000000)"
      ],
      "id": "97cc3867"
    },
    {
      "cell_type": "code",
      "execution_count": 3,
      "metadata": {},
      "outputs": [
        {
          "output_type": "display_data",
          "metadata": {},
          "data": {
            "text/html": [
              "<pre>[ <span class=\"ansi-yellow-fg\">2029</span>, <span class=\"ansi-yellow-fg\">266</span> ]</pre>"
            ]
          }
        }
      ],
      "source": [
        "unix2doty(1890000000)"
      ],
      "id": "e460b762"
    }
  ],
  "nbformat": 4,
  "nbformat_minor": 5,
  "metadata": {
    "kernelspec": {
      "name": "deno",
      "display_name": "Deno",
      "language": "typescript",
      "path": "/Users/martinlaptev/Library/Jupyter/kernels/deno"
    },
    "language_info": {
      "name": "typescript",
      "file_extension": ".ts",
      "mimetype": "text/x.typescript",
      "nb_converter": "script",
      "pygments_lexer": "typescript",
      "version": "5.4.3"
    }
  }
}