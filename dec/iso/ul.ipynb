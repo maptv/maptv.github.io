{
 "cells": [
  {
   "cell_type": "code",
   "execution_count": 31,
   "id": "18a390ae-fd7d-4829-a73a-783e55618dc1",
   "metadata": {},
   "outputs": [
    {
     "data": {
      "text/plain": [
       "unix2doty (generic function with 1 method)"
      ]
     },
     "execution_count": 31,
     "metadata": {},
     "output_type": "execute_result"
    }
   ],
   "source": [
    "function unix2doty(unix)\n",
    "    dote = unix / 86400 + 719468\n",
    "    cykl = (\n",
    "        dote >= 0 ? dote\n",
    "        : dote - 146096\n",
    "        ) ÷ 146097\n",
    "    dotc = dote - cykl * 146097\n",
    "    yotc = (\n",
    "        dotc - dotc ÷ 1460\n",
    "        + dotc ÷ 36524\n",
    "        - dotc ÷ 146096\n",
    "    ) ÷ 365\n",
    "    return Int(\n",
    "        yotc + cykl * 400),\n",
    "    dotc - (yotc * 365\n",
    "        + yotc ÷ 4\n",
    "        - yotc ÷ 100)\n",
    "end"
   ]
  },
  {
   "cell_type": "code",
   "execution_count": 7,
   "id": "881c94b0-ff0d-48a0-9aee-865a41e1be86",
   "metadata": {},
   "outputs": [
    {
     "data": {
      "text/plain": [
       "dote0 (generic function with 1 method)"
      ]
     },
     "execution_count": 7,
     "metadata": {},
     "output_type": "execute_result"
    }
   ],
   "source": [
    "function dote0(year, doty)\n",
    "    socy = (year >= 0 ? year : y - 399) ÷ 400\n",
    "    yotc = year - socy * 400\n",
    "    dotc = yotc * 365 + yotc ÷ 4 - yotc ÷ 100 + doty\n",
    "    dote = socy * 146097 + dotc\n",
    "    return dote\n",
    "end"
   ]
  },
  {
   "cell_type": "code",
   "execution_count": 8,
   "id": "6cfd5ffc-7fbb-4570-b937-0768934c9894",
   "metadata": {},
   "outputs": [
    {
     "data": {
      "text/plain": [
       "719468"
      ]
     },
     "execution_count": 8,
     "metadata": {},
     "output_type": "execute_result"
    }
   ],
   "source": [
    "dote0(1969, 306)"
   ]
  },
  {
   "cell_type": "code",
   "execution_count": 9,
   "id": "ef7dbbef-13c8-4eb7-bdfc-51355020e32c",
   "metadata": {},
   "outputs": [
    {
     "data": {
      "text/plain": [
       "dote1 (generic function with 1 method)"
      ]
     },
     "execution_count": 9,
     "metadata": {},
     "output_type": "execute_result"
    }
   ],
   "source": [
    "function dote1(year, doty)\n",
    "    dote = year * 365 + year ÷ 4 - year ÷ 100 + year ÷ 400 + doty\n",
    "    return dote\n",
    "end"
   ]
  },
  {
   "cell_type": "code",
   "execution_count": 10,
   "id": "bb962181-1ea6-4dc6-8147-c82655a83374",
   "metadata": {},
   "outputs": [
    {
     "data": {
      "text/plain": [
       "719468"
      ]
     },
     "execution_count": 10,
     "metadata": {},
     "output_type": "execute_result"
    }
   ],
   "source": [
    "dote1(1969, 306)"
   ]
  },
  {
   "cell_type": "code",
   "execution_count": 30,
   "id": "bd0ba9e6-554e-4736-9e9c-33bdbf7948e8",
   "metadata": {
    "editable": true,
    "slideshow": {
     "slide_type": ""
    },
    "tags": []
   },
   "outputs": [],
   "source": [
    "unix2doty(1728000000)"
   ]
  },
  {
   "cell_type": "code",
   "execution_count": 27,
   "id": "c22b641d-82d3-4fdf-9166-44eacb6fd3e2",
   "metadata": {},
   "outputs": [
    {
     "data": {
      "text/plain": [
       "(2029, 266.0)"
      ]
     },
     "execution_count": 27,
     "metadata": {},
     "output_type": "execute_result"
    }
   ],
   "source": [
    "unix2doty(1890000000)"
   ]
  }
 ],
 "metadata": {
  "kernelspec": {
   "display_name": "Julia 1.10.2",
   "language": "julia",
   "name": "julia-1.10"
  },
  "language_info": {
   "file_extension": ".jl",
   "mimetype": "application/julia",
   "name": "julia",
   "version": "1.10.2"
  }
 },
 "nbformat": 4,
 "nbformat_minor": 5
}
