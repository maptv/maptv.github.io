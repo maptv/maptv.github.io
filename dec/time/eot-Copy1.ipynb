{
 "cells": [
  {
   "cell_type": "code",
   "execution_count": 1,
   "id": "61f8aa5d-1fd2-473c-8e83-26f6cdcdc480",
   "metadata": {},
   "outputs": [],
   "source": [
    "import math\n",
    "import numpy as np\n",
    "import pandas as pd\n",
    "from datetime import datetime\n",
    "from mpmath import sinpi, cospi, pi\n",
    "from scipy.optimize import curve_fit\n",
    "import matplotlib.pyplot as plt\n",
    "import polars as pl"
   ]
  },
  {
   "cell_type": "code",
   "execution_count": 2,
   "id": "c32f027e-8d48-4863-bb51-c0846884ac20",
   "metadata": {},
   "outputs": [],
   "source": [
    "root =  \"https://gml.noaa.gov/grad/solcalc/\"\n",
    "stem = \"NOAA_Solar_Calculations_year\""
   ]
  },
  {
   "cell_type": "code",
   "execution_count": 3,
   "id": "9ac5f9c8-25b8-46d0-b6c5-0c0cb43c13b6",
   "metadata": {},
   "outputs": [
    {
     "name": "stderr",
     "output_type": "stream",
     "text": [
      "Could not determine dtype for column 2, falling back to string\n",
      "Could not determine dtype for column 7, falling back to string\n"
     ]
    }
   ],
   "source": [
    "df = pl.read_ods(\n",
    "    stem + \".ods\" # local file\n",
    "    # root + stem + \".ods\" # url\n",
    ")"
   ]
  },
  {
   "cell_type": "code",
   "execution_count": 4,
   "id": "451244a7-5251-4eb3-b7fd-28e0b6f332e4",
   "metadata": {},
   "outputs": [],
   "source": [
    "def ymdhms2doe(datecol: str, timecol: str, outcol: str) -> pl.Expr:\n",
    "    return (\n",
    "        pl.col(datecol).dt.epoch(time_unit=\"s\")\n",
    "        / 86400\n",
    "        + pl.col(timecol)\n",
    "        + 719468\n",
    "    ).alias(outcol)"
   ]
  },
  {
   "cell_type": "code",
   "execution_count": 5,
   "id": "af9553b3-cfaf-4aa0-95cf-45f0f3b3ae5c",
   "metadata": {},
   "outputs": [],
   "source": [
    "def doe2coe(incol: str, outcol: str) -> pl.Expr:\n",
    "    incol_expr = pl.col(incol)\n",
    "    return (\n",
    "        pl.when(incol_expr >= 0)\n",
    "        .then(incol_expr)\n",
    "        .otherwise(incol_expr - 146096)\n",
    "        // 146097\n",
    "    ).alias(outcol)"
   ]
  },
  {
   "cell_type": "code",
   "execution_count": 6,
   "id": "8894d30e-6cd3-4f5c-917e-9bb1379969fc",
   "metadata": {},
   "outputs": [],
   "source": [
    "def coe2doc(doecol: str, coecol: str, outcol: str) -> pl.Expr:\n",
    "    return (\n",
    "        pl.col(doecol)\n",
    "        - pl.col(coecol)\n",
    "        * 146097\n",
    "    ).alias(outcol)"
   ]
  },
  {
   "cell_type": "code",
   "execution_count": 7,
   "id": "5d716c45-f7e5-461b-b578-f1b88f010d80",
   "metadata": {},
   "outputs": [],
   "source": [
    "def doc2yoc(incol: str, outcol: str) -> pl.Expr:\n",
    "    incol_expr = pl.col(incol)\n",
    "    return ((\n",
    "        incol_expr\n",
    "        - incol_expr // 1460\n",
    "        + incol_expr // 36524\n",
    "        - incol_expr // 146096\n",
    "        ) // 365\n",
    "    ).alias(outcol)"
   ]
  },
  {
   "cell_type": "code",
   "execution_count": 8,
   "id": "574023dc-13f7-4a7a-9b75-2b5bd17eb939",
   "metadata": {},
   "outputs": [],
   "source": [
    "def yoc2yoe(yoccol: str, coecol: str, outcol: str) -> pl.Expr:\n",
    "    return (\n",
    "        pl.col(yoccol) + pl.col(coecol) * 400\n",
    "    ).cast(pl.Int32).alias(outcol)"
   ]
  },
  {
   "cell_type": "code",
   "execution_count": 9,
   "id": "bb2bfbfd-760a-49a3-9ef5-ce58134ad6be",
   "metadata": {},
   "outputs": [],
   "source": [
    "def yoc2yda(doccol: str, yoccol: str, outcol: str) -> pl.Expr:\n",
    "    yoccol_expr = pl.col(yoccol)\n",
    "    return (\n",
    "        pl.col(doccol) - (\n",
    "            yoccol_expr * 365\n",
    "            + yoccol_expr // 4\n",
    "            - yoccol_expr // 100\n",
    "        )).alias(outcol)"
   ]
  },
  {
   "cell_type": "code",
   "execution_count": 10,
   "id": "b9e1f3fe-507c-4646-bdff-d9f35a12116a",
   "metadata": {},
   "outputs": [],
   "source": [
    "def yda2doy(incol: str, outcol: str) -> pl.Expr:\n",
    "    return pl.col(incol).floor().cast(pl.Int32).alias(outcol)"
   ]
  },
  {
   "cell_type": "code",
   "execution_count": 11,
   "id": "ec3646d0-764e-480b-9e26-c3701f59ece3",
   "metadata": {},
   "outputs": [],
   "source": [
    "def yda2toy(incol: str, diy: int, outcol: str) -> pl.Expr:\n",
    "    return (pl.col(incol) / diy).alias(outcol)"
   ]
  },
  {
   "cell_type": "code",
   "execution_count": 12,
   "id": "4b350589-50cb-493e-a7a7-e48dcd5d7302",
   "metadata": {},
   "outputs": [],
   "source": [
    "def min2cd(incol: str, outcol: str) -> pl.Expr:\n",
    "    return (pl.col(incol) / 1.44).alias(outcol)"
   ]
  },
  {
   "cell_type": "code",
   "execution_count": 13,
   "id": "53bfec54-6b3a-4c22-b7d6-f143b13fe915",
   "metadata": {},
   "outputs": [],
   "source": [
    "df = (\n",
    "    df.with_columns(ymdhms2doe(\n",
    "        \"Date\",\n",
    "        \"Time (hrs past local midnight)\",\n",
    "        \"doe\",\n",
    "    )).with_columns(doe2coe(\n",
    "        \"doe\", \"coe\"\n",
    "    )).with_columns(coe2doc(\n",
    "        \"doe\", \"coe\", \"doc\",\n",
    "    )).with_columns(doc2yoc(\n",
    "        \"doc\", \"yoc\",\n",
    "    )).with_columns(\n",
    "        yoc2yoe(\"yoc\", \"coe\", \"yoe\"),\n",
    "        yoc2yda(\"doc\", \"yoc\", \"yda\"),\n",
    "    ).with_columns(\n",
    "        yda2toy(\"yda\", 365, \"toy\"),\n",
    "        yda2doy(\"yda\", \"doy\"),\n",
    "        min2cd(\n",
    "            \"Eq of Time (minutes)\",\n",
    "            \"eot\",\n",
    "        )\n",
    "    )\n",
    ")"
   ]
  },
  {
   "cell_type": "code",
   "execution_count": 14,
   "id": "358a41de-b8c0-4bb1-93eb-acf5e87b9b3b",
   "metadata": {},
   "outputs": [
    {
     "data": {
      "text/html": [
       "<div><style>\n",
       ".dataframe > thead > tr,\n",
       ".dataframe > tbody > tr {\n",
       "  text-align: right;\n",
       "  white-space: pre-wrap;\n",
       "}\n",
       "</style>\n",
       "<small>shape: (5, 5)</small><table border=\"1\" class=\"dataframe\"><thead><tr><th>yoe</th><th>yda</th><th>doy</th><th>toy</th><th>eot</th></tr><tr><td>i32</td><td>f64</td><td>i32</td><td>f64</td><td>f64</td></tr></thead><tbody><tr><td>2025</td><td>306.5</td><td>306</td><td>0.839726</td><td>-2.572193</td></tr><tr><td>2025</td><td>307.5</td><td>307</td><td>0.842466</td><td>-2.895113</td></tr><tr><td>2025</td><td>308.5</td><td>308</td><td>0.845205</td><td>-3.213904</td></tr><tr><td>2025</td><td>309.5</td><td>309</td><td>0.847945</td><td>-3.528227</td></tr><tr><td>2025</td><td>310.5</td><td>310</td><td>0.850685</td><td>-3.837754</td></tr></tbody></table></div>"
      ],
      "text/plain": [
       "shape: (5, 5)\n",
       "┌──────┬───────┬─────┬──────────┬───────────┐\n",
       "│ yoe  ┆ yda   ┆ doy ┆ toy      ┆ eot       │\n",
       "│ ---  ┆ ---   ┆ --- ┆ ---      ┆ ---       │\n",
       "│ i32  ┆ f64   ┆ i32 ┆ f64      ┆ f64       │\n",
       "╞══════╪═══════╪═════╪══════════╪═══════════╡\n",
       "│ 2025 ┆ 306.5 ┆ 306 ┆ 0.839726 ┆ -2.572193 │\n",
       "│ 2025 ┆ 307.5 ┆ 307 ┆ 0.842466 ┆ -2.895113 │\n",
       "│ 2025 ┆ 308.5 ┆ 308 ┆ 0.845205 ┆ -3.213904 │\n",
       "│ 2025 ┆ 309.5 ┆ 309 ┆ 0.847945 ┆ -3.528227 │\n",
       "│ 2025 ┆ 310.5 ┆ 310 ┆ 0.850685 ┆ -3.837754 │\n",
       "└──────┴───────┴─────┴──────────┴───────────┘"
      ]
     },
     "execution_count": 14,
     "metadata": {},
     "output_type": "execute_result"
    }
   ],
   "source": [
    "df.select([\"yoe\", \"yda\", \"doy\", \"toy\", \"eot\"]).head()"
   ]
  },
  {
   "cell_type": "code",
   "execution_count": 15,
   "id": "8105ddbb-b4f5-4ca6-af10-20f9c8458023",
   "metadata": {},
   "outputs": [],
   "source": [
    "costau = np.vectorize(lambda x: np.float64(cospi(2 * x)))"
   ]
  },
  {
   "cell_type": "code",
   "execution_count": 16,
   "id": "e2a54b44-487f-461a-9f36-52b4ef1f723b",
   "metadata": {},
   "outputs": [],
   "source": [
    "sintau = np.vectorize(lambda x: np.float64(sinpi(2 * x)))"
   ]
  },
  {
   "cell_type": "code",
   "execution_count": 17,
   "id": "29cd8bf9-c25f-4352-af3c-e654387b8c30",
   "metadata": {},
   "outputs": [
    {
     "data": {
      "text/plain": [
       "array([ 1.,  0., -1.,  0.,  1.])"
      ]
     },
     "execution_count": 17,
     "metadata": {},
     "output_type": "execute_result"
    }
   ],
   "source": [
    "costau([0, .25, .5, .75, 1])"
   ]
  },
  {
   "cell_type": "code",
   "execution_count": 18,
   "id": "9ba689d8-4f15-4bb0-93f1-d92b56027f39",
   "metadata": {},
   "outputs": [
    {
     "data": {
      "text/plain": [
       "array([ 0.,  1.,  0., -1.,  0.])"
      ]
     },
     "execution_count": 18,
     "metadata": {},
     "output_type": "execute_result"
    }
   ],
   "source": [
    "sintau([0, .25, .5, .75, 1])"
   ]
  },
  {
   "cell_type": "code",
   "execution_count": 19,
   "id": "977451cb-797a-4238-ad56-ed39bb746131",
   "metadata": {},
   "outputs": [],
   "source": [
    "def model(toy, p0, p1, p2, p3, p4):\n",
    "    return (\n",
    "        p0 +\n",
    "        p1 * costau(toy) +\n",
    "        p2 * sintau(toy) +\n",
    "        p3 * costau(2 * toy) +\n",
    "        p4 * sintau(2 * toy)\n",
    "    )"
   ]
  },
  {
   "cell_type": "code",
   "execution_count": 20,
   "id": "e0ea9ac2-c600-472b-a494-54b79317dad4",
   "metadata": {},
   "outputs": [
    {
     "data": {
      "text/plain": [
       "{0: 0.0011114386869002235,\n",
       " 1: -4.155124400404918,\n",
       " 2: -2.9710873225303756,\n",
       " 3: -4.635570414590801,\n",
       " 4: 5.116176940364264}"
      ]
     },
     "execution_count": 20,
     "metadata": {},
     "output_type": "execute_result"
    }
   ],
   "source": [
    "#| label: eot\n",
    "popt, pcov = curve_fit(model, df[\"toy\"], df[\"eot\"])\n",
    "dict(enumerate(popt.tolist()))"
   ]
  },
  {
   "cell_type": "code",
   "execution_count": 21,
   "id": "f34a0853-7f00-4138-853a-a0582c16b467",
   "metadata": {},
   "outputs": [],
   "source": [
    "df = df.with_columns(pl.Series(name=\"fit\", values=model(df[\"toy\"], *popt)))"
   ]
  },
  {
   "cell_type": "code",
   "execution_count": 33,
   "id": "947552b8-28c6-42a9-8f88-ec32c25252e3",
   "metadata": {},
   "outputs": [
    {
     "data": {
      "text/html": [
       "<div><style>\n",
       ".dataframe > thead > tr,\n",
       ".dataframe > tbody > tr {\n",
       "  text-align: right;\n",
       "  white-space: pre-wrap;\n",
       "}\n",
       "</style>\n",
       "<small>shape: (3,)</small><table border=\"1\" class=\"dataframe\"><thead><tr><th>fit</th></tr><tr><td>f64</td></tr></thead><tbody><tr><td>0.056509</td></tr><tr><td>-0.045707</td></tr><tr><td>-0.016537</td></tr></tbody></table></div>"
      ],
      "text/plain": [
       "shape: (3,)\n",
       "Series: 'fit' [f64]\n",
       "[\n",
       "\t0.056509\n",
       "\t-0.045707\n",
       "\t-0.016537\n",
       "]"
      ]
     },
     "execution_count": 33,
     "metadata": {},
     "output_type": "execute_result"
    }
   ],
   "source": [
    "df[\"fit\"].filter(np.isclose(df[\"fit\"], 0, atol=1e-01))"
   ]
  },
  {
   "cell_type": "code",
   "execution_count": 59,
   "id": "0785520d-280f-416b-9bb8-5d6c22ead986",
   "metadata": {},
   "outputs": [
    {
     "data": {
      "text/plain": [
       "290    2.943072\n",
       "291    2.604574\n",
       "292    2.264139\n",
       "293    1.922145\n",
       "294    1.578975\n",
       "295    1.235013\n",
       "296    0.890642\n",
       "297    0.546249\n",
       "298    0.202217\n",
       "299   -0.141070\n",
       "300   -0.483231\n",
       "301   -0.823885\n",
       "302   -1.162657\n",
       "303   -1.499173\n",
       "304   -1.833065\n",
       "305   -2.163968\n",
       "306   -2.572193\n",
       "307   -2.491524\n",
       "308   -2.895113\n",
       "309   -3.213904\n",
       "Name: eot, dtype: float64"
      ]
     },
     "execution_count": 59,
     "metadata": {},
     "output_type": "execute_result"
    }
   ],
   "source": [
    "df.sort(\"yda\")[\"eot\"].to_pandas()[290:310]"
   ]
  },
  {
   "cell_type": "code",
   "execution_count": 64,
   "id": "cfb97d5a-c7de-44e6-97bc-4b1f1c8ddefd",
   "metadata": {},
   "outputs": [
    {
     "data": {
      "text/plain": [
       "(array([ 45, 103, 184]),)"
      ]
     },
     "execution_count": 64,
     "metadata": {},
     "output_type": "execute_result"
    }
   ],
   "source": [
    "np.where(np.isclose(df.sort(\"yda\")[\"eot\"], 0, atol=.11))"
   ]
  },
  {
   "cell_type": "code",
   "execution_count": 66,
   "id": "43d9dd27-b090-447c-adda-d9c074744c7a",
   "metadata": {},
   "outputs": [
    {
     "data": {
      "text/plain": [
       "244"
      ]
     },
     "execution_count": 66,
     "metadata": {},
     "output_type": "execute_result"
    }
   ],
   "source": [
    "df.sort(\"yda\")[\"fit\"].to_pandas().idxmax()"
   ]
  },
  {
   "cell_type": "code",
   "execution_count": 67,
   "id": "8c0918cd-3a75-4c5b-a937-254b885605de",
   "metadata": {},
   "outputs": [
    {
     "data": {
      "text/plain": [
       "350"
      ]
     },
     "execution_count": 67,
     "metadata": {},
     "output_type": "execute_result"
    }
   ],
   "source": [
    "df.sort(\"yda\")[\"fit\"].to_pandas().idxmin()"
   ]
  },
  {
   "cell_type": "code",
   "execution_count": 23,
   "id": "0a5fda8d-30f2-4d5c-b2d1-1d1540a2ac29",
   "metadata": {},
   "outputs": [
    {
     "data": {
      "text/plain": [
       "-9.81710322341188"
      ]
     },
     "execution_count": 23,
     "metadata": {},
     "output_type": "execute_result"
    }
   ],
   "source": [
    "df.sort(\"yda\")[\"fit\"].idxmin()"
   ]
  },
  {
   "cell_type": "code",
   "execution_count": 24,
   "id": "d7ab16f9-c816-47cf-9134-db96f730bae1",
   "metadata": {},
   "outputs": [],
   "source": [
    "plotopts = {\"linewidth\": 4, \"legend\": True, \"x\": \"doy\"}"
   ]
  },
  {
   "cell_type": "code",
   "execution_count": 25,
   "id": "f489afdc-f60b-4a1e-ac6e-0cab586e945c",
   "metadata": {
    "scrolled": true
   },
   "outputs": [
    {
     "data": {
      "image/png": "[encoded data removed]",
      "text/plain": [
       "<Figure size 640x480 with 1 Axes>"
      ]
     },
     "metadata": {},
     "output_type": "display_data"
    }
   ],
   "source": [
    "plotdf = df.to_pandas().sort_values(\"doy\")\n",
    "ax = plotdf.plot(\n",
    "    y=\"eot\",\n",
    "    xlabel=\"Day of year\",\n",
    "    ylabel=r\"Apparent solar time $-$ Mean solar time\",\n",
    "    **plotopts\n",
    ")\n",
    "plotdf.plot(\n",
    "    y=\"fit\",\n",
    "    linestyle=\"--\",\n",
    "    ax=ax,\n",
    "    **plotopts\n",
    ").hlines(y=0, xmin=0, xmax=365, color='r', linestyle='-');"
   ]
  },
  {
   "cell_type": "code",
   "execution_count": 26,
   "id": "57579d33-99b9-4582-aa3b-476fb06daa4f",
   "metadata": {},
   "outputs": [],
   "source": [
    "df = df.with_columns((pl.col(\"Sun Declin (deg)\") * np.pi / 180).alias(\"sda\"))"
   ]
  },
  {
   "cell_type": "code",
   "execution_count": 27,
   "id": "841964eb-ae9b-46cf-b1d8-e38e1e6dc555",
   "metadata": {},
   "outputs": [
    {
     "data": {
      "text/plain": [
       "{0: 0.006858430267509779,\n",
       " 1: -0.14525284677517208,\n",
       " 2: 0.3790043999111057,\n",
       " 3: 0.0038658120332990126,\n",
       " 4: 0.005643397252471751}"
      ]
     },
     "execution_count": 27,
     "metadata": {},
     "output_type": "execute_result"
    }
   ],
   "source": [
    "#| label: sda\n",
    "popt, pcov = curve_fit(model, df[\"toy\"], df[\"sda\"])\n",
    "dict(enumerate(popt.tolist()))"
   ]
  },
  {
   "cell_type": "code",
   "execution_count": 28,
   "id": "57464e53-aaa7-4a92-af38-aeffa82d8777",
   "metadata": {},
   "outputs": [],
   "source": [
    "df = df.with_columns(pl.Series(name=\"fit\", values=model(df[\"toy\"], *popt)))"
   ]
  },
  {
   "cell_type": "code",
   "execution_count": 29,
   "id": "1330a11e-914c-4dd8-b621-57e99e40710e",
   "metadata": {},
   "outputs": [
    {
     "data": {
      "image/png": "[encoded data removed]",
      "text/plain": [
       "<Figure size 640x480 with 1 Axes>"
      ]
     },
     "metadata": {},
     "output_type": "display_data"
    }
   ],
   "source": [
    "plotdf = df.to_pandas().sort_values(\"doy\")\n",
    "ax = plotdf.plot(\n",
    "    y=\"sda\",\n",
    "    xlabel=\"Day of year\",\n",
    "    ylabel=r\"Apparent solar time $-$ Mean solar time\",\n",
    "    **plotopts\n",
    ")\n",
    "plotdf.plot(\n",
    "    y=\"fit\",\n",
    "    linestyle=\"--\",\n",
    "    ax=ax,\n",
    "    **plotopts\n",
    ").hlines(y=0, xmin=0, xmax=365, color='r', linestyle='-');"
   ]
  },
  {
   "cell_type": "markdown",
   "id": "365c2bfe-c7dc-4993-9b31-6429cfbbeb94",
   "metadata": {},
   "source": [
    "# Bonus examples"
   ]
  },
  {
   "cell_type": "code",
   "execution_count": null,
   "id": "01c34929-75f2-4db4-9641-4fc9dd83f0cb",
   "metadata": {},
   "outputs": [],
   "source": [
    "# All in one go\n",
    "df = df.with_columns(\n",
    "    (pl.col(\"Date\")\n",
    "    .dt.epoch(time_unit=\"s\")\n",
    "    / 86400\n",
    "    + pl.col(\"Time (hrs past local midnight)\")\n",
    "    + 719468\n",
    ").alias(\"doe\")).with_columns(\n",
    "    (pl.when(pl.col(\"doe\") >= 0)\n",
    "       .then(pl.col(\"doe\") // 146097)\n",
    "       .otherwise((pl.col(\"doe\") - 146096) // 146097)\n",
    ").alias(\"coe\")).with_columns(\n",
    "    (pl.col(\"doe\")\n",
    "     - pl.col(\"coe\")\n",
    "     * 146097\n",
    ").alias(\"doc\")).with_columns(\n",
    "    ((pl.col(\"doc\")\n",
    "      - pl.col(\"doc\") // 1460\n",
    "      + pl.col(\"doc\") // 36524\n",
    "      - pl.col(\"doc\") // 146096\n",
    "     ) // 365\n",
    ").alias(\"yoc\")).with_columns(\n",
    "    (pl.col(\"yoc\") + pl.col(\"coe\") * 400\n",
    "    ).cast(pl.Int32).alias(\"yoe\"),\n",
    "    (pl.col(\"doc\") -\n",
    "     (pl.col(\"yoc\") * 365\n",
    "      + pl.col(\"yoc\") // 4\n",
    "      - pl.col(\"yoc\") // 100\n",
    "     )).alias(\"yda\"),\n",
    "    (pl.col(\"Eq of Time (minutes)\")\n",
    "     / 1.44\n",
    ").alias(\"eot\")).with_columns(\n",
    "    (pl.col(\"yda\")\n",
    "     / 365\n",
    "    ).alias(\"toy\")).with_columns(\n",
    "    pl.col(\"yda\")\n",
    "    .floor()\n",
    "    .cast(pl.Int32)\n",
    "    .alias(\"doy\")\n",
    ")"
   ]
  },
  {
   "cell_type": "code",
   "execution_count": null,
   "id": "c64b59e9-2dc8-411c-869d-a0f33aa0724e",
   "metadata": {},
   "outputs": [],
   "source": [
    "# simple Python function\n",
    "def unix2yd(unix):\n",
    "    doe = unix / 86400 + 719468\n",
    "    coe = (\n",
    "        doe if doe >= 0\n",
    "        else doe - 146096\n",
    "    ) // 146097\n",
    "    doc = doe - coe * 146097\n",
    "    yoc = (doc\n",
    "        - doc // 1460\n",
    "        + doc // 36524\n",
    "        - doc // 146096\n",
    "    ) // 365\n",
    "    return [\n",
    "        int(yoc + coe * 400),\n",
    "        doc - (yoc * 365\n",
    "            + yoc // 4\n",
    "            - yoc // 100\n",
    "    )]"
   ]
  }
 ],
 "metadata": {
  "kernelspec": {
   "display_name": "Python 3 (ipykernel)",
   "language": "python",
   "name": "python3"
  },
  "language_info": {
   "codemirror_mode": {
    "name": "ipython",
    "version": 3
   },
   "file_extension": ".py",
   "mimetype": "text/x-python",
   "name": "python",
   "nbconvert_exporter": "python",
   "pygments_lexer": "ipython3",
   "version": "3.13.5"
  }
 },
 "nbformat": 4,
 "nbformat_minor": 5
}
