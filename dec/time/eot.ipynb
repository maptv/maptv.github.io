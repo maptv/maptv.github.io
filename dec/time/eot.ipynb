{
 "cells": [
  {
   "cell_type": "code",
   "execution_count": 71,
   "id": "61f8aa5d-1fd2-473c-8e83-26f6cdcdc480",
   "metadata": {},
   "outputs": [],
   "source": [
    "import math\n",
    "from mpmath import sinpi, cospi, pi\n",
    "import numpy as np\n",
    "import pandas as pd\n",
    "from scipy.optimize import curve_fit\n",
    "import matplotlib.pyplot as plt"
   ]
  },
  {
   "cell_type": "code",
   "execution_count": 74,
   "id": "793dff3c-4bc1-40dd-9d03-7d2663db0db3",
   "metadata": {},
   "outputs": [],
   "source": [
    "df = pd.read_excel(\n",
    "    \"https://gml.noaa.gov/grad/solcalc/NOAA_Solar_Calculations_year.xls\",\n",
    "    parse_dates=[\"Date\"],\n",
    "    skiprows=[366],\n",
    ")"
   ]
  },
  {
   "cell_type": "code",
   "execution_count": 75,
   "id": "9cd98e3b-6890-4611-80f9-ead1e29f2448",
   "metadata": {},
   "outputs": [],
   "source": [
    "def unix2date(unix):\n",
    "    dote = unix / 86400 + 719468\n",
    "    cykl = (\n",
    "        dote if dote >= 0\n",
    "        else dote - 146096\n",
    "    ) // 146097\n",
    "    dotc = dote - cykl * 146097\n",
    "    yotc = (dotc\n",
    "        - dotc // 1460\n",
    "        + dotc // 36524\n",
    "        - dotc // 146096\n",
    "    ) // 365\n",
    "    return [\n",
    "        int(yotc + cykl * 400),\n",
    "        int(dotc - (yotc * 365\n",
    "            + yotc // 4\n",
    "            - yotc // 100))\n",
    "    ]"
   ]
  },
  {
   "cell_type": "code",
   "execution_count": 76,
   "id": "41db431f-3fb5-4b74-9a25-f536feaa2bcc",
   "metadata": {},
   "outputs": [],
   "source": [
    "df = pd.concat([\n",
    "    df,\n",
    "    pd.DataFrame(\n",
    "        [unix2date(d.timestamp()) for d in df[\"Date\"]],\n",
    "        columns=[\"year\", \"doy\"],\n",
    "    ),\n",
    "], axis=1).sort_values(\"doy\").reset_index()"
   ]
  },
  {
   "cell_type": "code",
   "execution_count": 89,
   "id": "0ec6f405-cede-4c2f-b4a3-ed858dee9a67",
   "metadata": {},
   "outputs": [],
   "source": [
    "df[\"original\"] = df[\"Eq of Time (minutes)\"] / 14.4"
   ]
  },
  {
   "cell_type": "code",
   "execution_count": 90,
   "id": "028e40bd-6bae-45dc-b1c8-8c8aa499f175",
   "metadata": {},
   "outputs": [],
   "source": [
    "df[\"radians\"] = math.tau * (df.index + 5) / 365"
   ]
  },
  {
   "cell_type": "code",
   "execution_count": 91,
   "id": "e4bf97ff-3d9f-4403-9ab3-659e0beca0c2",
   "metadata": {},
   "outputs": [],
   "source": [
    "df[\"yda\"] = df.index + 0.5"
   ]
  },
  {
   "cell_type": "code",
   "execution_count": 92,
   "id": "edeb4183-b6d3-42a4-9f8b-f8e3f22ecbb6",
   "metadata": {},
   "outputs": [],
   "source": [
    "df[\"toy\"] = df[\"yda\"] / 365"
   ]
  },
  {
   "cell_type": "code",
   "execution_count": 103,
   "id": "a09d3676-1c4a-44a0-a404-bb5b5e2f6e2c",
   "metadata": {},
   "outputs": [
    {
     "data": {
      "text/plain": [
       "mpf('1.0')"
      ]
     },
     "execution_count": 103,
     "metadata": {},
     "output_type": "execute_result"
    }
   ],
   "source": [
    "cospi(.5)"
   ]
  },
  {
   "cell_type": "code",
   "execution_count": 125,
   "id": "8105ddbb-b4f5-4ca6-af10-20f9c8458023",
   "metadata": {},
   "outputs": [],
   "source": [
    "costau = np.vectorize(lambda x: np.float64(cospi(2 * x)))"
   ]
  },
  {
   "cell_type": "code",
   "execution_count": 126,
   "id": "e2a54b44-487f-461a-9f36-52b4ef1f723b",
   "metadata": {},
   "outputs": [],
   "source": [
    "sintau = np.vectorize(lambda x: np.float64(sinpi(2 * x)))"
   ]
  },
  {
   "cell_type": "code",
   "execution_count": 127,
   "id": "29cd8bf9-c25f-4352-af3c-e654387b8c30",
   "metadata": {},
   "outputs": [
    {
     "data": {
      "text/plain": [
       "array([ 1.,  0., -1.,  0.,  1.])"
      ]
     },
     "execution_count": 127,
     "metadata": {},
     "output_type": "execute_result"
    }
   ],
   "source": [
    "costau([0, .25, .5, .75, 1])"
   ]
  },
  {
   "cell_type": "code",
   "execution_count": 128,
   "id": "9ba689d8-4f15-4bb0-93f1-d92b56027f39",
   "metadata": {},
   "outputs": [
    {
     "data": {
      "text/plain": [
       "array([ 0.,  1.,  0., -1.,  0.])"
      ]
     },
     "execution_count": 128,
     "metadata": {},
     "output_type": "execute_result"
    }
   ],
   "source": [
    "sintau([0, .25, .5, .75, 1])"
   ]
  },
  {
   "cell_type": "code",
   "execution_count": 129,
   "id": "977451cb-797a-4238-ad56-ed39bb746131",
   "metadata": {},
   "outputs": [],
   "source": [
    "def model(toy, p0, p1, p2, p3, p4):\n",
    "    return (\n",
    "        p0 +\n",
    "        p1 * costau(toy) +\n",
    "        p2 * sintau(toy) +\n",
    "        p3 * costau(2 * toy) +\n",
    "        p4 * sintau(2 * toy)\n",
    "    )"
   ]
  },
  {
   "cell_type": "code",
   "execution_count": 130,
   "id": "b060f012-df72-4b80-938e-d637fe8e64c6",
   "metadata": {},
   "outputs": [
    {
     "data": {
      "text/plain": [
       "np.float64(1.1442262445226046)"
      ]
     },
     "execution_count": 130,
     "metadata": {},
     "output_type": "execute_result"
    }
   ],
   "source": [
    "df[\"original\"].max()"
   ]
  },
  {
   "cell_type": "code",
   "execution_count": 131,
   "id": "e0ea9ac2-c600-472b-a494-54b79317dad4",
   "metadata": {},
   "outputs": [
    {
     "data": {
      "text/plain": [
       "{0: 0.00014949317633417003,\n",
       " 1: -0.4164553809136968,\n",
       " 2: -0.2959657573651431,\n",
       " 3: -0.46578504463469605,\n",
       " 4: 0.5096179567359089}"
      ]
     },
     "execution_count": 131,
     "metadata": {},
     "output_type": "execute_result"
    }
   ],
   "source": [
    "#| label: eot\n",
    "popt, pcov = curve_fit(model, df[\"toy\"], df[\"original\"])\n",
    "dict(enumerate(popt.tolist()))"
   ]
  },
  {
   "cell_type": "code",
   "execution_count": 135,
   "id": "f34a0853-7f00-4138-853a-a0582c16b467",
   "metadata": {},
   "outputs": [],
   "source": [
    "df[\"fitted\"] = [model(r, *popt) for r in df[\"toy\"]]"
   ]
  },
  {
   "cell_type": "code",
   "execution_count": 136,
   "id": "43d9dd27-b090-447c-adda-d9c074744c7a",
   "metadata": {},
   "outputs": [
    {
     "data": {
      "text/plain": [
       "np.float64(1.1399832338998561)"
      ]
     },
     "execution_count": 136,
     "metadata": {},
     "output_type": "execute_result"
    }
   ],
   "source": [
    "df[\"fitted\"].max()"
   ]
  },
  {
   "cell_type": "code",
   "execution_count": 137,
   "id": "0a5fda8d-30f2-4d5c-b2d1-1d1540a2ac29",
   "metadata": {},
   "outputs": [
    {
     "data": {
      "text/plain": [
       "np.float64(-0.9837839258210404)"
      ]
     },
     "execution_count": 137,
     "metadata": {},
     "output_type": "execute_result"
    }
   ],
   "source": [
    "df[\"fitted\"].min()"
   ]
  },
  {
   "cell_type": "code",
   "execution_count": 99,
   "id": "d7ab16f9-c816-47cf-9134-db96f730bae1",
   "metadata": {},
   "outputs": [],
   "source": [
    "plotopts = {\"linewidth\": 3, \"legend\": True}"
   ]
  },
  {
   "cell_type": "code",
   "execution_count": 100,
   "id": "f489afdc-f60b-4a1e-ac6e-0cab586e945c",
   "metadata": {
    "scrolled": true
   },
   "outputs": [
    {
     "data": {
      "image/png": "[encoded data removed]",
      "text/plain": [
       "<Figure size 640x480 with 1 Axes>"
      ]
     },
     "metadata": {},
     "output_type": "display_data"
    }
   ],
   "source": [
    "df[\"original\"].plot(\n",
    "    xlabel=\"Day of year\",\n",
    "    ylabel=r\"Apparent solar time $-$ Mean solar time\",\n",
    "    **plotopts\n",
    ")\n",
    "df[\"fitted\"].plot(linestyle=\"--\", **plotopts);"
   ]
  },
  {
   "cell_type": "code",
   "execution_count": 138,
   "id": "57579d33-99b9-4582-aa3b-476fb06daa4f",
   "metadata": {},
   "outputs": [],
   "source": [
    "df[\"original\"] = df[\"Sun Declin (deg)\"] * np.pi / 180"
   ]
  },
  {
   "cell_type": "code",
   "execution_count": 139,
   "id": "841964eb-ae9b-46cf-b1d8-e38e1e6dc555",
   "metadata": {},
   "outputs": [
    {
     "data": {
      "text/plain": [
       "{0: 0.006878449299022284,\n",
       " 1: -0.14604479333954493,\n",
       " 2: 0.3786874196695894,\n",
       " 3: 0.0038625213245645435,\n",
       " 4: 0.00562916502784165}"
      ]
     },
     "execution_count": 139,
     "metadata": {},
     "output_type": "execute_result"
    }
   ],
   "source": [
    "#| label: sda\n",
    "popt, pcov = curve_fit(model, df[\"toy\"], df[\"original\"])\n",
    "dict(enumerate(popt.tolist()))"
   ]
  },
  {
   "cell_type": "code",
   "execution_count": 140,
   "id": "57464e53-aaa7-4a92-af38-aeffa82d8777",
   "metadata": {},
   "outputs": [],
   "source": [
    "df[\"fitted\"] = [model(r, *popt) for r in df[\"toy\"]]"
   ]
  },
  {
   "cell_type": "code",
   "execution_count": 141,
   "id": "1330a11e-914c-4dd8-b621-57e99e40710e",
   "metadata": {},
   "outputs": [
    {
     "data": {
      "image/png": "[encoded data removed]",
      "text/plain": [
       "<Figure size 640x480 with 1 Axes>"
      ]
     },
     "metadata": {},
     "output_type": "display_data"
    }
   ],
   "source": [
    "df[\"original\"].plot(\n",
    "    xlabel=\"Day of year\",\n",
    "    ylabel=r\"Apparent solar time $-$ Mean solar time\",\n",
    "    **plotopts\n",
    ")\n",
    "df[\"fitted\"].plot(linestyle=\"--\", **plotopts);"
   ]
  },
  {
   "cell_type": "code",
   "execution_count": 142,
   "id": "29003154-2abd-424d-ba63-436167cc2ae7",
   "metadata": {},
   "outputs": [],
   "source": [
    "sza = 90.833 * np.pi / 180"
   ]
  },
  {
   "cell_type": "code",
   "execution_count": 143,
   "id": "b07442bd-11eb-46b0-811f-8408a3c56bd1",
   "metadata": {},
   "outputs": [
    {
     "data": {
      "text/plain": [
       "1.5853349194640092"
      ]
     },
     "execution_count": 143,
     "metadata": {},
     "output_type": "execute_result"
    }
   ],
   "source": [
    "sza"
   ]
  },
  {
   "cell_type": "code",
   "execution_count": 34,
   "id": "49867034-f3ab-4bb1-adc2-889250e01d27",
   "metadata": {},
   "outputs": [
    {
     "name": "stdout",
     "output_type": "stream",
     "text": [
      "Min: -0.09837957051521798\n",
      "Max: 0.11400512162142407\n"
     ]
    }
   ],
   "source": [
    "import numpy as np\n",
    "from scipy.optimize import root_scalar\n",
    "\n",
    "# coefficients\n",
    "p0, p1, p2, p3, p4 = (\n",
    "    1.4950424467725955e-05,\n",
    "    -0.04189873301524992,\n",
    "    -0.02923703633324393,\n",
    "    -0.0456943801628261,\n",
    "    0.05175601752530743\n",
    ")\n",
    "\n",
    "def f(gamma):\n",
    "    return (p0 +\n",
    "            p1*np.cos(gamma) +\n",
    "            p2*np.sin(gamma) +\n",
    "            p3*np.cos(2*gamma) +\n",
    "            p4*np.sin(2*gamma))\n",
    "\n",
    "def df(gamma):\n",
    "    return (-p1*np.sin(gamma) +\n",
    "            p2*np.cos(gamma) -\n",
    "            2*p3*np.sin(2*gamma) +\n",
    "            2*p4*np.cos(2*gamma))\n",
    "\n",
    "# scan for roots of derivative\n",
    "critical_points = []\n",
    "grid = np.linspace(0, 2*np.pi, 1000)\n",
    "sign_changes = np.where(np.sign(df(grid[:-1])) != np.sign(df(grid[1:])))[0]\n",
    "\n",
    "for idx in sign_changes:\n",
    "    bracket = (grid[idx], grid[idx+1])\n",
    "    try:\n",
    "        sol = root_scalar(df, bracket=bracket)\n",
    "        if sol.converged:\n",
    "            critical_points.append(sol.root)\n",
    "    except:\n",
    "        pass\n",
    "\n",
    "# include boundaries\n",
    "critical_points.extend([0, 2*np.pi])\n",
    "\n",
    "# evaluate\n",
    "values = [f(g) for g in critical_points]\n",
    "fmin, fmax = min(values), max(values)\n",
    "\n",
    "print(\"Min:\", fmin)\n",
    "print(\"Max:\", fmax)"
   ]
  },
  {
   "cell_type": "code",
   "execution_count": null,
   "id": "48f8d32a-66fd-4b55-8fd2-9f85466c9e84",
   "metadata": {},
   "outputs": [],
   "source": []
  }
 ],
 "metadata": {
  "kernelspec": {
   "display_name": "Python 3 (ipykernel)",
   "language": "python",
   "name": "python3"
  },
  "language_info": {
   "codemirror_mode": {
    "name": "ipython",
    "version": 3
   },
   "file_extension": ".py",
   "mimetype": "text/x-python",
   "name": "python",
   "nbconvert_exporter": "python",
   "pygments_lexer": "ipython3",
   "version": "3.13.5"
  }
 },
 "nbformat": 4,
 "nbformat_minor": 5
}
