{
  "cells": [
    {
      "cell_type": "markdown",
      "metadata": {},
      "source": [
        "# \n",
        "\n",
        "\\| [Martin Laptev]()  \n",
        "1725342595000"
      ],
      "id": "1bbf773c-9a8e-4cca-8947-e91eb86efa54"
    },
    {
      "cell_type": "code",
      "execution_count": 1,
      "metadata": {},
      "outputs": [],
      "source": [
        "def unix2doty(ms=0):\n",
        "    days = ms / 86400000 + 719468\n",
        "    dote = days - (cykl := (days if days >= 0 else days - 146096) // 146097) * 146097\n",
        "    year = int((dote - dote / 1460 + dote / 36524 - dote / 146096) // 365 + cykl * 400)\n",
        "    return year, days - (year * 365 + year / 4 - year / 100 + year / 400) // 1"
      ],
      "id": "bc2abfec-df7e-4b9c-a6c8-f11da4dd9efe"
    }
  ],
  "nbformat": 4,
  "nbformat_minor": 5,
  "metadata": {
    "kernelspec": {
      "name": "python3",
      "display_name": "Python 3 (ipykernel)",
      "language": "python"
    },
    "language_info": {
      "name": "python",
      "codemirror_mode": {
        "name": "ipython",
        "version": "3"
      },
      "file_extension": ".py",
      "mimetype": "text/x-python",
      "nbconvert_exporter": "python",
      "pygments_lexer": "ipython3",
      "version": "3.12.3"
    }
  }
}