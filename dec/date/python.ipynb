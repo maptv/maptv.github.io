{
 "cells": [
  {
   "cell_type": "code",
   "execution_count": 1,
   "id": "bc2abfec-df7e-4b9c-a6c8-f11da4dd9efe",
   "metadata": {},
   "outputs": [],
   "source": [
    "def unix2doty(ms=0):\n",
    "    days = ms / 86400000 + 719468\n",
    "    dote = days - (cykl := (days if days >= 0 else days - 146096) // 146097) * 146097\n",
    "    year = int((dote - dote / 1460 + dote / 36524 - dote / 146096) // 365 + cykl * 400)\n",
    "    return year, days - (year * 365 + year / 4 - year / 100 + year / 400) // 1"
   ]
  },
  {
   "cell_type": "code",
   "execution_count": null,
   "id": "aaa65a51-41eb-41a7-8598-9938afbdb43f",
   "metadata": {},
   "outputs": [],
   "source": []
  }
 ],
 "metadata": {
  "kernelspec": {
   "display_name": "Python 3 (ipykernel)",
   "language": "python",
   "name": "python3"
  },
  "language_info": {
   "codemirror_mode": {
    "name": "ipython",
    "version": 3
   },
   "file_extension": ".py",
   "mimetype": "text/x-python",
   "name": "python",
   "nbconvert_exporter": "python",
   "pygments_lexer": "ipython3",
   "version": "3.12.3"
  }
 },
 "nbformat": 4,
 "nbformat_minor": 5
}
