{
 "cells": [
  {
   "cell_type": "markdown",
   "id": "3143c961",
   "metadata": {},
   "source": [
    "# Ordinal date\n",
    "\n",
    "\\| [Martin Laptev]()  \n",
    "2024+192\n",
    "\n",
    "My site is full of dates in the `year+day` format. The major advantage\n",
    "of this format is that the `day` component can unequivocally identify\n",
    "any date and time in a given year and thus can replace months, days of\n",
    "the month, hours, minutes, and seconds. In essence, the `day` number can\n",
    "To create all of the dates, I use three different programming languages:\n",
    "Python for the [listing page](../../list), Lua for the Published date at\n",
    "the top of each article, and JavaScript for the citation information at\n",
    "the bottom of each article.\n",
    "\n",
    "To test the code, I will create a separate Quarto markdown (`qmd`) file\n",
    "for each of these 3 programming languages and\n",
    "[embed](https://quarto.org/docs/authoring/notebook-embed.html#overview)\n",
    "them into this `qmd` file.\n",
    "\n",
    "# R"
   ]
  },
  {
   "cell_type": "code",
   "execution_count": 1,
   "id": "621ff38d",
   "metadata": {
    "execution": {
     "iopub.execute_input": "2024-09-09T03:16:25.236040Z",
     "iopub.status.busy": "2024-09-09T03:16:25.233572Z",
     "iopub.status.idle": "2024-09-09T03:16:25.279298Z",
     "shell.execute_reply": "2024-09-09T03:16:25.278477Z"
    },
    "tags": [
     "r",
     "func"
    ]
   },
   "outputs": [],
   "source": [
    "unix2doty <- function(unix) {\n",
    "  dote = unix / 86400 + 719468\n",
    "  cykl = ifelse(\n",
    "    dote >= 0, dote,\n",
    "    dote - 146096\n",
    "  ) %/% 146097\n",
    "  dotc = dote - cykl * 146097\n",
    "  yotc = (\n",
    "    dotc - dotc %/% 1460\n",
    "    + dotc %/% 36524\n",
    "    - dotc %/% 146096\n",
    "  ) %/% 365\n",
    "  c(\n",
    "    yotc + cykl * 400,\n",
    "    dotc - (yotc * 365\n",
    "      + yotc %/% 4\n",
    "      - yotc %/% 100\n",
    "))}"
   ]
  },
  {
   "cell_type": "code",
   "execution_count": 2,
   "id": "5ed47ea6",
   "metadata": {
    "execution": {
     "iopub.execute_input": "2024-09-09T03:16:25.292943Z",
     "iopub.status.busy": "2024-09-09T03:16:25.281471Z",
     "iopub.status.idle": "2024-09-09T03:16:25.302155Z",
     "shell.execute_reply": "2024-09-09T03:16:25.301610Z"
    },
    "tags": [
     "r",
     "out0"
    ]
   },
   "outputs": [
    {
     "data": {
      "text/html": [
       "<style>\n",
       ".list-inline {list-style: none; margin:0; padding: 0}\n",
       ".list-inline>li {display: inline-block}\n",
       ".list-inline>li:not(:last-child)::after {content: \"\\00b7\"; padding: 0 .5ex}\n",
       "</style>\n",
       "<ol class=list-inline><li>2024</li><li>217</li></ol>\n"
      ],
      "text/latex": [
       "\\begin{enumerate*}\n",
       "\\item 2024\n",
       "\\item 217\n",
       "\\end{enumerate*}\n"
      ],
      "text/markdown": [
       "1. 2024\n",
       "2. 217\n",
       "\n",
       "\n"
      ],
      "text/plain": [
       "[1] 2024  217"
      ]
     },
     "metadata": {},
     "output_type": "display_data"
    }
   ],
   "source": [
    "unix2doty(1728000000)"
   ]
  },
  {
   "cell_type": "code",
   "execution_count": 3,
   "id": "97650213",
   "metadata": {
    "execution": {
     "iopub.execute_input": "2024-09-09T03:16:25.303775Z",
     "iopub.status.busy": "2024-09-09T03:16:25.303395Z",
     "iopub.status.idle": "2024-09-09T03:16:25.308305Z",
     "shell.execute_reply": "2024-09-09T03:16:25.307902Z"
    },
    "tags": [
     "r",
     "out1"
    ]
   },
   "outputs": [
    {
     "data": {
      "text/html": [
       "<style>\n",
       ".list-inline {list-style: none; margin:0; padding: 0}\n",
       ".list-inline>li {display: inline-block}\n",
       ".list-inline>li:not(:last-child)::after {content: \"\\00b7\"; padding: 0 .5ex}\n",
       "</style>\n",
       "<ol class=list-inline><li>2029</li><li>266</li></ol>\n"
      ],
      "text/latex": [
       "\\begin{enumerate*}\n",
       "\\item 2029\n",
       "\\item 266\n",
       "\\end{enumerate*}\n"
      ],
      "text/markdown": [
       "1. 2029\n",
       "2. 266\n",
       "\n",
       "\n"
      ],
      "text/plain": [
       "[1] 2029  266"
      ]
     },
     "metadata": {},
     "output_type": "display_data"
    }
   ],
   "source": [
    "unix2doty(1890000000)"
   ]
  }
 ],
 "metadata": {
  "kernelspec": {
   "display_name": "R",
   "language": "R",
   "name": "ir"
  },
  "language_info": {
   "codemirror_mode": "r",
   "file_extension": ".r",
   "mimetype": "text/x-r-source",
   "name": "R",
   "pygments_lexer": "r",
   "version": "4.4.0"
  }
 },
 "nbformat": 4,
 "nbformat_minor": 5
}
