{
  "cells": [
    {
      "cell_type": "markdown",
      "metadata": {},
      "source": [
        "# Ordinal date\n",
        "\n",
        "\\| [Martin Laptev]()  \n",
        "2024+192\n",
        "\n",
        "My site is full of dates in the `year+day` format. The major advantage\n",
        "of this format is that the `day` component can unequivocally identify\n",
        "any date and time in a given year and thus can replace months, days of\n",
        "the month, hours, minutes, and seconds. In essence, the `day` number can\n",
        "To create all of the dates, I use three different programming languages:\n",
        "Python for the [listing page](../../list), Lua for the Published date at\n",
        "the top of each article, and JavaScript for the citation information at\n",
        "the bottom of each article.\n",
        "\n",
        "To test the code, I will create a separate Quarto markdown (`qmd`) file\n",
        "for each of these 3 programming languages and\n",
        "[embed](https://quarto.org/docs/authoring/notebook-embed.html#overview)\n",
        "them into this `qmd` file.\n",
        "\n",
        "# JavaScript"
      ],
      "id": "17822c38-5a78-4b03-8147-3a63dbc7f474"
    },
    {
      "cell_type": "code",
      "execution_count": null,
      "metadata": {
        "tags": [
          "js",
          "func"
        ]
      },
      "outputs": [],
      "source": [
        "function unix2doty(unix) {\n",
        "  const dote = unix / 86400 + 719468,\n",
        "    cykl = Math.floor((\n",
        "      dote >= 0 ? dote\n",
        "      : dote - 146096\n",
        "    ) / 146097),\n",
        "  dotc = dote - cykl * 146097,\n",
        "  yotc = Math.floor((dotc\n",
        "    - Math.floor(dotc / 1460)\n",
        "    + Math.floor(dotc / 36524)\n",
        "    - Math.floor(dotc / 146096)\n",
        "  ) / 365);\n",
        "  return [\n",
        "    yotc + cykl * 400,\n",
        "    dotc - (yotc * 365\n",
        "      + Math.floor(yotc / 4)\n",
        "      - Math.floor(yotc / 100)\n",
        "  )]}"
      ],
      "id": "6741ec29-89a0-4adf-b89a-f202cfe69653"
    },
    {
      "cell_type": "code",
      "execution_count": null,
      "metadata": {
        "tags": [
          "js",
          "out0"
        ]
      },
      "outputs": [],
      "source": [
        "unix2doty(1728000000)"
      ],
      "id": "d388c2ef-2500-4095-a65f-efd45c3ec644"
    },
    {
      "cell_type": "code",
      "execution_count": null,
      "metadata": {
        "tags": [
          "js",
          "out1"
        ]
      },
      "outputs": [],
      "source": [
        "unix2doty(1890000000)"
      ],
      "id": "e2cb96f1-f7fe-48d3-ba93-9a9f2dbb0be1"
    }
  ],
  "nbformat": 4,
  "nbformat_minor": 5,
  "metadata": {
    "kernelspec": {
      "display_name": "Python 3",
      "language": "python",
      "name": "python3"
    }
  }
}