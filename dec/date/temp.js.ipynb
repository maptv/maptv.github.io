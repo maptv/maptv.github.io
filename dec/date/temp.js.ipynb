{
 "cells": [
  {
   "cell_type": "markdown",
   "id": "0b575814-c9cc-451e-b71d-a581a9c85a81",
   "metadata": {},
   "source": [
    "# Ordinal date\n",
    "\n",
    "\\| [Martin Laptev]()  \n",
    "2024+189\n",
    "\n",
    "My site is full of dates in the `year+day` format. The major advantage\n",
    "of this format is that the `day` component can unequivocally identify\n",
    "any date and time in a given year and thus can replace months, days of\n",
    "the month, hours, minutes, and seconds. In essence, the `day` number can\n",
    "To create all of the dates, I use three different programming languages:\n",
    "Python for the [listing page](../../list), Lua for the Published date at\n",
    "the top of each article, and JavaScript for the citation information at\n",
    "the bottom of each article.\n",
    "\n",
    "To test the code, I will create a separate Quarto markdown (`qmd`) file\n",
    "for each of these 3 programming languages and\n",
    "[embed](https://quarto.org/docs/authoring/notebook-embed.html#overview)\n",
    "them into this `qmd` file.\n",
    "\n",
    "# JavaScript"
   ]
  },
  {
   "cell_type": "code",
   "execution_count": 1,
   "id": "2ea1cab9",
   "metadata": {
    "tags": [
     "func"
    ]
   },
   "outputs": [],
   "source": [
    "function unix2doty(unix) {\n",
    "  const dote = unix / 86400 + 719468,\n",
    "    cykl = Math.floor((\n",
    "      dote >= 0 ? dote\n",
    "      : dote - 146096\n",
    "    ) / 146097),\n",
    "  dotc = dote - cykl * 146097,\n",
    "  yotc = Math.floor((dotc\n",
    "    - Math.floor(dotc / 1460)\n",
    "    + Math.floor(dotc / 36524)\n",
    "    - Math.floor(dotc / 146096)\n",
    "  ) / 365);\n",
    "  return [\n",
    "    yotc + cykl * 400,\n",
    "    dotc - (yotc * 365\n",
    "      + Math.floor(yotc / 4)\n",
    "      - Math.floor(yotc / 100)\n",
    "  )]}"
   ]
  },
  {
   "cell_type": "code",
   "execution_count": 2,
   "id": "9119856a",
   "metadata": {
    "tags": [
     "out0"
    ]
   },
   "outputs": [],
   "source": [
    "unix2doty(1728000000)"
   ]
  },
  {
   "cell_type": "code",
   "execution_count": 3,
   "id": "396833b0",
   "metadata": {
    "tags": [
     "out1"
    ]
   },
   "outputs": [],
   "source": [
    "unix2doty(1890000000)"
   ]
  }
 ],
 "metadata": {
  "kernelspec": {
   "display_name": "Deno",
   "language": "typescript",
   "name": "deno"
  },
  "language_info": {
   "file_extension": ".ts",
   "mimetype": "text/x.typescript",
   "name": "typescript",
   "nb_converter": "script",
   "pygments_lexer": "typescript",
   "version": "5.4.3"
  }
 },
 "nbformat": 4,
 "nbformat_minor": 5
}
