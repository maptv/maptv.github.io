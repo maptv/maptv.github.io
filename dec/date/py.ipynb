{
 "cells": [
  {
   "cell_type": "code",
   "execution_count": 129,
   "id": "7e8773bb-2923-4806-b39d-d450eaaee222",
   "metadata": {},
   "outputs": [
    {
     "data": {
      "text/plain": [
       "[2024, 217.0]"
      ]
     },
     "execution_count": 129,
     "metadata": {},
     "output_type": "execute_result"
    }
   ],
   "source": [
    "def unix2date(unix):\n",
    "    return dote2date(unix / 86400 + 719468)\n",
    "unix2date(1728000000)"
   ]
  },
  {
   "cell_type": "code",
   "execution_count": 148,
   "id": "4114c385-1120-405a-a043-8ec2bd69cf86",
   "metadata": {},
   "outputs": [
    {
     "data": {
      "text/plain": [
       "739468.0"
      ]
     },
     "execution_count": 148,
     "metadata": {},
     "output_type": "execute_result"
    }
   ],
   "source": [
    "def unix2dote(unix):\n",
    "    return unix / 86400 + 719468\n",
    "unix2dote(1728000000)"
   ]
  },
  {
   "cell_type": "code",
   "execution_count": 146,
   "id": "b6ae3c82-89df-435e-b48c-0bb5227af4cb",
   "metadata": {},
   "outputs": [
    {
     "data": {
      "text/plain": [
       "[1969, 306]"
      ]
     },
     "execution_count": 146,
     "metadata": {},
     "output_type": "execute_result"
    }
   ],
   "source": [
    "def dote2date(dote):\n",
    "    socy = (\n",
    "        dote if dote >= 0\n",
    "        else dote - 146096\n",
    "    ) // 146097\n",
    "    dotc = dote - socy * 146097\n",
    "    yotc = (dotc\n",
    "        - dotc // 1460\n",
    "        + dotc // 36524\n",
    "        - dotc // 146096\n",
    "    ) // 365\n",
    "    return [\n",
    "        int(yotc + socy * 400),\n",
    "        dotc - (yotc * 365\n",
    "            + yotc // 4\n",
    "            - yotc // 100\n",
    "    )]\n",
    "dote2date(719468)"
   ]
  },
  {
   "cell_type": "code",
   "execution_count": 147,
   "id": "bf432a86-a4ed-4616-abbc-40afb03eb91d",
   "metadata": {},
   "outputs": [
    {
     "data": {
      "text/plain": [
       "[2029, 266.0]"
      ]
     },
     "execution_count": 147,
     "metadata": {},
     "output_type": "execute_result"
    }
   ],
   "source": [
    "unix2date(1890000000)"
   ]
  },
  {
   "cell_type": "code",
   "execution_count": 122,
   "id": "017037bf-c8fb-4be8-b645-f631d95301cb",
   "metadata": {},
   "outputs": [],
   "source": [
    "def date2yote(year, doty):\n",
    "    return year + doty / (365 + year2leap(year))"
   ]
  },
  {
   "cell_type": "code",
   "execution_count": 123,
   "id": "da9c4512-441d-42c5-90a7-86b4ed653908",
   "metadata": {},
   "outputs": [],
   "source": [
    "def year2leap(year=1970):\n",
    "    year += 1\n",
    "    return year % 4 == 0 and year % 100 != 0 or year % 400 == 0"
   ]
  },
  {
   "cell_type": "code",
   "execution_count": 124,
   "id": "ef7dbbef-13c8-4eb7-bdfc-51355020e32c",
   "metadata": {},
   "outputs": [],
   "source": [
    "def date2dote(year, doty):\n",
    "    if year >= 0:\n",
    "        return year * 365 + year // 4 - year // 100 + year // 400 + doty\n",
    "    yotc = year - (socy := (year - 399) // 400) * 400\n",
    "    return socy * 146097 + yotc * 365 + yotc // 4 - yotc // 100 + doty"
   ]
  },
  {
   "cell_type": "code",
   "execution_count": 142,
   "id": "bb962181-1ea6-4dc6-8147-c82655a83374",
   "metadata": {
    "scrolled": true
   },
   "outputs": [
    {
     "data": {
      "text/plain": [
       "3688.5"
      ]
     },
     "execution_count": 142,
     "metadata": {},
     "output_type": "execute_result"
    }
   ],
   "source": [
    "date2dote(10.1, 0)"
   ]
  },
  {
   "cell_type": "code",
   "execution_count": 145,
   "id": "67d23c8c-002a-4bb0-ab74-ab33907ee4eb",
   "metadata": {},
   "outputs": [
    {
     "data": {
      "text/plain": [
       "10.1"
      ]
     },
     "execution_count": 145,
     "metadata": {},
     "output_type": "execute_result"
    }
   ],
   "source": [
    "date2yote(10, 36.5)"
   ]
  },
  {
   "cell_type": "code",
   "execution_count": 143,
   "id": "8a91205d-a674-4735-a42c-21a3364486dc",
   "metadata": {},
   "outputs": [
    {
     "data": {
      "text/plain": [
       "[10, 36.5]"
      ]
     },
     "execution_count": 143,
     "metadata": {},
     "output_type": "execute_result"
    }
   ],
   "source": [
    "dote2date(3688.5)"
   ]
  }
 ],
 "metadata": {
  "kernelspec": {
   "display_name": "Python 3 (ipykernel)",
   "language": "python",
   "name": "python3"
  },
  "language_info": {
   "codemirror_mode": {
    "name": "ipython",
    "version": 3
   },
   "file_extension": ".py",
   "mimetype": "text/x-python",
   "name": "python",
   "nbconvert_exporter": "python",
   "pygments_lexer": "ipython3",
   "version": "3.12.3"
  }
 },
 "nbformat": 4,
 "nbformat_minor": 5
}
