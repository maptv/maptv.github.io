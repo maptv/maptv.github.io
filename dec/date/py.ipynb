{
 "cells": [
  {
   "cell_type": "code",
   "execution_count": 129,
   "id": "7e8773bb-2923-4806-b39d-d450eaaee222",
   "metadata": {},
   "outputs": [
    {
     "data": {
      "text/plain": [
       "[2024, 217.0]"
      ]
     },
     "execution_count": 129,
     "metadata": {},
     "output_type": "execute_result"
    }
   ],
   "source": [
    "def unix2date(unix):\n",
    "    return dote2date(unix / 86400 + 719468)\n",
    "unix2date(1728000000)"
   ]
  },
  {
   "cell_type": "code",
   "execution_count": 7,
   "id": "d865c131",
   "metadata": {},
   "outputs": [
    {
     "data": {
      "text/plain": [
       "3"
      ]
     },
     "execution_count": null,
     "metadata": {},
     "output_type": "execute_result"
    }
   ],
   "source": [
    "(-14 +3) % 7"
   ]
  },
  {
   "cell_type": "code",
   "execution_count": 5,
   "id": "89e14dbe",
   "metadata": {},
   "outputs": [
    {
     "data": {
      "text/plain": [
       "4"
      ]
     },
     "execution_count": null,
     "metadata": {},
     "output_type": "execute_result"
    }
   ],
   "source": [
    "-3 % 7"
   ]
  },
  {
   "cell_type": "code",
   "execution_count": 6,
   "id": "f7af4d4e",
   "metadata": {},
   "outputs": [
    {
     "data": {
      "text/plain": [
       "3"
      ]
     },
     "execution_count": null,
     "metadata": {},
     "output_type": "execute_result"
    }
   ],
   "source": [
    "3 % 4"
   ]
  },
  {
   "cell_type": "code",
   "execution_count": 6,
   "id": "4114c385-1120-405a-a043-8ec2bd69cf86",
   "metadata": {},
   "outputs": [
    {
     "data": {
      "text/plain": [
       "739468.0"
      ]
     },
     "execution_count": 6,
     "metadata": {},
     "output_type": "execute_result"
    }
   ],
   "source": [
    "def unix2dote(unix):\n",
    "    return unix / 86400 + 719468\n",
    "unix2dote(1728000000)"
   ]
  },
  {
   "cell_type": "code",
   "execution_count": 13,
   "id": "ba866856-3e06-46c5-83c4-f6cbe9aa8178",
   "metadata": {},
   "outputs": [],
   "source": [
    "from datetime import date\n",
    "from time import time"
   ]
  },
  {
   "cell_type": "code",
   "execution_count": 18,
   "id": "95ecac64-5207-43eb-a792-d75316f02e48",
   "metadata": {},
   "outputs": [],
   "source": [
    "a = unix2dote(time()) // 1"
   ]
  },
  {
   "cell_type": "code",
   "execution_count": 19,
   "id": "ab6a0c43-8104-49ec-9a85-5f878ed001e0",
   "metadata": {},
   "outputs": [],
   "source": [
    "b = date.today().toordinal()"
   ]
  },
  {
   "cell_type": "code",
   "execution_count": 21,
   "id": "44fa3ff8-06de-4747-a196-6dd54e9155f7",
   "metadata": {},
   "outputs": [
    {
     "data": {
      "text/plain": [
       "305.0"
      ]
     },
     "execution_count": 21,
     "metadata": {},
     "output_type": "execute_result"
    }
   ],
   "source": [
    "a - b"
   ]
  },
  {
   "cell_type": "code",
   "execution_count": 22,
   "id": "2a98b458-8db5-45b2-923f-adda7972533d",
   "metadata": {},
   "outputs": [
    {
     "data": {
      "text/plain": [
       "739473.0"
      ]
     },
     "execution_count": 22,
     "metadata": {},
     "output_type": "execute_result"
    }
   ],
   "source": [
    "a"
   ]
  },
  {
   "cell_type": "code",
   "execution_count": 23,
   "id": "6be63d14-7102-4c47-a35a-1aef8408c922",
   "metadata": {},
   "outputs": [
    {
     "data": {
      "text/plain": [
       "739168"
      ]
     },
     "execution_count": 23,
     "metadata": {},
     "output_type": "execute_result"
    }
   ],
   "source": [
    "b"
   ]
  },
  {
   "cell_type": "code",
   "execution_count": null,
   "id": "12ac0186-51ab-4251-b48f-18ab18cc207a",
   "metadata": {},
   "outputs": [],
   "source": []
  },
  {
   "cell_type": "code",
   "execution_count": 12,
   "id": "e6c4bca8-1a0a-4adf-8d9b-58efac131754",
   "metadata": {},
   "outputs": [
    {
     "data": {
      "text/plain": [
       "time.struct_time(tm_year=2024, tm_mon=10, tm_mday=9, tm_hour=0, tm_min=0, tm_sec=0, tm_wday=2, tm_yday=283, tm_isdst=-1)"
      ]
     },
     "execution_count": 12,
     "metadata": {},
     "output_type": "execute_result"
    }
   ],
   "source": [
    "date.timetuple(date.today())"
   ]
  },
  {
   "cell_type": "code",
   "execution_count": 27,
   "id": "b6ae3c82-89df-435e-b48c-0bb5227af4cb",
   "metadata": {},
   "outputs": [
    {
     "data": {
      "text/plain": [
       "[1969, 306]"
      ]
     },
     "execution_count": 27,
     "metadata": {},
     "output_type": "execute_result"
    }
   ],
   "source": [
    "def dote2date(dote):\n",
    "    socy = (\n",
    "        dote if dote >= 0\n",
    "        else dote - 146096\n",
    "    ) // 146097\n",
    "    dotc = dote - socy * 146097\n",
    "    yotc = (dotc\n",
    "        - dotc // 1460\n",
    "        + dotc // 36524\n",
    "        - dotc // 146096\n",
    "    ) // 365\n",
    "    return [\n",
    "        int(yotc + socy * 400),\n",
    "        dotc - (yotc * 365\n",
    "            + yotc // 4\n",
    "            - yotc // 100\n",
    "    )]\n",
    "dote2date(719468)"
   ]
  },
  {
   "cell_type": "code",
   "execution_count": 28,
   "id": "5adeaebb-1644-49e6-83db-8c9efb6ae367",
   "metadata": {},
   "outputs": [
    {
     "data": {
      "text/plain": [
       "[2000, 0]"
      ]
     },
     "execution_count": 28,
     "metadata": {},
     "output_type": "execute_result"
    }
   ],
   "source": [
    "dote2date(730485)"
   ]
  },
  {
   "cell_type": "code",
   "execution_count": 30,
   "id": "60a73322-6ba9-4ba7-9ad8-7f52229f4bfb",
   "metadata": {},
   "outputs": [
    {
     "data": {
      "text/plain": [
       "[2400, 0]"
      ]
     },
     "execution_count": 30,
     "metadata": {},
     "output_type": "execute_result"
    }
   ],
   "source": [
    "dote2date(876582)"
   ]
  },
  {
   "cell_type": "code",
   "execution_count": 147,
   "id": "bf432a86-a4ed-4616-abbc-40afb03eb91d",
   "metadata": {},
   "outputs": [
    {
     "data": {
      "text/plain": [
       "[2029, 266.0]"
      ]
     },
     "execution_count": 147,
     "metadata": {},
     "output_type": "execute_result"
    }
   ],
   "source": [
    "unix2date(1890000000)"
   ]
  },
  {
   "cell_type": "code",
   "execution_count": 122,
   "id": "017037bf-c8fb-4be8-b645-f631d95301cb",
   "metadata": {},
   "outputs": [],
   "source": [
    "def date2yote(year, doty):\n",
    "    return year + doty / (365 + year2leap(year))"
   ]
  },
  {
   "cell_type": "code",
   "execution_count": 50,
   "id": "da9c4512-441d-42c5-90a7-86b4ed653908",
   "metadata": {},
   "outputs": [],
   "source": [
    "def leap(year=1970):\n",
    "    return year % 4 == 0 and year % 100 != 0 or year % 400 == 0"
   ]
  },
  {
   "cell_type": "code",
   "execution_count": 62,
   "id": "403c53f7-9241-40f1-b09a-8be6390a7880",
   "metadata": {},
   "outputs": [],
   "source": [
    "def leap1(year=1970):\n",
    "    return 0 if year % 4 or not year % 100 and year % 400 else 1"
   ]
  },
  {
   "cell_type": "code",
   "execution_count": 63,
   "id": "a6672254-0953-4e34-867d-cb113fc0ff54",
   "metadata": {
    "scrolled": true
   },
   "outputs": [
    {
     "data": {
      "text/plain": [
       "1"
      ]
     },
     "execution_count": 63,
     "metadata": {},
     "output_type": "execute_result"
    }
   ],
   "source": [
    "leap1(0)"
   ]
  },
  {
   "cell_type": "code",
   "execution_count": 64,
   "id": "1c8e6064-01cb-445e-82f1-285a1e0f1c65",
   "metadata": {
    "scrolled": true
   },
   "outputs": [
    {
     "data": {
      "text/plain": [
       "1"
      ]
     },
     "execution_count": 64,
     "metadata": {},
     "output_type": "execute_result"
    }
   ],
   "source": [
    "leap1(4)"
   ]
  },
  {
   "cell_type": "code",
   "execution_count": 65,
   "id": "bd7474ce-aa8e-418b-a0f9-37a9e2307fb9",
   "metadata": {},
   "outputs": [
    {
     "data": {
      "text/plain": [
       "0"
      ]
     },
     "execution_count": 65,
     "metadata": {},
     "output_type": "execute_result"
    }
   ],
   "source": [
    "leap1(100)"
   ]
  },
  {
   "cell_type": "code",
   "execution_count": 66,
   "id": "b345a647-86e0-4a39-8696-3cf0a97c4f33",
   "metadata": {},
   "outputs": [
    {
     "data": {
      "text/plain": [
       "1"
      ]
     },
     "execution_count": 66,
     "metadata": {},
     "output_type": "execute_result"
    }
   ],
   "source": [
    "leap1(400)"
   ]
  },
  {
   "cell_type": "code",
   "execution_count": 2,
   "id": "ef7dbbef-13c8-4eb7-bdfc-51355020e32c",
   "metadata": {},
   "outputs": [],
   "source": [
    "def date2dote(year, doty):\n",
    "    if year >= 0:\n",
    "        return year * 365 + year // 4 - year // 100 + year // 400 + doty\n",
    "    yotc = year - (socy := (year - 399) // 400) * 400\n",
    "    return socy * 146097 + yotc * 365 + yotc // 4 - yotc // 100 + doty"
   ]
  },
  {
   "cell_type": "code",
   "execution_count": 3,
   "id": "bb962181-1ea6-4dc6-8147-c82655a83374",
   "metadata": {
    "scrolled": true
   },
   "outputs": [
    {
     "data": {
      "text/plain": [
       "730485"
      ]
     },
     "execution_count": 3,
     "metadata": {},
     "output_type": "execute_result"
    }
   ],
   "source": [
    "date2dote(2400, -146097)"
   ]
  },
  {
   "cell_type": "code",
   "execution_count": 4,
   "id": "57c5c0cc-9329-4558-9d1d-a768fc6972aa",
   "metadata": {},
   "outputs": [
    {
     "data": {
      "text/plain": [
       "739616"
      ]
     },
     "execution_count": 4,
     "metadata": {},
     "output_type": "execute_result"
    }
   ],
   "source": [
    "date2dote(2025, 0)"
   ]
  },
  {
   "cell_type": "code",
   "execution_count": 145,
   "id": "67d23c8c-002a-4bb0-ab74-ab33907ee4eb",
   "metadata": {},
   "outputs": [
    {
     "data": {
      "text/plain": [
       "10.1"
      ]
     },
     "execution_count": 145,
     "metadata": {},
     "output_type": "execute_result"
    }
   ],
   "source": [
    "date2yote(10, 36.5)"
   ]
  },
  {
   "cell_type": "code",
   "execution_count": 29,
   "id": "8c23c5c2-f3ae-487b-a7ab-0bb98e955f96",
   "metadata": {},
   "outputs": [
    {
     "data": {
      "text/plain": [
       "876582"
      ]
     },
     "execution_count": 29,
     "metadata": {},
     "output_type": "execute_result"
    }
   ],
   "source": [
    "date2dote(2800, -146097)"
   ]
  },
  {
   "cell_type": "code",
   "execution_count": null,
   "id": "e682920a-83bc-4a65-93bf-c9551e2b560e",
   "metadata": {},
   "outputs": [],
   "source": []
  },
  {
   "cell_type": "code",
   "execution_count": 1,
   "id": "8a91205d-a674-4735-a42c-21a3364486dc",
   "metadata": {},
   "outputs": [
    {
     "ename": "NameError",
     "evalue": "name 'dote2date' is not defined",
     "output_type": "error",
     "traceback": [
      "\u001b[0;31m---------------------------------------------------------------------------\u001b[0m",
      "\u001b[0;31mNameError\u001b[0m                                 Traceback (most recent call last)",
      "Cell \u001b[0;32mIn[1], line 1\u001b[0m\n\u001b[0;32m----> 1\u001b[0m \u001b[43mdote2date\u001b[49m(\u001b[38;5;241m3688.5\u001b[39m)\n",
      "\u001b[0;31mNameError\u001b[0m: name 'dote2date' is not defined"
     ]
    }
   ],
   "source": [
    "dote2date(3688.5)"
   ]
  },
  {
   "cell_type": "code",
   "execution_count": 5,
   "id": "44172a4e-470b-4c30-992d-dec8ba1af9a3",
   "metadata": {},
   "outputs": [
    {
     "data": {
      "text/plain": [
       "False"
      ]
     },
     "execution_count": 5,
     "metadata": {},
     "output_type": "execute_result"
    },
    {
     "data": {
      "text/plain": [
       "365"
      ]
     },
     "execution_count": 5,
     "metadata": {},
     "output_type": "execute_result"
    },
    {
     "data": {
      "text/plain": [
       "(1970, 1)"
      ]
     },
     "execution_count": 5,
     "metadata": {},
     "output_type": "execute_result"
    },
    {
     "data": {
      "text/plain": [
       "(1969, 306)"
      ]
     },
     "execution_count": 5,
     "metadata": {},
     "output_type": "execute_result"
    },
    {
     "data": {
      "text/plain": [
       "[(0, 361),\n",
       " (0, 362),\n",
       " (0, 363),\n",
       " (0, 364),\n",
       " (0, 365),\n",
       " (0, 366),\n",
       " (1, 1),\n",
       " (1, 2),\n",
       " (1, 3)]"
      ]
     },
     "execution_count": 5,
     "metadata": {},
     "output_type": "execute_result"
    },
    {
     "data": {
      "text/plain": [
       "[(-1, 363),\n",
       " (-1, 364),\n",
       " (-1, 365),\n",
       " (0, 0),\n",
       " (0, 1),\n",
       " (0, 2),\n",
       " (0, 3),\n",
       " (0, 4),\n",
       " (0, 5)]"
      ]
     },
     "execution_count": 5,
     "metadata": {},
     "output_type": "execute_result"
    }
   ],
   "source": [
    "def leap(year=1969):\n",
    "    return year % 4 == 0 and year % 100 != 0 or year % 400 == 0\n",
    "def year2dity(year=1969):\n",
    "    return 365 + leap(year + 1)\n",
    "def date2isoo(year=1969, doty=306):\n",
    "    return (year + (doty > 305),\n",
    "        (doty + 59 + leap(year)) % (365 + leap(year)) + 1)\n",
    "def isoo2date(year=1970, doty=1):\n",
    "    return (year - (doty < (60 + leap(year))),\n",
    "        (doty + 305) % (365 + leap(year)))\n",
    "leap()\n",
    "year2dity()\n",
    "date2isoo()\n",
    "isoo2date()\n",
    "[date2isoo(0, n + 300) for n in range(9)]\n",
    "[isoo2date(0, n + 58) for n in range(9)]"
   ]
  }
 ],
 "metadata": {
  "kernelspec": {
   "display_name": "Python 3 (ipykernel)",
   "language": "python",
   "name": "python3"
  },
  "language_info": {
   "codemirror_mode": {
    "name": "ipython",
    "version": 3
   },
   "file_extension": ".py",
   "mimetype": "text/x-python",
   "name": "python",
   "nbconvert_exporter": "python",
   "pygments_lexer": "ipython3",
   "version": "3.10.14"
  }
 },
 "nbformat": 4,
 "nbformat_minor": 5
}
