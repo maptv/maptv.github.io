{
 "cells": [
  {
   "cell_type": "code",
   "execution_count": 1,
   "id": "2ae7dfdc-0b51-44ae-9b5f-0d34f27f455e",
   "metadata": {},
   "outputs": [
    {
     "name": "stdout",
     "output_type": "stream",
     "text": [
      "\u001b[6 q\n",
      "\u001b[6 q\n",
      "\u001b[6 q\n",
      "\u001b[6 q\n",
      "\u001b[6 q\n",
      "\u001b[6 q\n",
      "\u001b[6 q\n",
      "\u001b[6 q\n",
      "\u001b[6 q\n",
      "\u001b[6 q\n",
      "\u001b[6 q\n",
      "\u001b[6 q\n"
     ]
    }
   ],
   "source": [
    "unix2doty() {\n",
    "    local unix=${1:-$(date +%s)}\n",
    "    local dote=$(echo \"scale=0; $unix / 86400 + 719468\" | bc)\n",
    "    if [ $(echo \"$dote >= 0\" | bc) -eq 1 ]; then\n",
    "        local cykl=$(echo \"scale=0; $dote / 146097\" | bc)\n",
    "    else\n",
    "        local cykl=$(echo \"scale=0; ($dote - 146096) / 146097\" | bc)\n",
    "    fi\n",
    "    local dotc=$(echo \"scale=0; $dote - $cykl * 146097\" | bc)\n",
    "    local yotc=$(echo \"scale=0; ($dotc - $dotc / 1460 + $dotc / 36524 - $dotc / 146096) / 365\" | bc)\n",
    "    echo \"$(echo \"$yotc + $cykl * 400\" | bc) $(echo \"$dotc - ($yotc * 365 + $yotc / 4 - $yotc / 100)\" | bc)\"\n",
    "}"
   ]
  },
  {
   "cell_type": "code",
   "execution_count": 2,
   "id": "bd0ba9e6-554e-4736-9e9c-33bdbf7948e8",
   "metadata": {
    "editable": true,
    "slideshow": {
     "slide_type": ""
    },
    "tags": []
   },
   "outputs": [
    {
     "name": "stdout",
     "output_type": "stream",
     "text": [
      "2024 217\n",
      "\u001b[6 q\n"
     ]
    }
   ],
   "source": [
    "unix2doty 1728000000"
   ]
  },
  {
   "cell_type": "code",
   "execution_count": 3,
   "id": "c22b641d-82d3-4fdf-9166-44eacb6fd3e2",
   "metadata": {},
   "outputs": [
    {
     "name": "stdout",
     "output_type": "stream",
     "text": [
      "2029 266\n",
      "\u001b[6 q\n"
     ]
    }
   ],
   "source": [
    "unix2doty 1890000000"
   ]
  }
 ],
 "metadata": {
  "kernelspec": {
   "display_name": "Bash",
   "language": "bash",
   "name": "bash"
  },
  "language_info": {
   "codemirror_mode": "shell",
   "file_extension": ".sh",
   "mimetype": "text/x-sh",
   "name": "bash"
  }
 },
 "nbformat": 4,
 "nbformat_minor": 5
}
