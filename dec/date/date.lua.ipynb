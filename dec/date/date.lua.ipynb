{
 "cells": [
  {
   "cell_type": "code",
   "execution_count": 1,
   "metadata": {
    "editable": true,
    "slideshow": {
     "slide_type": ""
    },
    "tags": []
   },
   "outputs": [],
   "source": [
    "function unix2doty(unix)\n",
    "  local dote = unix / 86400 + 719468\n",
    "  local cykl = (\n",
    "    dote >= 0 and dote\n",
    "    or dote - 146096\n",
    "  ) // 146097\n",
    "  local dotc = dote - cykl * 146097\n",
    "  local yotc = (\n",
    "    dotc - dotc // 1460\n",
    "    + dotc // 36524\n",
    "    - dotc // 146096\n",
    "  ) // 365\n",
    "  return {\n",
    "    math.floor(yotc + cykl * 400),\n",
    "    dotc - (yotc * 365\n",
    "      + yotc // 4\n",
    "      - yotc // 100\n",
    "  )}\n",
    "end"
   ]
  },
  {
   "cell_type": "code",
   "execution_count": 2,
   "metadata": {
    "editable": true,
    "slideshow": {
     "slide_type": ""
    },
    "tags": []
   },
   "outputs": [
    {
     "name": "stdout",
     "output_type": "stream",
     "text": [
      "{ 2024, 217.0 } \n"
     ]
    }
   ],
   "source": [
    "unix2doty(1728000000)"
   ]
  },
  {
   "cell_type": "code",
   "execution_count": 3,
   "metadata": {},
   "outputs": [
    {
     "name": "stdout",
     "output_type": "stream",
     "text": [
      "{ 2029, 266.0 } \n"
     ]
    }
   ],
   "source": [
    "unix2doty(1890000000)"
   ]
  }
 ],
 "metadata": {
  "kernelspec": {
   "display_name": "Lua  (XLua)",
   "language": "lua",
   "name": "xlua"
  },
  "language_info": {
   "file_extension": ".lua",
   "mimetype": "text/x-luasrc",
   "name": "lua",
   "version": "14.0.0"
  }
 },
 "nbformat": 4,
 "nbformat_minor": 4
}
