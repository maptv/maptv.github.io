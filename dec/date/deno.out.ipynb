{
  "cells": [
    {
      "cell_type": "markdown",
      "metadata": {},
      "source": [
        "# \n",
        "\n",
        "\\| [Martin Laptev]()  \n",
        "1725341701000"
      ],
      "id": "4baac6fc-ae6d-45a9-8883-884d6a5202d8"
    },
    {
      "cell_type": "code",
      "execution_count": 1,
      "metadata": {
        "editable": true,
        "slideshow": {
          "slide_type": ""
        },
        "tags": []
      },
      "outputs": [],
      "source": [
        "function unix2dote(unix, zone, offset = 719468) {\n",
        "  return [\n",
        "    (unix ?? Date.now()) / 86400000\n",
        "    + (zone = zone ?? (10 - Math.round(\n",
        "        (new Date).getTimezoneOffset() / 144)) % 10\n",
        "      ) / 10 + offset, zone]\n",
        "}"
      ],
      "id": "cell-0"
    },
    {
      "cell_type": "code",
      "execution_count": 2,
      "metadata": {
        "editable": true,
        "slideshow": {
          "slide_type": ""
        },
        "tags": []
      },
      "outputs": [],
      "source": [
        "function dote2doty(dote = 719468, zone = 0) {\n",
        "  const cykl = Math.floor((dote >= 0 ? dote : dote - 146096) / 146097),\n",
        "  dotc = dote - cykl * 146097,\n",
        "  yotc = Math.floor((dotc - Math.floor(dotc / 1460) + Math.floor(dotc / 36524)\n",
        "    - Math.floor(dotc / 146096)) / 365);\n",
        "  return [yotc + cykl * 400,\n",
        "    dotc - yotc * 365 - Math.floor(yotc / 4) + Math.floor(yotc / 100), zone];\n",
        "}"
      ],
      "id": "cell-1"
    },
    {
      "cell_type": "code",
      "execution_count": 3,
      "metadata": {
        "editable": true,
        "slideshow": {
          "slide_type": ""
        },
        "tags": []
      },
      "outputs": [
        {
          "output_type": "stream",
          "name": "stdout",
          "text": [
            "[ 2024, 187.03039081022143, 8 ]"
          ]
        }
      ],
      "source": [
        "console.log(dote2doty(...unix2dote()))"
      ],
      "id": "cell-2"
    }
  ],
  "nbformat": 4,
  "nbformat_minor": 5,
  "metadata": {
    "kernelspec": {
      "name": "deno",
      "display_name": "Deno",
      "language": "typescript"
    },
    "language_info": {
      "name": "typescript",
      "file_extension": ".ts",
      "mimetype": "text/x.typescript",
      "nb_converter": "script",
      "pygments_lexer": "typescript",
      "version": "5.4.3"
    }
  }
}