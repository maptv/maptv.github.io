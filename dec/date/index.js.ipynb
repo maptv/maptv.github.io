{
 "cells": [
  {
   "cell_type": "markdown",
   "id": "b9b74003",
   "metadata": {},
   "source": [
    "# Ordinal date\n",
    "\n",
    "\\| [Martin Laptev]()  \n",
    "2024+188\n",
    "\n",
    "My site is full of dates in the `year+day` format. The major advantage\n",
    "of this format is that the `day` component can unequivocally identify\n",
    "any date and time in a given year and thus can replace months, days of\n",
    "the month, hours, minutes, and seconds. In essence, the `day` number can\n",
    "To create all of the dates, I use three different programming languages:\n",
    "Python for the [listing page](../../list), Lua for the Published date at\n",
    "the top of each article, and JavaScript for the citation information at\n",
    "the bottom of each article.\n",
    "\n",
    "To test the code, I will create a separate Quarto markdown (`qmd`) file\n",
    "for each of these 3 programming languages and\n",
    "[embed](https://quarto.org/docs/authoring/notebook-embed.html#overview)\n",
    "them into this `qmd` file.\n",
    "\n",
    "# JavaScript"
   ]
  },
  {
   "cell_type": "code",
   "execution_count": 1,
   "id": "b146ef05",
   "metadata": {
    "execution": {
     "iopub.execute_input": "2024-09-05T21:36:42.505670Z",
     "iopub.status.busy": "2024-09-05T21:36:42.505639Z",
     "iopub.status.idle": "2024-09-05T21:36:42.513483Z",
     "shell.execute_reply": "2024-09-05T21:36:42.506643Z"
    }
   },
   "outputs": [],
   "source": [
    "function unix2doty(unix) {\n",
    "  const dote = unix / 86400 + 719468,\n",
    "    cykl = Math.floor((\n",
    "      dote >= 0 ? dote\n",
    "      : dote - 146096\n",
    "    ) / 146097),\n",
    "  dotc = dote - cykl * 146097,\n",
    "  yotc = Math.floor((dotc\n",
    "    - Math.floor(dotc / 1460)\n",
    "    + Math.floor(dotc / 36524)\n",
    "    - Math.floor(dotc / 146096)\n",
    "  ) / 365);\n",
    "  return [\n",
    "    yotc + cykl * 400,\n",
    "    dotc - (yotc * 365\n",
    "      + Math.floor(yotc / 4)\n",
    "      - Math.floor(yotc / 100)\n",
    "  )]}"
   ]
  },
  {
   "cell_type": "code",
   "execution_count": 2,
   "id": "94ec5d72",
   "metadata": {
    "execution": {
     "iopub.execute_input": "2024-09-05T21:36:42.514561Z",
     "iopub.status.busy": "2024-09-05T21:36:42.514533Z",
     "iopub.status.idle": "2024-09-05T21:36:42.523518Z",
     "shell.execute_reply": "2024-09-05T21:36:42.516672Z"
    }
   },
   "outputs": [
    {
     "data": {
      "text/plain": [
       "[ \u001b[33m2024\u001b[39m, \u001b[33m217\u001b[39m ]"
      ]
     },
     "execution_count": 2,
     "metadata": {},
     "output_type": "execute_result"
    }
   ],
   "source": [
    "unix2doty(1728000000)"
   ]
  },
  {
   "cell_type": "code",
   "execution_count": 3,
   "id": "47a2ee58",
   "metadata": {
    "execution": {
     "iopub.execute_input": "2024-09-05T21:36:42.524640Z",
     "iopub.status.busy": "2024-09-05T21:36:42.524606Z",
     "iopub.status.idle": "2024-09-05T21:36:42.531438Z",
     "shell.execute_reply": "2024-09-05T21:36:42.525242Z"
    }
   },
   "outputs": [
    {
     "data": {
      "text/plain": [
       "[ \u001b[33m2029\u001b[39m, \u001b[33m266\u001b[39m ]"
      ]
     },
     "execution_count": 3,
     "metadata": {},
     "output_type": "execute_result"
    }
   ],
   "source": [
    "unix2doty(1890000000)"
   ]
  },
  {
   "cell_type": "markdown",
   "id": "e162f3b5",
   "metadata": {},
   "source": [
    "# Lua\n",
    "\n",
    "``` {lua}\n",
    "function unix2doty(unix)\n",
    "  local dote = unix / 86400 + 719468\n",
    "  local cykl = (\n",
    "    dote >= 0 and dote\n",
    "    or dote - 146096\n",
    "  ) // 146097\n",
    "  local dotc = dote - cykl * 146097\n",
    "  local yotc = (\n",
    "    dotc - dotc // 1460\n",
    "    + dotc // 36524\n",
    "    - dotc // 146096\n",
    "  ) // 365\n",
    "  return {\n",
    "    math.floor(yotc + cykl * 400),\n",
    "    dotc - (yotc * 365\n",
    "      + yotc // 4\n",
    "      - yotc // 100\n",
    "  )}\n",
    "end\n",
    "```\n",
    "\n",
    "``` {lua}\n",
    "unix2doty(1728000000)\n",
    "```\n",
    "\n",
    "``` {lua}\n",
    "unix2doty(1890000000)\n",
    "```\n",
    "\n",
    "# Python\n",
    "\n",
    "``` {python}\n",
    "def unix2doty(unix):\n",
    "    dote = unix / 86400 + 719468\n",
    "    cykl = (\n",
    "        dote if dote >= 0\n",
    "        else dote - 146096\n",
    "    ) // 146097\n",
    "    dotc = dote - cykl * 146097\n",
    "    yotc = (dotc\n",
    "        - dotc // 1460\n",
    "        + dotc // 36524\n",
    "        - dotc // 146096\n",
    "    ) // 365\n",
    "    return [\n",
    "        int(yotc + cykl * 400),\n",
    "        dotc - (yotc * 365\n",
    "            + yotc // 4\n",
    "            - yotc // 100\n",
    "    )]\n",
    "```\n",
    "\n",
    "``` {python}\n",
    "unix2doty(1728000000)\n",
    "```\n",
    "\n",
    "``` {python}\n",
    "unix2doty(1890000000)\n",
    "```"
   ]
  }
 ],
 "metadata": {
  "kernelspec": {
   "display_name": "Deno",
   "language": "typescript",
   "name": "deno",
   "path": "/Users/martinlaptev/Library/Jupyter/kernels/deno"
  },
  "language_info": {
   "file_extension": ".ts",
   "mimetype": "text/x.typescript",
   "name": "typescript",
   "nb_converter": "script",
   "pygments_lexer": "typescript",
   "version": "5.4.3"
  }
 },
 "nbformat": 4,
 "nbformat_minor": 5
}
