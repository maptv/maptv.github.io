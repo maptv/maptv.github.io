{
 "cells": [
  {
   "cell_type": "markdown",
   "id": "869db2b8",
   "metadata": {
    "tags": []
   },
   "source": [
    "# Ordinal date\n",
    "\n",
    "\\| [Martin Laptev]()  \n",
    "2024+189\n",
    "\n",
    "My site is full of dates in the `year+day` format. The major advantage\n",
    "of this format is that the `day` component can unequivocally identify\n",
    "any date and time in a given year and thus can replace months, days of\n",
    "the month, hours, minutes, and seconds. In essence, the `day` number can\n",
    "To create all of the dates, I use three different programming languages:\n",
    "Python for the [listing page](../../list), Lua for the Published date at\n",
    "the top of each article, and JavaScript for the citation information at\n",
    "the bottom of each article.\n",
    "\n",
    "To test the code, I will create a separate Quarto markdown (`qmd`) file\n",
    "for each of these 3 programming languages and\n",
    "[embed](https://quarto.org/docs/authoring/notebook-embed.html#overview)\n",
    "them into this `qmd` file.\n",
    "\n",
    "# JavaScript"
   ]
  },
  {
   "cell_type": "code",
   "execution_count": 1,
   "id": "b626d5f9",
   "metadata": {
    "editable": true,
    "execution": {
     "iopub.execute_input": "2024-09-06T04:37:03.297499Z",
     "iopub.status.busy": "2024-09-06T04:37:03.297455Z",
     "iopub.status.idle": "2024-09-06T04:37:03.305347Z",
     "shell.execute_reply": "2024-09-06T04:37:03.298496Z"
    },
    "slideshow": {
     "slide_type": ""
    },
    "tags": [
     "func"
    ]
   },
   "outputs": [],
   "source": [
    "function unix2doty(unix) {\n",
    "  const dote = unix / 86400 + 719468,\n",
    "    cykl = Math.floor((\n",
    "      dote >= 0 ? dote\n",
    "      : dote - 146096\n",
    "    ) / 146097),\n",
    "  dotc = dote - cykl * 146097,\n",
    "  yotc = Math.floor((dotc\n",
    "    - Math.floor(dotc / 1460)\n",
    "    + Math.floor(dotc / 36524)\n",
    "    - Math.floor(dotc / 146096)\n",
    "  ) / 365);\n",
    "  return [\n",
    "    yotc + cykl * 400,\n",
    "    dotc - (yotc * 365\n",
    "      + Math.floor(yotc / 4)\n",
    "      - Math.floor(yotc / 100)\n",
    "  )]}"
   ]
  },
  {
   "cell_type": "code",
   "execution_count": 2,
   "id": "60973f06",
   "metadata": {
    "editable": true,
    "execution": {
     "iopub.execute_input": "2024-09-06T04:37:03.306421Z",
     "iopub.status.busy": "2024-09-06T04:37:03.306391Z",
     "iopub.status.idle": "2024-09-06T04:37:03.315451Z",
     "shell.execute_reply": "2024-09-06T04:37:03.308647Z"
    },
    "slideshow": {
     "slide_type": ""
    },
    "tags": [
     "out0"
    ]
   },
   "outputs": [
    {
     "data": {
      "text/plain": [
       "[ \u001b[33m2024\u001b[39m, \u001b[33m217\u001b[39m ]"
      ]
     },
     "execution_count": 2,
     "metadata": {},
     "output_type": "execute_result"
    }
   ],
   "source": [
    "unix2doty(1728000000)"
   ]
  },
  {
   "cell_type": "code",
   "execution_count": 3,
   "id": "5f051d39",
   "metadata": {
    "editable": true,
    "execution": {
     "iopub.execute_input": "2024-09-06T04:37:03.316360Z",
     "iopub.status.busy": "2024-09-06T04:37:03.316332Z",
     "iopub.status.idle": "2024-09-06T04:37:03.323692Z",
     "shell.execute_reply": "2024-09-06T04:37:03.316892Z"
    },
    "slideshow": {
     "slide_type": ""
    },
    "tags": [
     "out1"
    ]
   },
   "outputs": [
    {
     "data": {
      "text/plain": [
       "[ \u001b[33m2029\u001b[39m, \u001b[33m266\u001b[39m ]"
      ]
     },
     "execution_count": 3,
     "metadata": {},
     "output_type": "execute_result"
    }
   ],
   "source": [
    "unix2doty(1890000000)"
   ]
  }
 ],
 "metadata": {
  "kernelspec": {
   "display_name": "Deno",
   "language": "typescript",
   "name": "deno"
  },
  "language_info": {
   "file_extension": ".ts",
   "mimetype": "text/x.typescript",
   "name": "typescript",
   "nb_converter": "script",
   "pygments_lexer": "typescript",
   "version": "5.4.3"
  }
 },
 "nbformat": 4,
 "nbformat_minor": 5
}
