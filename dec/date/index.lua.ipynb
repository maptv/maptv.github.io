{
 "cells": [
  {
   "cell_type": "markdown",
   "id": "0a8c48c0",
   "metadata": {},
   "source": [
    "# Ordinal date\n",
    "\n",
    "\\| [Martin Laptev]()  \n",
    "2024+188\n",
    "\n",
    "My site is full of dates in the `year+day` format. The major advantage\n",
    "of this format is that the `day` component can unequivocally identify\n",
    "any date and time in a given year and thus can replace months, days of\n",
    "the month, hours, minutes, and seconds. In essence, the `day` number can\n",
    "To create all of the dates, I use three different programming languages:\n",
    "Python for the [listing page](../../list), Lua for the Published date at\n",
    "the top of each article, and JavaScript for the citation information at\n",
    "the bottom of each article.\n",
    "\n",
    "To test the code, I will create a separate Quarto markdown (`qmd`) file\n",
    "for each of these 3 programming languages and\n",
    "[embed](https://quarto.org/docs/authoring/notebook-embed.html#overview)\n",
    "them into this `qmd` file.\n",
    "\n",
    "# JavaScript\n",
    "\n",
    "``` {typescript}\n",
    "function unix2doty(unix) {\n",
    "  const dote = unix / 86400 + 719468,\n",
    "    cykl = Math.floor((\n",
    "      dote >= 0 ? dote\n",
    "      : dote - 146096\n",
    "    ) / 146097),\n",
    "  dotc = dote - cykl * 146097,\n",
    "  yotc = Math.floor((dotc\n",
    "    - Math.floor(dotc / 1460)\n",
    "    + Math.floor(dotc / 36524)\n",
    "    - Math.floor(dotc / 146096)\n",
    "  ) / 365);\n",
    "  return [\n",
    "    yotc + cykl * 400,\n",
    "    dotc - (yotc * 365\n",
    "      + Math.floor(yotc / 4)\n",
    "      - Math.floor(yotc / 100)\n",
    "  )]}\n",
    "```\n",
    "\n",
    "``` {typescript}\n",
    "unix2doty(1728000000)\n",
    "```\n",
    "\n",
    "``` {typescript}\n",
    "unix2doty(1890000000)\n",
    "```\n",
    "\n",
    "# Lua"
   ]
  },
  {
   "cell_type": "code",
   "execution_count": 1,
   "id": "089434e9",
   "metadata": {
    "execution": {
     "iopub.execute_input": "2024-09-05T21:36:51.241458Z",
     "iopub.status.busy": "2024-09-05T21:36:51.241370Z",
     "iopub.status.idle": "2024-09-05T21:36:51.241732Z",
     "shell.execute_reply": "2024-09-05T21:36:51.241669Z"
    }
   },
   "outputs": [],
   "source": [
    "function unix2doty(unix)\n",
    "  local dote = unix / 86400 + 719468\n",
    "  local cykl = (\n",
    "    dote >= 0 and dote\n",
    "    or dote - 146096\n",
    "  ) // 146097\n",
    "  local dotc = dote - cykl * 146097\n",
    "  local yotc = (\n",
    "    dotc - dotc // 1460\n",
    "    + dotc // 36524\n",
    "    - dotc // 146096\n",
    "  ) // 365\n",
    "  return {\n",
    "    math.floor(yotc + cykl * 400),\n",
    "    dotc - (yotc * 365\n",
    "      + yotc // 4\n",
    "      - yotc // 100\n",
    "  )}\n",
    "end"
   ]
  },
  {
   "cell_type": "code",
   "execution_count": 2,
   "id": "96844a00",
   "metadata": {
    "execution": {
     "iopub.execute_input": "2024-09-05T21:36:51.247597Z",
     "iopub.status.busy": "2024-09-05T21:36:51.247526Z",
     "iopub.status.idle": "2024-09-05T21:36:51.247915Z",
     "shell.execute_reply": "2024-09-05T21:36:51.247829Z"
    }
   },
   "outputs": [
    {
     "name": "stdout",
     "output_type": "stream",
     "text": [
      "{ 2024, 217.0 } "
     ]
    },
    {
     "name": "stdout",
     "output_type": "stream",
     "text": [
      "\n"
     ]
    }
   ],
   "source": [
    "unix2doty(1728000000)"
   ]
  },
  {
   "cell_type": "code",
   "execution_count": 3,
   "id": "20454c37",
   "metadata": {
    "execution": {
     "iopub.execute_input": "2024-09-05T21:36:51.252364Z",
     "iopub.status.busy": "2024-09-05T21:36:51.252270Z",
     "iopub.status.idle": "2024-09-05T21:36:51.252590Z",
     "shell.execute_reply": "2024-09-05T21:36:51.252536Z"
    }
   },
   "outputs": [
    {
     "name": "stdout",
     "output_type": "stream",
     "text": [
      "{ 2029, 266.0 } "
     ]
    },
    {
     "name": "stdout",
     "output_type": "stream",
     "text": [
      "\n"
     ]
    }
   ],
   "source": [
    "unix2doty(1890000000)"
   ]
  },
  {
   "cell_type": "markdown",
   "id": "a5e41ace",
   "metadata": {},
   "source": [
    "# Python\n",
    "\n",
    "``` {python}\n",
    "def unix2doty(unix):\n",
    "    dote = unix / 86400 + 719468\n",
    "    cykl = (\n",
    "        dote if dote >= 0\n",
    "        else dote - 146096\n",
    "    ) // 146097\n",
    "    dotc = dote - cykl * 146097\n",
    "    yotc = (dotc\n",
    "        - dotc // 1460\n",
    "        + dotc // 36524\n",
    "        - dotc // 146096\n",
    "    ) // 365\n",
    "    return [\n",
    "        int(yotc + cykl * 400),\n",
    "        dotc - (yotc * 365\n",
    "            + yotc // 4\n",
    "            - yotc // 100\n",
    "    )]\n",
    "```\n",
    "\n",
    "``` {python}\n",
    "unix2doty(1728000000)\n",
    "```\n",
    "\n",
    "``` {python}\n",
    "unix2doty(1890000000)\n",
    "```"
   ]
  }
 ],
 "metadata": {
  "kernelspec": {
   "display_name": "Lua  (XLua)",
   "language": "lua",
   "name": "xlua",
   "path": "/opt/homebrew/Caskroom/miniforge/base/envs/py/share/jupyter/kernels/xlua"
  },
  "language_info": {
   "file_extension": ".lua",
   "mimetype": "text/x-luasrc",
   "name": "lua",
   "version": "14.0.0"
  }
 },
 "nbformat": 4,
 "nbformat_minor": 5
}
