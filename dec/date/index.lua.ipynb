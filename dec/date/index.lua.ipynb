{
 "cells": [
  {
   "cell_type": "markdown",
   "id": "06101828",
   "metadata": {},
   "source": [
    "# Ordinal date\n",
    "\n",
    "\\| [Martin Laptev]()  \n",
    "2024+189\n",
    "\n",
    "My site is full of dates in the `year+day` format. The major advantage\n",
    "of this format is that the `day` component can unequivocally identify\n",
    "any date and time in a given year and thus can replace months, days of\n",
    "the month, hours, minutes, and seconds. In essence, the `day` number can\n",
    "To create all of the dates, I use three different programming languages:\n",
    "Python for the [listing page](../../list), Lua for the Published date at\n",
    "the top of each article, and JavaScript for the citation information at\n",
    "the bottom of each article.\n",
    "\n",
    "To test the code, I will create a separate Quarto markdown (`qmd`) file\n",
    "for each of these 3 programming languages and\n",
    "[embed](https://quarto.org/docs/authoring/notebook-embed.html#overview)\n",
    "them into this `qmd` file.\n",
    "\n",
    "# Lua"
   ]
  },
  {
   "cell_type": "code",
   "execution_count": 1,
   "id": "48d7fe4d",
   "metadata": {
    "execution": {
     "iopub.execute_input": "2024-09-06T04:37:07.473850Z",
     "iopub.status.busy": "2024-09-06T04:37:07.472910Z",
     "iopub.status.idle": "2024-09-06T04:37:07.476030Z",
     "shell.execute_reply": "2024-09-06T04:37:07.475420Z"
    },
    "tags": [
     "lua-func"
    ]
   },
   "outputs": [],
   "source": [
    "function unix2doty(unix)\n",
    "  local dote = unix / 86400 + 719468\n",
    "  local cykl = (\n",
    "    dote >= 0 and dote\n",
    "    or dote - 146096\n",
    "  ) // 146097\n",
    "  local dotc = dote - cykl * 146097\n",
    "  local yotc = (\n",
    "    dotc - dotc // 1460\n",
    "    + dotc // 36524\n",
    "    - dotc // 146096\n",
    "  ) // 365\n",
    "  return {\n",
    "    math.floor(yotc + cykl * 400),\n",
    "    dotc - (yotc * 365\n",
    "      + yotc // 4\n",
    "      - yotc // 100\n",
    "  )}\n",
    "end"
   ]
  },
  {
   "cell_type": "code",
   "execution_count": 2,
   "id": "4b71377a",
   "metadata": {
    "execution": {
     "iopub.execute_input": "2024-09-06T04:37:07.524980Z",
     "iopub.status.busy": "2024-09-06T04:37:07.524230Z",
     "iopub.status.idle": "2024-09-06T04:37:07.527810Z",
     "shell.execute_reply": "2024-09-06T04:37:07.527150Z"
    },
    "tags": [
     "lua-out0"
    ]
   },
   "outputs": [
    {
     "name": "stdout",
     "output_type": "stream",
     "text": [
      "{ 2024, 217.0 } "
     ]
    },
    {
     "name": "stdout",
     "output_type": "stream",
     "text": [
      "\n"
     ]
    }
   ],
   "source": [
    "unix2doty(1728000000)"
   ]
  },
  {
   "cell_type": "code",
   "execution_count": 3,
   "id": "26365a3f",
   "metadata": {
    "execution": {
     "iopub.execute_input": "2024-09-06T04:37:07.572930Z",
     "iopub.status.busy": "2024-09-06T04:37:07.572300Z",
     "iopub.status.idle": "2024-09-06T04:37:07.575100Z",
     "shell.execute_reply": "2024-09-06T04:37:07.574630Z"
    },
    "tags": [
     "lua-out1"
    ]
   },
   "outputs": [
    {
     "name": "stdout",
     "output_type": "stream",
     "text": [
      "{ 2029, 266.0 } "
     ]
    },
    {
     "name": "stdout",
     "output_type": "stream",
     "text": [
      "\n"
     ]
    }
   ],
   "source": [
    "unix2doty(1890000000)"
   ]
  }
 ],
 "metadata": {
  "kernelspec": {
   "display_name": "Lua  (XLua)",
   "language": "lua",
   "name": "xlua"
  },
  "language_info": {
   "file_extension": ".lua",
   "mimetype": "text/x-luasrc",
   "name": "lua",
   "version": "14.0.0"
  }
 },
 "nbformat": 4,
 "nbformat_minor": 5
}
