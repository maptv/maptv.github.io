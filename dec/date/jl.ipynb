{
 "cells": [
  {
   "cell_type": "code",
   "execution_count": 1,
   "id": "18a390ae-fd7d-4829-a73a-783e55618dc1",
   "metadata": {},
   "outputs": [
    {
     "data": {
      "text/plain": [
       "unix2doty (generic function with 1 method)"
      ]
     },
     "execution_count": 1,
     "metadata": {},
     "output_type": "execute_result"
    }
   ],
   "source": [
    "function unix2doty(unix)\n",
    "    dote = unix / 86400 + 719468\n",
    "    cykl = (\n",
    "        dote >= 0 ? dote\n",
    "        : dote - 146096\n",
    "        ) ÷ 146097\n",
    "    dotc = dote - cykl * 146097\n",
    "    yotc = (\n",
    "        dotc - dotc ÷ 1460\n",
    "        + dotc ÷ 36524\n",
    "        - dotc ÷ 146096\n",
    "    ) ÷ 365\n",
    "    return Int(\n",
    "        yotc + cykl * 400),\n",
    "    dotc - (yotc * 365\n",
    "        + yotc ÷ 4\n",
    "        - yotc ÷ 100)\n",
    "end"
   ]
  },
  {
   "cell_type": "code",
   "execution_count": 2,
   "id": "bd0ba9e6-554e-4736-9e9c-33bdbf7948e8",
   "metadata": {
    "editable": true,
    "slideshow": {
     "slide_type": ""
    },
    "tags": []
   },
   "outputs": [
    {
     "data": {
      "text/plain": [
       "(2024, 217.0)"
      ]
     },
     "execution_count": 2,
     "metadata": {},
     "output_type": "execute_result"
    }
   ],
   "source": [
    "unix2doty(1728000000)"
   ]
  },
  {
   "cell_type": "code",
   "execution_count": 3,
   "id": "c22b641d-82d3-4fdf-9166-44eacb6fd3e2",
   "metadata": {},
   "outputs": [
    {
     "data": {
      "text/plain": [
       "(2029, 266.0)"
      ]
     },
     "execution_count": 3,
     "metadata": {},
     "output_type": "execute_result"
    }
   ],
   "source": [
    "unix2doty(1890000000)"
   ]
  }
 ],
 "metadata": {
  "kernelspec": {
   "display_name": "Julia 1.10.2",
   "language": "julia",
   "name": "julia-1.10"
  },
  "language_info": {
   "file_extension": ".jl",
   "mimetype": "application/julia",
   "name": "julia",
   "version": "1.10.2"
  }
 },
 "nbformat": 4,
 "nbformat_minor": 5
}
