{
  "cells": [
    {
      "cell_type": "markdown",
      "metadata": {},
      "source": [
        "# Ordinal date\n",
        "\n",
        "\\| [Martin Laptev]()  \n",
        "2024+192\n",
        "\n",
        "My site is full of dates in the `year+day` format. The major advantage\n",
        "of this format is that the `day` component can unequivocally identify\n",
        "any date and time in a given year and thus can replace months, days of\n",
        "the month, hours, minutes, and seconds. In essence, the `day` number can\n",
        "To create all of the dates, I use three different programming languages:\n",
        "Python for the [listing page](../../list), Lua for the Published date at\n",
        "the top of each article, and JavaScript for the citation information at\n",
        "the bottom of each article.\n",
        "\n",
        "To test the code, I will create a separate Quarto markdown (`qmd`) file\n",
        "for each of these 3 programming languages and\n",
        "[embed](https://quarto.org/docs/authoring/notebook-embed.html#overview)\n",
        "them into this `qmd` file.\n",
        "\n",
        "# Python"
      ],
      "id": "b290ac6a-6189-45b8-8fdc-90bec4b8edff"
    },
    {
      "cell_type": "code",
      "execution_count": null,
      "metadata": {
        "tags": [
          "py",
          "func"
        ]
      },
      "outputs": [],
      "source": [
        "def unix2doty(unix):\n",
        "    dote = unix / 86400 + 719468\n",
        "    cykl = (\n",
        "        dote if dote >= 0\n",
        "        else dote - 146096\n",
        "    ) // 146097\n",
        "    dotc = dote - cykl * 146097\n",
        "    yotc = (dotc\n",
        "        - dotc // 1460\n",
        "        + dotc // 36524\n",
        "        - dotc // 146096\n",
        "    ) // 365\n",
        "    return [\n",
        "        int(yotc + cykl * 400),\n",
        "        dotc - (yotc * 365\n",
        "            + yotc // 4\n",
        "            - yotc // 100\n",
        "    )]"
      ],
      "id": "04e72ee1-6a23-4f36-9ff6-db75e376f8e9"
    },
    {
      "cell_type": "code",
      "execution_count": null,
      "metadata": {
        "tags": [
          "py",
          "out0"
        ]
      },
      "outputs": [],
      "source": [
        "unix2doty(1728000000)"
      ],
      "id": "d9997b5c-223e-4dae-83ee-d07e5c282016"
    },
    {
      "cell_type": "code",
      "execution_count": null,
      "metadata": {
        "tags": [
          "py",
          "out1"
        ]
      },
      "outputs": [],
      "source": [
        "unix2doty(1890000000)"
      ],
      "id": "960349bf-700d-4a4c-867c-5894a6d0cd86"
    }
  ],
  "nbformat": 4,
  "nbformat_minor": 5,
  "metadata": {
    "kernelspec": {
      "display_name": "Python 3",
      "language": "python",
      "name": "python3"
    }
  }
}