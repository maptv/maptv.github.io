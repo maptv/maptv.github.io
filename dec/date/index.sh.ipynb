{
 "cells": [
  {
   "cell_type": "markdown",
   "id": "f19ae1d5",
   "metadata": {
    "tags": []
   },
   "source": [
    "# Ordinal date\n",
    "\n",
    "\\| [Martin Laptev]()  \n",
    "2024+192\n",
    "\n",
    "My site is full of dates in the `year+day` format. The major advantage\n",
    "of this format is that the `day` component can unequivocally identify\n",
    "any date and time in a given year and thus can replace months, days of\n",
    "the month, hours, minutes, and seconds. In essence, the `day` number can\n",
    "To create all of the dates, I use three different programming languages:\n",
    "Python for the [listing page](../../list), Lua for the Published date at\n",
    "the top of each article, and JavaScript for the citation information at\n",
    "the bottom of each article.\n",
    "\n",
    "To test the code, I will create a separate Quarto markdown (`qmd`) file\n",
    "for each of these 3 programming languages and\n",
    "[embed](https://quarto.org/docs/authoring/notebook-embed.html#overview)\n",
    "them into this `qmd` file.\n",
    "\n",
    "# Bash"
   ]
  },
  {
   "cell_type": "code",
   "execution_count": 2,
   "id": "c8e5cd0c",
   "metadata": {
    "execution": {
     "iopub.execute_input": "2024-09-09T04:05:58.709564Z",
     "iopub.status.busy": "2024-09-09T04:05:58.709194Z",
     "iopub.status.idle": "2024-09-09T04:05:59.430880Z",
     "shell.execute_reply": "2024-09-09T04:05:59.429858Z"
    },
    "tags": [
     "bash",
     "func"
    ]
   },
   "outputs": [
    {
     "name": "stdout",
     "output_type": "stream",
     "text": [
      "\u001b[6 q\n",
      "\u001b[6 q\n",
      "\u001b[6 q\n",
      "\u001b[6 q\n",
      "\u001b[6 q\n",
      "\u001b[6 q\n",
      "\u001b[6 q\n",
      "\u001b[6 q\n",
      "\u001b[6 q\n",
      "\u001b[6 q\n",
      "\u001b[6 q\n",
      "\u001b[6 q\n"
     ]
    },
    {
     "name": "stdout",
     "output_type": "stream",
     "text": [
      "\u001b[6 q\n"
     ]
    },
    {
     "name": "stdout",
     "output_type": "stream",
     "text": [
      "\u001b[6 q\n"
     ]
    },
    {
     "name": "stdout",
     "output_type": "stream",
     "text": [
      "\u001b[6 q\n"
     ]
    },
    {
     "name": "stdout",
     "output_type": "stream",
     "text": [
      "\u001b[6 q\n"
     ]
    },
    {
     "name": "stdout",
     "output_type": "stream",
     "text": [
      "\u001b[6 q\n"
     ]
    },
    {
     "name": "stdout",
     "output_type": "stream",
     "text": [
      "\u001b[6 q\n"
     ]
    },
    {
     "name": "stdout",
     "output_type": "stream",
     "text": [
      "\u001b[6 q\n"
     ]
    },
    {
     "name": "stdout",
     "output_type": "stream",
     "text": [
      "\u001b[6 q\n"
     ]
    },
    {
     "name": "stdout",
     "output_type": "stream",
     "text": [
      "\u001b[6 q\n"
     ]
    },
    {
     "name": "stdout",
     "output_type": "stream",
     "text": [
      "\u001b[6 q\n"
     ]
    }
   ],
   "source": [
    "unix2doty() {\n",
    "    local unix=${1:-$(date +%s)}\n",
    "    local dote=$(echo \"scale=0; $unix / 86400 + 719468\" | bc)\n",
    "    if [ $(echo \"$dote >= 0\" | bc) -eq 1 ]; then\n",
    "        local cykl=$(echo \"scale=0; $dote / 146097\" | bc)\n",
    "    else\n",
    "        local cykl=$(echo \"scale=0; ($dote - 146096) / 146097\" | bc)\n",
    "    fi\n",
    "    local dotc=$(echo \"scale=0; $dote - $cykl * 146097\" | bc)\n",
    "    local yotc=$(echo \"scale=0; ($dotc - $dotc / 1460 + $dotc / 36524 - $dotc / 146096) / 365\" | bc)\n",
    "    echo \"$(echo \"$yotc + $cykl * 400\" | bc) $(echo \"$dotc - ($yotc * 365 + $yotc / 4 - $yotc / 100)\" | bc)\"\n",
    "}"
   ]
  },
  {
   "cell_type": "code",
   "execution_count": 4,
   "id": "ec5cc651",
   "metadata": {
    "execution": {
     "iopub.execute_input": "2024-09-09T04:05:59.437369Z",
     "iopub.status.busy": "2024-09-09T04:05:59.436686Z",
     "iopub.status.idle": "2024-09-09T04:05:59.596099Z",
     "shell.execute_reply": "2024-09-09T04:05:59.595389Z"
    },
    "tags": [
     "bash",
     "out0"
    ]
   },
   "outputs": [
    {
     "name": "stdout",
     "output_type": "stream",
     "text": [
      "2024 217\n",
      "\u001b[6 q\n"
     ]
    }
   ],
   "source": [
    "unix2doty 1728000000"
   ]
  },
  {
   "cell_type": "code",
   "execution_count": 3,
   "id": "941275fa",
   "metadata": {
    "execution": {
     "iopub.execute_input": "2024-09-09T03:17:58.700859Z",
     "iopub.status.busy": "2024-09-09T03:17:58.700432Z",
     "iopub.status.idle": "2024-09-09T03:17:58.847821Z",
     "shell.execute_reply": "2024-09-09T03:17:58.847156Z"
    },
    "tags": [
     "bash",
     "out1"
    ]
   },
   "outputs": [
    {
     "name": "stdout",
     "output_type": "stream",
     "text": [
      "2029 266\n"
     ]
    },
    {
     "name": "stdout",
     "output_type": "stream",
     "text": [
      "\u001b[6 q\n"
     ]
    }
   ],
   "source": [
    "unix2doty 1890000000"
   ]
  }
 ],
 "metadata": {
  "kernelspec": {
   "display_name": "Bash",
   "language": "bash",
   "name": "bash"
  },
  "language_info": {
   "codemirror_mode": "shell",
   "file_extension": ".sh",
   "mimetype": "text/x-sh",
   "name": "bash"
  }
 },
 "nbformat": 4,
 "nbformat_minor": 5
}
