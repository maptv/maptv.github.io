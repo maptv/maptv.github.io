{
 "cells": [
  {
   "cell_type": "markdown",
   "metadata": {},
   "source": [
    "---\n",
    "jupyter:\n",
    "  jupytext:\n",
    "    text_representation:\n",
    "      extension: .qmd\n",
    "      format_name: quarto\n",
    "      format_version: '1.0'\n",
    "      jupytext_version: 1.16.4\n",
    "  kernelspec:\n",
    "    display_name: Deno\n",
    "    language: typescript\n",
    "    name: deno\n",
    "---"
   ]
  },
  {
   "cell_type": "code",
   "execution_count": 1,
   "metadata": {
    "editable": true,
    "execution": {
     "iopub.execute_input": "2024-09-05T18:39:45.493750Z",
     "iopub.status.busy": "2024-09-05T18:39:45.493720Z",
     "iopub.status.idle": "2024-09-05T18:39:45.503289Z",
     "shell.execute_reply": "2024-09-05T18:39:45.496451Z"
    },
    "slideshow": {
     "slide_type": ""
    }
   },
   "outputs": [
    {
     "data": {
      "text/plain": [
       "[ \u001b[33m2024\u001b[39m, \u001b[33m217\u001b[39m ]"
      ]
     },
     "execution_count": 1,
     "metadata": {},
     "output_type": "execute_result"
    }
   ],
   "source": [
    "function unix2doty(unix) {\n",
    "  const dote = unix / 86400 + 719468,\n",
    "    cykl = Math.floor((\n",
    "      dote >= 0 ? dote\n",
    "      : dote - 146096\n",
    "    ) / 146097),\n",
    "  dotc = dote - cykl * 146097,\n",
    "  yotc = Math.floor((dotc\n",
    "    - Math.floor(dotc / 1460)\n",
    "    + Math.floor(dotc / 36524)\n",
    "    - Math.floor(dotc / 146096)\n",
    "  ) / 365);\n",
    "  return [\n",
    "    yotc + cykl * 400,\n",
    "    dotc - (yotc * 365\n",
    "      + Math.floor(yotc / 4)\n",
    "      - Math.floor(yotc / 100)\n",
    "  )]}\n",
    "unix2doty(1728000000)"
   ]
  },
  {
   "cell_type": "code",
   "execution_count": 2,
   "metadata": {
    "execution": {
     "iopub.execute_input": "2024-09-05T18:39:45.528465Z",
     "iopub.status.busy": "2024-09-05T18:39:45.528444Z",
     "iopub.status.idle": "2024-09-05T18:39:45.535645Z",
     "shell.execute_reply": "2024-09-05T18:39:45.528840Z"
    }
   },
   "outputs": [
    {
     "data": {
      "text/plain": [
       "[ \u001b[33m2029\u001b[39m, \u001b[33m266\u001b[39m ]"
      ]
     },
     "execution_count": 2,
     "metadata": {},
     "output_type": "execute_result"
    }
   ],
   "source": [
    "unix2doty(1890000000)"
   ]
  }
 ],
 "metadata": {
  "kernelspec": {
   "display_name": "Deno",
   "language": "typescript",
   "name": "deno"
  },
  "language_info": {
   "codemirror_mode": "typescript",
   "file_extension": ".ts",
   "mimetype": "text/x.typescript",
   "name": "typescript",
   "nbconvert_exporter": "script",
   "pygments_lexer": "typescript",
   "version": "5.7.3"
  }
 },
 "nbformat": 4,
 "nbformat_minor": 4
}
