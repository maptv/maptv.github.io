{
 "cells": [
  {
   "cell_type": "code",
   "execution_count": 2,
   "metadata": {
    "editable": true,
    "slideshow": {
     "slide_type": ""
    },
    "tags": []
   },
   "outputs": [
    {
     "name": "stdout",
     "output_type": "stream",
     "text": [
      "[ \u001b[33m2024\u001b[39m, \u001b[33m186.2362175231101\u001b[39m, \u001b[33m0\u001b[39m ]\n"
     ]
    }
   ],
   "source": [
    "function unix2dote(unix, zone, offset = 719468) {\n",
    "  return [\n",
    "    (unix ?? Date.now()) / 86400000\n",
    "    + (zone = zone ?? (10 - Math.round(\n",
    "        (new Date).getTimezoneOffset() / 144)) % 10\n",
    "      ) / 10 + offset, zone]\n",
    "}\n",
    "function dote2doty(dote = 719468, zone = 0) {\n",
    "  const cykl = Math.floor((dote >= 0 ? dote : dote - 146096) / 146097),\n",
    "  dotc = dote - cykl * 146097,\n",
    "  yotc = Math.floor((dotc - Math.floor(dotc / 1460) + Math.floor(dotc / 36524)\n",
    "    - Math.floor(dotc / 146096)) / 365);\n",
    "  return [yotc + cykl * 400,\n",
    "    dotc - yotc * 365 - Math.floor(yotc / 4) + Math.floor(yotc / 100), zone];\n",
    "}\n",
    "console.log(dote2doty(...unix2dote(null, 0)))"
   ]
  },
  {
   "cell_type": "code",
   "execution_count": 15,
   "metadata": {},
   "outputs": [
    {
     "data": {
      "text/plain": [
       "\u001b[33m1725.342444847\u001b[39m"
      ]
     },
     "execution_count": 15,
     "metadata": {},
     "output_type": "execute_result"
    }
   ],
   "source": [
    "Date.now() / 1e9"
   ]
  },
  {
   "cell_type": "code",
   "execution_count": 8,
   "metadata": {
    "editable": true,
    "slideshow": {
     "slide_type": ""
    },
    "tags": []
   },
   "outputs": [
    {
     "name": "stdout",
     "output_type": "stream",
     "text": [
      "\u001b[33m8952.238700127346\u001b[39m\n"
     ]
    }
   ],
   "source": [
    "function unix2dote(unix, zone, offset = 719468) {\n",
    "  return [\n",
    "    (unix ?? Date.now()) / 86400000\n",
    "    + (zone = zone ?? (10 - Math.round(\n",
    "        (new Date).getTimezoneOffset() / 144)) % 10\n",
    "      ) / 10 + offset, zone]\n",
    "}\n",
    "function dote2doty(dote = 719468, zone = 0) {\n",
    "  const cykl = Math.floor((dote >= 0 ? dote : dote - 146096) / 146097),\n",
    "  dotc = dote - cykl * 146097;\n",
    "  return dotc\n",
    "}\n",
    "console.log(dote2doty(...unix2dote(null, 0)))"
   ]
  }
 ],
 "metadata": {
  "kernelspec": {
   "display_name": "Deno",
   "language": "typescript",
   "name": "deno"
  },
  "language_info": {
   "file_extension": ".ts",
   "mimetype": "text/x.typescript",
   "name": "typescript",
   "nb_converter": "script",
   "pygments_lexer": "typescript",
   "version": "5.4.3"
  }
 },
 "nbformat": 4,
 "nbformat_minor": 4
}
