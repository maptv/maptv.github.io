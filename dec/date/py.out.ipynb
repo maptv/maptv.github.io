{
  "cells": [
    {
      "cell_type": "markdown",
      "metadata": {},
      "source": [
        "# \n",
        "\n",
        "\\| [Martin Laptev]()  \n",
        "1725349125000"
      ],
      "id": "afa5be0d-3c6f-42e6-9986-a6c090639621"
    },
    {
      "cell_type": "code",
      "execution_count": 1,
      "metadata": {},
      "outputs": [
        {
          "output_type": "display_data",
          "metadata": {},
          "data": {
            "text/plain": [
              "[2024, 217.0]"
            ]
          }
        }
      ],
      "source": [
        "def unix2doty(unix):\n",
        "    dote = unix / 86400 + 719468\n",
        "    cykl = (\n",
        "        dote if dote >= 0\n",
        "        else dote - 146096\n",
        "    ) // 146097\n",
        "    dotc = dote - cykl * 146097\n",
        "    yotc = (dotc\n",
        "        - dotc // 1460\n",
        "        + dotc // 36524\n",
        "        - dotc // 146096\n",
        "    ) // 365\n",
        "    return [\n",
        "        int(yotc + cykl * 400),\n",
        "        dotc - (yotc * 365\n",
        "            + yotc // 4\n",
        "            - yotc // 100\n",
        "    )]\n",
        "unix2doty(1728000000)"
      ],
      "id": "7e8773bb-2923-4806-b39d-d450eaaee222"
    },
    {
      "cell_type": "code",
      "execution_count": 2,
      "metadata": {},
      "outputs": [
        {
          "output_type": "display_data",
          "metadata": {},
          "data": {
            "text/plain": [
              "[2029, 266.0]"
            ]
          }
        }
      ],
      "source": [
        "unix2doty(1890000000)"
      ],
      "id": "bf432a86-a4ed-4616-abbc-40afb03eb91d"
    }
  ],
  "nbformat": 4,
  "nbformat_minor": 5,
  "metadata": {
    "kernelspec": {
      "name": "python3",
      "display_name": "Python 3 (ipykernel)",
      "language": "python"
    },
    "language_info": {
      "name": "python",
      "codemirror_mode": {
        "name": "ipython",
        "version": "3"
      },
      "file_extension": ".py",
      "mimetype": "text/x-python",
      "nbconvert_exporter": "python",
      "pygments_lexer": "ipython3",
      "version": "3.12.3"
    }
  }
}