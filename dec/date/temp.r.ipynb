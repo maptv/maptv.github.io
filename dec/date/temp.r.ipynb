{
 "cells": [
  {
   "cell_type": "markdown",
   "id": "64591bd3-7107-40f3-a8b6-e2cfb8e0af14",
   "metadata": {},
   "source": [
    "# Ordinal date\n",
    "\n",
    "\\| [Martin Laptev]()  \n",
    "2024+197\n",
    "\n",
    "My website serves as a demonstration of both the\n",
    "[Quarto](https://quarto.org) publishing system and the [Dec](../../dec)\n",
    "measurement system. I use several clever hacks to get Quarto to display\n",
    "all of the dates on my website in the Dec `year+day` format. If you are\n",
    "not interested in Dec dates, you may want to skip to the section on\n",
    "Quarto [filters](https://quarto.org/docs/extensions/filters.html),\n",
    "[render\n",
    "scripts](https://quarto.org/docs/projects/scripts.html#pre-and-post-render),\n",
    "and [include\n",
    "files](https://quarto.org/docs/output-formats/html-basics.html#includes).\n",
    "\n",
    "### Dec dates\n",
    "\n",
    "The `year+day` format of Dec dates is derived from the year of the era\n",
    "equation:\n",
    "$\\colorbox{yellow}{y}{=}\\lfloor\\colorbox{yellow}{y}\\rfloor{+}\\colorbox{cyan}{d}{\\div}\\colorbox{orange}{n}$.\n",
    "In this equation, $\\colorbox{yellow}{y}$ is the decimal years since the\n",
    "Dec epoch (Year 0 <span class=\"blue\" data-bs-toggle=\"tooltip\"\n",
    "data-bs-title=\"March 1\"><u>Day 0</u></span>),\n",
    "$\\lfloor\\colorbox{yellow}{y}\\rfloor$ is $\\colorbox{yellow}{y}$\n",
    "[floored](https://en.wikipedia.org/wiki/Floor_and_ceiling_functions#:~:text=the%20greatest%20integer%20less%20than%20or%20equal%20to%20x)\n",
    "to obtain an\n",
    "[integer](https://en.wikipedia.org/wiki/Integer#:~:text=the%20number%20zero%20%280%29%2C%20a%20positive%20natural%20number%20%281%2C%202%2C%203%2C%20.%20.%20.%29%2C%20or%20the%20negation%20of%20a%20positive%20natural%20number%20%28%E2%88%921%2C%20%E2%88%922%2C%20%E2%88%923%2C%20.%20.%20.%29)\n",
    "year, $\\colorbox{cyan}{d}$ is the\n",
    "[zero-based](https://en.wikipedia.org/wiki/Zero-based_numbering#:~:text=a%20way%20of%20numbering%20in%20which%20the%20initial%20element%20of%20a%20sequence%20is%20assigned%20the%20index%C2%A00)\n",
    "day of the year, and $\\colorbox{orange}{n}$ is the total number of days\n",
    "in the year.\n",
    "\n",
    "Dec dates only include the first two terms from the equation above\n",
    "($\\colorbox{yellow}{y}$ and $\\colorbox{cyan}{d}$), because\n",
    "$\\colorbox{orange}{n}$ is not needed to identify a specific date in\n",
    "time, only has 2 possible values (365 or 366), remains constant for long\n",
    "periods of time (366, 1095, or 2920 days), and can be calculated using\n",
    "the Dec year length equation:\n",
    "\n",
    "$$\\colorbox{orange}{n}=\\begin{cases}\n",
    "  366&{\\begin{align}\\text{if } (\\lfloor \\colorbox{yellow}{y}\\rfloor+1)\\text{ \\% }4=0\\\\\n",
    "  \\land(\\lfloor \\colorbox{yellow}{y}\\rfloor+1)\\text{ \\% }100\\neq0\\\\\n",
    "  \\lor(\\lfloor \\colorbox{yellow}{y}\\rfloor+1)\\text{ \\% }400=0\\end{align}}\\\\\\\\\n",
    "  365&{\\text{otherwise.}}\\end{cases}$$\n",
    "\n",
    "In the Dec year length equation, `%` is the\n",
    "[modulo](https://en.wikipedia.org/wiki/Modulo#:~:text=returns%20the%20remainder)\n",
    "operator, $\\land$ is the logical\n",
    "[conjunction](https://en.wikipedia.org/wiki/Logical_conjunction)\n",
    "operator, and $\\lor$ is the logical\n",
    "[disjunction](https://en.wikipedia.org/wiki/Logical_disjunction)\n",
    "operator, and $\\lfloor\\colorbox{yellow}{y}\\rfloor{+}1$ is the subsequent\n",
    "year. The easiest way to explain this equation is in terms of the\n",
    "[Gregorian\n",
    "calendar](https://en.wikipedia.org/wiki/Gregorian_calendar#:~:text=the%20calendar%20used%20in%20most%20parts%20of%20the%20world):\n",
    "the length of a Dec year is 366 days if the subsequent year is a\n",
    "Gregorian calendar [leap\n",
    "year](https://en.wikipedia.org/wiki/Leap_year#:~:text=Every%20year%20that%20is%20exactly%20divisible%20by%20four%20is%20a%20leap%20year%2C%20except%20for%20years%20that%20are%20exactly%20divisible%20by%20100%2C%20but%20these%20centurial%20years%20are%20leap%20years%20if%20they%20are%20exactly%20divisible%20by%20400)\n",
    "and 365 days otherwise.\n",
    "\n",
    "Dec dates look almost identical to [ISO\n",
    "8601](https://en.wikipedia.org/wiki/ISO_8601#:~:text=an%20international%20standard%20covering%20the%20worldwide%20exchange%20and%20communication%20of%20date%20and%20time%2Drelated%20data)\n",
    "[ordinal\n",
    "dates](https://en.wikipedia.org/wiki/ISO_8601#Ordinal_dates:~:text=an%20ordinal%20format%20for%20the%20multiples%20of%20a%20day%20elapsed%20since%20the%20start%20of%20year).\n",
    "On the surface, it appears that the only difference is their\n",
    "[delimiter](https://en.wikipedia.org/wiki/Delimiter#:~:text=a%20sequence%20of%20one%20or%20more%20characters%20for%20specifying%20the%20boundary%20between%20separate%2C%20independent%20regions%20in%20plain%20text)\n",
    "(`+` versus `-`), but they also have different [starting\n",
    "values](https://en.wikipedia.org/wiki/Zero-based_numbering#:~:text=a%20way%20of%20numbering%20in%20which%20the%20initial%20element%20of%20a%20sequence%20is%20assigned%20the%20index%C2%A00)\n",
    "(0 versus 1),\n",
    "[epochs](https://en.wikipedia.org/wiki/Epoch#:~:text=an%20instant%20in%20time%20chosen%20as%20the%20origin%20of%20a%20particular%20calendar%20era)\n",
    "(Year 0 <span class=\"blue\" data-bs-toggle=\"tooltip\"\n",
    "data-bs-title=\"March 1\"><u>Day 0</u></span> versus Year -1\n",
    "<span class=\"blue\" data-bs-toggle=\"tooltip\"\n",
    "data-bs-title=\"January 1\"><u>Day 306</u></span>), and [year\n",
    "length](https://en.wikipedia.org/wiki/Intercalation_(timekeeping)#:~:text=the%20insertion%20of%20a%20leap%20day%2C%20week%2C%20or%20month)\n",
    "equations.\n",
    "\n",
    "60-day shift\n",
    "\n",
    "Animation\n",
    "\n",
    "Conversion functions year to year, doty to month and dotm, and vice\n",
    "versa. Conclusion: it is easier to work with unix time.\n",
    "\n",
    "Can we also find the day of the week? First, use dote2dotw function.\n",
    "Conclusion: it is easier to work with deks instead of weeks.\n",
    "\n",
    "days of the dek\n",
    "\n",
    "Dec finger counting method svg\n",
    "\n",
    "The Dec epoch, . This 60-day shift enables the `day` in `year+day` to\n",
    "function independently of the `year` as the date of annual events such\n",
    "as anniversaries.\n",
    "\n",
    "Use the sliders below to select a special date like your birthday🎂! You\n",
    "can also press the Play▶️button to make the sliders cycle🔄back and\n",
    "forth through every day of the year and its corresponding month and day\n",
    "of the month."
   ]
  },
  {
   "cell_type": "code",
   "execution_count": 8,
   "id": "46229157-7dc9-4e88-ad22-663dbc5edf78",
   "metadata": {},
   "outputs": [
    {
     "data": {
      "text/html": [
       "0.770611921736488"
      ],
      "text/latex": [
       "0.770611921736488"
      ],
      "text/markdown": [
       "0.770611921736488"
      ],
      "text/plain": [
       "[1] 0.7706119"
      ]
     },
     "metadata": {},
     "output_type": "display_data"
    },
    {
     "data": {
      "text/html": [
       "0.770611921736418"
      ],
      "text/latex": [
       "0.770611921736418"
      ],
      "text/markdown": [
       "0.770611921736418"
      ],
      "text/plain": [
       "[1] 0.7706119"
      ]
     },
     "metadata": {},
     "output_type": "display_data"
    }
   ],
   "source": [
    "now = Sys.time()\n",
    "utc <- as.POSIXlt(now, tz = \"UTC\")\n",
    "unix <- (as.numeric(as.POSIXct(now)) / 86400) %% 1\n",
    "utc <- utc$hour / 24 +\n",
    "       utc$min / 1440 +\n",
    "       as.numeric(utc$sec) / 86400\n",
    "utc\n",
    "unix"
   ]
  },
  {
   "cell_type": "code",
   "execution_count": 4,
   "id": "0745b35d-00fc-4dd7-8382-8e854d7b5a24",
   "metadata": {},
   "outputs": [
    {
     "data": {
      "text/html": [
       "1752085526.34629"
      ],
      "text/latex": [
       "1752085526.34629"
      ],
      "text/markdown": [
       "1752085526.34629"
      ],
      "text/plain": [
       "[1] 1752085526"
      ]
     },
     "metadata": {},
     "output_type": "display_data"
    }
   ],
   "source": [
    "as.numeric(as.POSIXct(Sys.time())"
   ]
  },
  {
   "cell_type": "markdown",
   "id": "1c8224a6-e228-423b-b1f5-50ddc9816faf",
   "metadata": {},
   "source": [
    "The animation above goes through an entire year in 36.5 beats, a million\n",
    "times faster🏎️than the actual speed of time! A Dec beat is a\n",
    "centimilliday (1% of a milliday, $10^{-5}$ of a day, or 86.4% of a\n",
    "second), which can be thought of as a heart❤️beat or\n",
    "musical🎵[beat](https://en.wikipedia.org/wiki/Beat_(music)#:~:text=the%20beat%20is%20the%20basic%20unit%20of%20time)\n",
    "with a constant\n",
    "[rate](https://en.wikipedia.org/wiki/Heart_rate#:~:text=The%20American%20Heart%20Association%20states%20the%20normal%20resting%20adult%20human%20heart%20rate%20is%2060%2D100%20bpm.)\n",
    "or\n",
    "[tempo](https://en.wikipedia.org/wiki/Tempo#Basic_tempo_markings:~:text=Adagietto%20%E2%80%93%20slower%20than,56%E2%80%93108%C2%A0bpm)\n",
    "of 69.4̅ beats per minute. In addition to displaying time on\n",
    "clocks🕰️and⌚️watches, beats can be used to measure durations, such as\n",
    "the time since this webpage was loaded:\n",
    "<span id=\"ojs-element-id-1\"></span>.\n",
    "\n",
    "For example, the current day of the year (doty) is Day\n",
    "<span id=\"ojs-element-id-2\"></span>.\n",
    "\n",
    "simplest way to describe Dec dates my website are based on the\n",
    "[Gregorian\n",
    "calendar](https://en.wikipedia.org/wiki/Gregorian_calendar#:~:text=the%20calendar%20used%20in%20most%20parts%20of%20the%20world),\n",
    "but any calendar with fixed rules can be turned in a Dec calendar\n",
    "(Decalendar) by expressing its dates as zero-based moving its starting\n",
    "point ().\n",
    "\n",
    "with simple arithmetic, Decalendar is\n",
    "[perennial](https://en.wikipedia.org/wiki/Perennial_calendar#:~:text=applies%20to%20any%20year%2C%20keeping%20the%20same%20dates),\n",
    "meaning that its features remain the same every year. Any\n",
    "\n",
    "Unlike ISO 8601 ordinal dates, Dec dates are based on the Dec calendar\n",
    "(Decalendar), a [perennial\n",
    "calendar](https://en.wikipedia.org/wiki/Perennial_calendar#:~:text=applies%20to%20any%20year%2C%20keeping%20the%20same%20dates),\n",
    "meaning that they are the same in every year, and thus can omit the year\n",
    "without becoming ambiguous. In contrast, ISO 8601 ordinal dates is\n",
    "omitted, susceptible to [off-by-one\n",
    "errors](https://en.wikipedia.org/wiki/Off-by-one_error#:~:text=a%20logic%20error%20that%20involves%20a%20number%20that%20differs%20from%20its%20intended%20value%20by%20%2B1%20or%20%E2%88%921).\n",
    "For example, the current day of the year.\n",
    "\n",
    "This major Dec dates can be omit the year and still be unequivocally\n",
    "converted into a month and a day [start counting days from\n",
    "zero](https://en.wikipedia.org/wiki/Zero-based_numbering#:~:text=a%20way%20of%20numbering%20in%20which%20the%20initial%20element%20of%20a%20sequence%20is%20assigned%20the%20index%C2%A00)\n",
    "and do not need omit the year .\n",
    "\n",
    "The first of the Dec year, [Day 0](), corresponds to Day 59 or Day 60\n",
    "have a different starting point while ISO 8601 ordinal dates start\n",
    "counting [from one](). Unlike ISO 8601 ordinal dates, Dec dates can omit\n",
    "the year and still be useful. are zero-based and can the ordinal day\n",
    "component of Dec dates can be unequivocally converted into [Gregorian\n",
    "calendar](https://en.wikipedia.org/wiki/Gregorian_calendar#:~:text=the%20calendar%20used%20in%20most%20parts%20of%20the%20world)\n",
    "dates Dec addresses the two major flaws of the by moving the start of\n",
    "the year to March 1. When Leap Day is the last day of the year, the day\n",
    "numbers (indexes) used by Decalendar remain constant year to year.\n",
    "Starting the year on March 1 also brings Decalendar in better alignment\n",
    "with the [metereological\n",
    "seasons](https://en.wikipedia.org/wiki/Season#:~:text=meteorological%20seasons%20are%20reckoned%20by%20temperature%2C%20with%20summer%20being%20the%20hottest%20quarter%20of%20the%20year%20and%20winter%20the%20coldest%20quarter%20of%20the%20year).\n",
    "\n",
    "Dec dates overcome several major flaws with the Gregorian calendar. The\n",
    "`day` in `year+day` dates is referred to as the “day of the year” or\n",
    "doty.\n",
    "\n",
    "a single number that can identify specific days of the year (like months\n",
    "and days of the month) and coordinate schedules of work and rest days\n",
    "(like weeks and days of the week). Essentially, Dec greatly simplifies\n",
    "the [Gregorian\n",
    "calendar](https://en.wikipedia.org/wiki/Gregorian_calendar#:~:text=the%20calendar%20used%20in%20most%20parts%20of%20the%20world)\n",
    "by replacing months and weeks with units called deks.\n",
    "\n",
    "[Gregorian\n",
    "calendar](https://en.wikipedia.org/wiki/Gregorian_calendar#:~:text=the%20calendar%20used%20in%20most%20parts%20of%20the%20world)\n",
    "dates are not aligned with the days of the week. In contrast, the day of\n",
    "the dek (dotd) is simply the last digit of the `day` number in the .y\n",
    "format.\n",
    "\n",
    "The `day` in `year+day` dates is a single number that can identify\n",
    "specific days of the year (like months and days of the month) and\n",
    "coordinate schedules of work and rest days (like weeks and days of the\n",
    "week). Essentially, Dec greatly simplifies the [Gregorian\n",
    "calendar](https://en.wikipedia.org/wiki/Gregorian_calendar#:~:text=the%20calendar%20used%20in%20most%20parts%20of%20the%20world)\n",
    "by replacing months and weeks with units called deks.\n",
    "\n",
    "Unlike months and weeks, deks are 10 days long and thus work well with\n",
    "our decimal number system. The dek and day of the dek are provided by\n",
    "the first two digits and the last digit of the 3-digit `day` number in\n",
    "Dec dates, respectively. For example, the current dek is Dek\n",
    "<span id=\"ojs-element-id-7\"></span> and the current day of the dek is\n",
    "Day <span id=\"ojs-element-id-3\"></span>.\n",
    "\n",
    "The most prominent Dec date on my site is the one in the Dec\n",
    "[timestamp](https://en.wikipedia.org/wiki/Timestamp#:~:text=a%20sequence%20of%20characters%20or%20encoded%20information%20identifying%20when%20a%20certain%20event%20occurred)\n",
    "in [navigation\n",
    "bar](https://en.wikipedia.org/wiki/Navigation_bar#:~:text=a%20section%20of%20a%20graphical%20user%20interface%20intended%20to%20aid%20visitors%20in%20accessing%20information)\n",
    "(navbar) above: <span id=\"ojs-element-id-4\"></span>. In this article, I\n",
    "will focus only on Dec dates (<span id=\"ojs-element-id-5\"></span>), but\n",
    "I will discuss Dec times (<span id=\"ojs-element-id-6\"></span>) in the\n",
    "[next article](../../dec/time) in the [Measurement section](../../dec).\n",
    "\n",
    "I generate all of the dates on my site from [UNIX\n",
    "time](https://en.wikipedia.org/wiki/Unix_time#:~:text=the%20number%20of%20non%2Dleap%20seconds%20that%20have%20elapsed%20since%2000%3A00%3A00%20UTC%20on%201st%C2%A0January%201970%2C%20the%20Unix%20epoch)\n",
    "using calculations that I adapted from the\n",
    "[`civil_from_days`](https://howardhinnant.github.io/date_algorithms.html#civil_from_days)\n",
    "function in [Howard Hinnant](https://howardhinnant.github.io)’s [`date`\n",
    "library](https://howardhinnant.github.io/date/date.html). Each tab in\n",
    "the [tabset\n",
    "panel](https://quarto.org/docs/interactive/layout.html#:~:text=Tabset%20Panel,-If%20you%20want%20to%20allow)\n",
    "below shows a different implementation of a function called `unix2date`\n",
    "which converts UNIX time into `year+day` dates.\n",
    "\n",
    "In this function, `socy` is an abbreviation for solar cycle and `dote`,\n",
    "`dotc`, and `yotc` are acronyms for “day of the era”, “day of the\n",
    "cycle”, and “day of the cycle”, respectively. A solar cycle in the\n",
    "Gregorian calendar is [400\n",
    "years](https://en.wikipedia.org/wiki/Solar_cycle_%28calendar%29#:~:text=400%2Dyear%20cycle%20of%20the%20Gregorian%20calendar).\n",
    "A [calendar\n",
    "era](https://en.wikipedia.org/wiki/Calendar_era#:~:text=the%20period%20of%20time%20elapsed%20since%20one%20epoch%20of%20a%20calendar)\n",
    "is the time that has passed since a starting point called a [calendar\n",
    "epoch](https://en.wikipedia.org/wiki/Epoch#:~:text=an%20instant%20in%20time%20chosen%20as%20the%20origin%20of%20a%20particular%20calendar%20era).\n",
    "The Dec epoch is <span class=\"blue\" data-bs-toggle=\"tooltip\"\n",
    "data-bs-title=\"0000-03-01\"><u>Year 0 Day 0</u></span>.\n",
    "\n",
    "# R"
   ]
  },
  {
   "cell_type": "code",
   "execution_count": 1,
   "id": "2d464d20",
   "metadata": {
    "tags": [
     "r",
     "func",
     "unix2date"
    ]
   },
   "outputs": [],
   "source": [
    "unix2date <- function(unix) {\n",
    "  dote = unix / 86400 + 719468\n",
    "  socy = ifelse(\n",
    "    dote >= 0, dote,\n",
    "    dote - 146096\n",
    "  ) %/% 146097\n",
    "  dotc = dote - socy * 146097\n",
    "  yotc = (\n",
    "    dotc - dotc %/% 1460\n",
    "    + dotc %/% 36524\n",
    "    - dotc %/% 146096\n",
    "  ) %/% 365\n",
    "  c(\n",
    "    yotc + socy * 400,\n",
    "    dotc - (yotc * 365\n",
    "      + yotc %/% 4\n",
    "      - yotc %/% 100\n",
    "))}\n",
    "unix2date(1728000000)\n",
    "unix2date(1890000000)"
   ]
  },
  {
   "cell_type": "markdown",
   "id": "80c63c56-8b53-4186-8d6b-1e1e9e996234",
   "metadata": {},
   "source": [
    "I use different programming languages to convert UNIX time in various\n",
    "places on my site. More specifically, I use a\n",
    "[Python](https://en.wikipedia.org/wiki/Python_%28programming_language%29#:~:text=a%20high%2Dlevel%2C%20general%2Dpurpose%20programming%20language)\n",
    "[post-render\n",
    "script](https://quarto.org/docs/projects/scripts.html#pre-and-post-render)\n",
    "([date.py](../../asset/date.py)) for the dates on the [page that lists\n",
    "all of the articles on my site](../../list), a\n",
    "[Lua](https://en.wikipedia.org/wiki/Lua_(programming_language)#:~:text=a%20lightweight%2C%20high%2Dlevel%2C%20multi%2Dparadigm%20programming%20language%20designed%20mainly%20for%20embedded%20use%20in%20applications)\n",
    "[filter](https://quarto.org/docs/extensions/filters.html)\n",
    "([date.lua](../../asset/date.lua)) for the PUBLISHED date at the top of\n",
    "each article, and an [include-after-body\n",
    "file](https://quarto.org/docs/output-formats/html-basics.html#includes)\n",
    "that sources a\n",
    "[JavaScript](https://en.wikipedia.org/wiki/JavaScript#:~:text=a%20programming%20language%20and%20core%20technology%20of%20the%20Web)\n",
    "file ([stamp.js](../../asset/stamp.js)) for the date in the above.\n",
    "[citation](http://localhost:4207/dec/date/#citation) information at the\n",
    "bottom of each article."
   ]
  },
  {
   "cell_type": "code",
   "execution_count": null,
   "id": "0b9415d3-ab2f-4844-af67-150a1d664283",
   "metadata": {},
   "outputs": [
    {
     "data": {},
     "metadata": {},
     "output_type": "display_data"
    },
    {
     "data": {},
     "metadata": {},
     "output_type": "display_data"
    },
    {
     "data": {},
     "metadata": {},
     "output_type": "display_data"
    },
    {
     "data": {},
     "metadata": {},
     "output_type": "display_data"
    },
    {
     "data": {},
     "metadata": {},
     "output_type": "display_data"
    },
    {
     "data": {},
     "metadata": {},
     "output_type": "display_data"
    },
    {
     "data": {},
     "metadata": {},
     "output_type": "display_data"
    },
    {
     "data": {},
     "metadata": {},
     "output_type": "display_data"
    },
    {
     "data": {},
     "metadata": {},
     "output_type": "display_data"
    },
    {
     "data": {},
     "metadata": {},
     "output_type": "display_data"
    },
    {
     "data": {},
     "metadata": {},
     "output_type": "display_data"
    },
    {
     "data": {},
     "metadata": {},
     "output_type": "display_data"
    },
    {
     "data": {},
     "metadata": {},
     "output_type": "display_data"
    },
    {
     "data": {},
     "metadata": {},
     "output_type": "display_data"
    },
    {
     "data": {},
     "metadata": {},
     "output_type": "display_data"
    },
    {
     "data": {},
     "metadata": {},
     "output_type": "display_data"
    },
    {
     "data": {},
     "metadata": {},
     "output_type": "display_data"
    },
    {
     "data": {},
     "metadata": {},
     "output_type": "display_data"
    },
    {
     "data": {},
     "metadata": {},
     "output_type": "display_data"
    },
    {
     "data": {},
     "metadata": {},
     "output_type": "display_data"
    },
    {
     "data": {},
     "metadata": {},
     "output_type": "display_data"
    },
    {
     "data": {},
     "metadata": {},
     "output_type": "display_data"
    },
    {
     "data": {},
     "metadata": {},
     "output_type": "display_data"
    },
    {
     "data": {},
     "metadata": {},
     "output_type": "display_data"
    },
    {
     "data": {},
     "metadata": {},
     "output_type": "display_data"
    },
    {
     "data": {},
     "metadata": {},
     "output_type": "display_data"
    },
    {
     "data": {},
     "metadata": {},
     "output_type": "display_data"
    },
    {
     "data": {},
     "metadata": {},
     "output_type": "display_data"
    },
    {
     "data": {},
     "metadata": {},
     "output_type": "display_data"
    },
    {
     "data": {},
     "metadata": {},
     "output_type": "display_data"
    },
    {
     "data": {},
     "metadata": {},
     "output_type": "display_data"
    },
    {
     "data": {},
     "metadata": {},
     "output_type": "display_data"
    },
    {
     "data": {},
     "metadata": {},
     "output_type": "display_data"
    },
    {
     "data": {},
     "metadata": {},
     "output_type": "display_data"
    },
    {
     "data": {},
     "metadata": {},
     "output_type": "display_data"
    },
    {
     "data": {},
     "metadata": {},
     "output_type": "display_data"
    },
    {
     "data": {},
     "metadata": {},
     "output_type": "display_data"
    },
    {
     "data": {},
     "metadata": {},
     "output_type": "display_data"
    },
    {
     "data": {},
     "metadata": {},
     "output_type": "display_data"
    },
    {
     "data": {},
     "metadata": {},
     "output_type": "display_data"
    }
   ],
   "source": []
  },
  {
   "cell_type": "markdown",
   "id": "04ecdbb5-b26b-4647-bbbf-6742f5f9f54f",
   "metadata": {},
   "source": [
    "<script type='ojs-module-contents'>\n",
    "eyJjb250ZW50cyI6WyAgeyJtZXRob2ROYW1lIjoiaW50ZXJwcmV0IiwiaW5saW5lIjoidHJ1ZSIsInNvdXJjZSI6Imh0bC5odG1sYDxzcGFuPiR7c3R5bGVkVGlja1RpbWV9PC9zcGFuPmAiLCAiY2VsbE5hbWUiOiJvanMtZWxlbWVudC1pZC0xIn0sICB7Im1ldGhvZE5hbWUiOiJpbnRlcnByZXQiLCJpbmxpbmUiOiJ0cnVlIiwic291cmNlIjoiaHRsLmh0bWxgPHNwYW4+JHtkZWNvRGF0ZX08L3NwYW4+YCIsICJjZWxsTmFtZSI6Im9qcy1lbGVtZW50LWlkLTIifSwgIHsibWV0aG9kTmFtZSI6ImludGVycHJldCIsImlubGluZSI6InRydWUiLCJzb3VyY2UiOiJodGwuaHRtbGA8c3Bhbj4ke2RlY29bN119PC9zcGFuPmAiLCAiY2VsbE5hbWUiOiJvanMtZWxlbWVudC1pZC0zIn0sICB7Im1ldGhvZE5hbWUiOiJpbnRlcnByZXQiLCJpbmxpbmUiOiJ0cnVlIiwic291cmNlIjoiaHRsLmh0bWxgPHNwYW4+JHtzdHlsZWREZWNvWWVhcjB9KyR7c3R5bGVkRGVjb0RhdGUwfSR7c3R5bGVkRGVjb1RpbWUwfS0ke3N0eWxlZFRpbWVab25lMH08L3NwYW4+YCIsICJjZWxsTmFtZSI6Im9qcy1lbGVtZW50LWlkLTQifSwgIHsibWV0aG9kTmFtZSI6ImludGVycHJldCIsImlubGluZSI6InRydWUiLCJzb3VyY2UiOiJodGwuaHRtbGA8c3Bhbj4ke3N0eWxlZERlY29ZZWFyMX0rJHtzdHlsZWREZWNvRGF0ZTF9PC9zcGFuPmAiLCAiY2VsbE5hbWUiOiJvanMtZWxlbWVudC1pZC01In0sICB7Im1ldGhvZE5hbWUiOiJpbnRlcnByZXQiLCJpbmxpbmUiOiJ0cnVlIiwic291cmNlIjoiaHRsLmh0bWxgPHNwYW4+JHtzdHlsZWREZWNvVGltZTF9LSR7c3R5bGVkVGltZVpvbmUxfTwvc3Bhbj5gIiwgImNlbGxOYW1lIjoib2pzLWVsZW1lbnQtaWQtNiJ9LCAgeyJtZXRob2ROYW1lIjoiaW50ZXJwcmV0IiwiaW5saW5lIjoidHJ1ZSIsInNvdXJjZSI6Imh0bC5odG1sYDxzcGFuPiR7ZGVjby5zbGljZSg1LCA3KX08L3NwYW4+YCIsICJjZWxsTmFtZSI6Im9qcy1lbGVtZW50LWlkLTcifV19\n",
    "</script>"
   ]
  }
 ],
 "metadata": {
  "kernelspec": {
   "display_name": "R",
   "language": "R",
   "name": "ir"
  },
  "language_info": {
   "codemirror_mode": "r",
   "file_extension": ".r",
   "mimetype": "text/x-r-source",
   "name": "R",
   "pygments_lexer": "r",
   "version": "4.4.1"
  }
 },
 "nbformat": 4,
 "nbformat_minor": 5
}
