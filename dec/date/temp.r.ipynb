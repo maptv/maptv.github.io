{
  "cells": [
    {
      "cell_type": "markdown",
      "metadata": {},
      "source": [
        "# Ordinal date\n",
        "\n",
        "\\| [Martin Laptev]()  \n",
        "2024+192\n",
        "\n",
        "My site is full of dates in the `year+day` format. The major advantage\n",
        "of this format is that the `day` component can unequivocally identify\n",
        "any date and time in a given year and thus can replace months, days of\n",
        "the month, hours, minutes, and seconds. In essence, the `day` number can\n",
        "To create all of the dates, I use three different programming languages:\n",
        "Python for the [listing page](../../list), Lua for the Published date at\n",
        "the top of each article, and JavaScript for the citation information at\n",
        "the bottom of each article.\n",
        "\n",
        "To test the code, I will create a separate Quarto markdown (`qmd`) file\n",
        "for each of these 3 programming languages and\n",
        "[embed](https://quarto.org/docs/authoring/notebook-embed.html#overview)\n",
        "them into this `qmd` file.\n",
        "\n",
        "# R"
      ],
      "id": "5a08772b-ab39-4764-a93d-c098246b881f"
    },
    {
      "cell_type": "code",
      "execution_count": null,
      "metadata": {
        "tags": [
          "r",
          "func"
        ]
      },
      "outputs": [],
      "source": [
        "unix2doty <- function(unix) {\n",
        "  dote = unix / 86400 + 719468\n",
        "  cykl = ifelse(\n",
        "    dote >= 0, dote,\n",
        "    dote - 146096\n",
        "  ) %/% 146097\n",
        "  dotc = dote - cykl * 146097\n",
        "  yotc = (\n",
        "    dotc - dotc %/% 1460\n",
        "    + dotc %/% 36524\n",
        "    - dotc %/% 146096\n",
        "  ) %/% 365\n",
        "  c(\n",
        "    yotc + cykl * 400,\n",
        "    dotc - (yotc * 365\n",
        "      + yotc %/% 4\n",
        "      - yotc %/% 100\n",
        "))}"
      ],
      "id": "c9bdbd7e-5ef8-4fd4-8cb3-a6ceaab6ebab"
    },
    {
      "cell_type": "code",
      "execution_count": null,
      "metadata": {
        "tags": [
          "r",
          "out0"
        ]
      },
      "outputs": [],
      "source": [
        "unix2doty(1728000000)"
      ],
      "id": "74e5dd9c-ff3e-459c-a27b-b66ee8a356da"
    },
    {
      "cell_type": "code",
      "execution_count": null,
      "metadata": {
        "tags": [
          "r",
          "out1"
        ]
      },
      "outputs": [],
      "source": [
        "unix2doty(1890000000)"
      ],
      "id": "077a3e75-d756-4356-b85c-f438e2752d06"
    }
  ],
  "nbformat": 4,
  "nbformat_minor": 5,
  "metadata": {
    "kernelspec": {
      "display_name": "Python 3",
      "language": "python",
      "name": "python3"
    }
  }
}