{
  "cells": [
    {
      "cell_type": "markdown",
      "metadata": {},
      "source": [
        "# \n",
        "\n",
        "\\| [Martin Laptev]()  \n",
        "1725342446000"
      ],
      "id": "840600a8-286b-41a3-8682-99831568fed1"
    },
    {
      "cell_type": "code",
      "execution_count": 2,
      "metadata": {
        "editable": true,
        "slideshow": {
          "slide_type": ""
        },
        "tags": []
      },
      "outputs": [
        {
          "output_type": "stream",
          "name": "stdout",
          "text": [
            "[ 2024, 186.2362175231101, 0 ]"
          ]
        }
      ],
      "source": [
        "function unix2dote(unix, zone, offset = 719468) {\n",
        "  return [\n",
        "    (unix ?? Date.now()) / 86400000\n",
        "    + (zone = zone ?? (10 - Math.round(\n",
        "        (new Date).getTimezoneOffset() / 144)) % 10\n",
        "      ) / 10 + offset, zone]\n",
        "}\n",
        "function dote2doty(dote = 719468, zone = 0) {\n",
        "  const cykl = Math.floor((dote >= 0 ? dote : dote - 146096) / 146097),\n",
        "  dotc = dote - cykl * 146097,\n",
        "  yotc = Math.floor((dotc - Math.floor(dotc / 1460) + Math.floor(dotc / 36524)\n",
        "    - Math.floor(dotc / 146096)) / 365);\n",
        "  return [yotc + cykl * 400,\n",
        "    dotc - yotc * 365 - Math.floor(yotc / 4) + Math.floor(yotc / 100), zone];\n",
        "}\n",
        "console.log(dote2doty(...unix2dote(null, 0)))"
      ],
      "id": "cell-0"
    },
    {
      "cell_type": "code",
      "execution_count": 15,
      "metadata": {},
      "outputs": [
        {
          "output_type": "display_data",
          "metadata": {},
          "data": {
            "text/html": [
              "<pre><span class=\"ansi-yellow-fg\">1725.342444847</span></pre>"
            ]
          }
        }
      ],
      "source": [
        "Date.now() / 1e9"
      ],
      "id": "cell-1"
    },
    {
      "cell_type": "code",
      "execution_count": 8,
      "metadata": {
        "editable": true,
        "slideshow": {
          "slide_type": ""
        },
        "tags": []
      },
      "outputs": [
        {
          "output_type": "stream",
          "name": "stdout",
          "text": [
            "8952.238700127346"
          ]
        }
      ],
      "source": [
        "function unix2dote(unix, zone, offset = 719468) {\n",
        "  return [\n",
        "    (unix ?? Date.now()) / 86400000\n",
        "    + (zone = zone ?? (10 - Math.round(\n",
        "        (new Date).getTimezoneOffset() / 144)) % 10\n",
        "      ) / 10 + offset, zone]\n",
        "}\n",
        "function dote2doty(dote = 719468, zone = 0) {\n",
        "  const cykl = Math.floor((dote >= 0 ? dote : dote - 146096) / 146097),\n",
        "  dotc = dote - cykl * 146097;\n",
        "  return dotc\n",
        "}\n",
        "console.log(dote2doty(...unix2dote(null, 0)))"
      ],
      "id": "cell-2"
    }
  ],
  "nbformat": 4,
  "nbformat_minor": 5,
  "metadata": {
    "kernelspec": {
      "name": "deno",
      "display_name": "Deno",
      "language": "typescript"
    },
    "language_info": {
      "name": "typescript",
      "file_extension": ".ts",
      "mimetype": "text/x.typescript",
      "nb_converter": "script",
      "pygments_lexer": "typescript",
      "version": "5.4.3"
    }
  }
}