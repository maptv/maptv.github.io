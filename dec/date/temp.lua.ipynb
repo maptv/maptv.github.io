{
  "cells": [
    {
      "cell_type": "markdown",
      "metadata": {},
      "source": [
        "# Ordinal date\n",
        "\n",
        "\\| [Martin Laptev]()  \n",
        "2024+192\n",
        "\n",
        "My site is full of dates in the `year+day` format. The major advantage\n",
        "of this format is that the `day` component can unequivocally identify\n",
        "any date and time in a given year and thus can replace months, days of\n",
        "the month, hours, minutes, and seconds. In essence, the `day` number can\n",
        "To create all of the dates, I use three different programming languages:\n",
        "Python for the [listing page](../../list), Lua for the Published date at\n",
        "the top of each article, and JavaScript for the citation information at\n",
        "the bottom of each article.\n",
        "\n",
        "To test the code, I will create a separate Quarto markdown (`qmd`) file\n",
        "for each of these 3 programming languages and\n",
        "[embed](https://quarto.org/docs/authoring/notebook-embed.html#overview)\n",
        "them into this `qmd` file.\n",
        "\n",
        "# Lua"
      ],
      "id": "bb3356b7-9494-4330-8d0d-a8593a5f479e"
    },
    {
      "cell_type": "code",
      "execution_count": null,
      "metadata": {
        "tags": [
          "lua",
          "func"
        ]
      },
      "outputs": [],
      "source": [
        "function unix2doty(unix)\n",
        "  local dote = unix / 86400 + 719468\n",
        "  local cykl = (\n",
        "    dote >= 0 and dote\n",
        "    or dote - 146096\n",
        "  ) // 146097\n",
        "  local dotc = dote - cykl * 146097\n",
        "  local yotc = (\n",
        "    dotc - dotc // 1460\n",
        "    + dotc // 36524\n",
        "    - dotc // 146096\n",
        "  ) // 365\n",
        "  return {\n",
        "    math.floor(yotc + cykl * 400),\n",
        "    dotc - (yotc * 365\n",
        "      + yotc // 4\n",
        "      - yotc // 100\n",
        "  )}\n",
        "end"
      ],
      "id": "468b73ee-7ddd-4116-ba67-4c8ee1ebf872"
    },
    {
      "cell_type": "code",
      "execution_count": null,
      "metadata": {
        "tags": [
          "lua",
          "out0"
        ]
      },
      "outputs": [],
      "source": [
        "unix2doty(1728000000)"
      ],
      "id": "4d945718-8333-4165-9eb1-c9310c0f7136"
    },
    {
      "cell_type": "code",
      "execution_count": null,
      "metadata": {
        "tags": [
          "lua",
          "out1"
        ]
      },
      "outputs": [],
      "source": [
        "unix2doty(1890000000)"
      ],
      "id": "173d16c0-dc78-4c35-b2d2-a2b4537d6b29"
    }
  ],
  "nbformat": 4,
  "nbformat_minor": 5,
  "metadata": {
    "kernelspec": {
      "display_name": "Python 3",
      "language": "python",
      "name": "python3"
    }
  }
}