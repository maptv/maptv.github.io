{
 "cells": [
  {
   "cell_type": "markdown",
   "id": "60fd9f0b-aad2-45d1-be46-ddd009205584",
   "metadata": {},
   "source": [
    "# Ordinal date\n",
    "\n",
    "\\| [Martin Laptev]()  \n",
    "2024+194\n",
    "\n",
    "My website serves as a demonstration of both the\n",
    "[Quarto](https://quarto.org) publishing system and the [Dec](../../dec)\n",
    "measurement system. I use several clever hacks to get Quarto to display\n",
    "all of the dates on my website in the Dec `year+day` format. Even if you\n",
    "are not interested in Dec dates, you may still benefit from learning\n",
    "about Quarto document customization via\n",
    "[filters](https://quarto.org/docs/extensions/filters.html), [render\n",
    "scripts](https://quarto.org/docs/projects/scripts.html#pre-and-post-render),\n",
    "and [include\n",
    "files](https://quarto.org/docs/output-formats/html-basics.html#includes).\n",
    "\n",
    "### Dec dates\n",
    "\n",
    "Dec dates are similar to [ISO\n",
    "8601](https://en.wikipedia.org/wiki/ISO_8601#:~:text=an%20international%20standard%20covering%20the%20worldwide%20exchange%20and%20communication%20of%20date%20and%20time%2Drelated%20data)\n",
    "[ordinal\n",
    "dates](https://en.wikipedia.org/wiki/ISO_8601#Ordinal_dates:~:text=an%20ordinal%20format%20for%20the%20multiples%20of%20a%20day%20elapsed%20since%20the%20start%20of%20year)\n",
    "in that both count the days since the start of the year. Despite this\n",
    "similarity, ISO 8601 and Dec dates differ in their\n",
    "[epoch](https://en.wikipedia.org/wiki/Epoch#:~:text=an%20instant%20in%20time%20chosen%20as%20the%20origin%20of%20a%20particular%20calendar%20era),\n",
    "[intercalation](https://en.wikipedia.org/wiki/Intercalation_(timekeeping)#:~:text=the%20insertion%20of%20a%20leap%20day%2C%20week%2C%20or%20month)\n",
    "system, and choice of\n",
    "[delimiter](https://en.wikipedia.org/wiki/Delimiter#:~:text=a%20sequence%20of%20one%20or%20more%20characters%20for%20specifying%20the%20boundary%20between%20separate%2C%20independent%20regions%20in%20plain%20text).\n",
    "\n",
    "The Dec epoch, <span class=\"blue\" data-bs-toggle=\"tooltip\"\n",
    "data-bs-title=\"0000-03-01\"><u>Year 0 Day 0</u></span>, is 60 days after\n",
    "the ISO 8601 epoch, <span class=\"blue\" data-bs-toggle=\"tooltip\"\n",
    "data-bs-title=\"0000-01-01\"><u>Year -1 Day 306</u></span>. This 60-day\n",
    "shift enables the `day` in `year+day` to function independently of the\n",
    "`year` as the date of annual events such as anniversaries.\n",
    "\n",
    "Use the sliders below to select a special date like your birthday🎂! You\n",
    "can also press the Play▶️button and then sit back and watch the sliders\n",
    "cycle🔄back and forth through every day of the year and see the\n",
    "corresponding month and day of the month values.\n",
    "\n",
    "The sliders cycle through an entire year in 36.5 beats, a million times\n",
    "faster🏎️than the actual speed of time! A Dec beat is a centimilliday (1%\n",
    "of a milliday) and 86.4% as long as a second and can be thought of as a\n",
    "heart❤️beat or\n",
    "musical🎵[beat](https://en.wikipedia.org/wiki/Beat_(music)#:~:text=the%20beat%20is%20the%20basic%20unit%20of%20time)\n",
    "with a constant\n",
    "[rate](https://en.wikipedia.org/wiki/Heart_rate#:~:text=The%20American%20Heart%20Association%20states%20the%20normal%20resting%20adult%20human%20heart%20rate%20is%2060%2D100%20bpm.)\n",
    "or\n",
    "[tempo](https://en.wikipedia.org/wiki/Tempo#Basic_tempo_markings:~:text=Adagietto%20%E2%80%93%20slower%20than,56%E2%80%93108%C2%A0bpm)\n",
    "of 69.4̅ beats per minute. In addition to displaying time on\n",
    "clocks🕰️and⌚️watches, `beats` can be used to measure durations, such as\n",
    "the time since this webpage was loaded:\n",
    "<span id=\"ojs-element-id-1\"></span>."
   ]
  },
  {
   "cell_type": "code",
   "execution_count": null,
   "id": "789a5e9a-5279-4d35-8320-8e9e45ff1613",
   "metadata": {},
   "outputs": [
    {
     "data": {},
     "metadata": {},
     "output_type": "display_data"
    },
    {
     "data": {},
     "metadata": {},
     "output_type": "display_data"
    },
    {
     "data": {},
     "metadata": {},
     "output_type": "display_data"
    },
    {
     "data": {},
     "metadata": {},
     "output_type": "display_data"
    }
   ],
   "source": []
  },
  {
   "cell_type": "markdown",
   "id": "e6043799-4a02-4d43-9304-35d00edb7d4c",
   "metadata": {},
   "source": [
    "For example, the current day of the year (doty) is Day\n",
    "<span id=\"ojs-element-id-2\"></span>.\n",
    "\n",
    "simplest way to describe Dec dates my website are based on the\n",
    "[Gregorian\n",
    "calendar](https://en.wikipedia.org/wiki/Gregorian_calendar#:~:text=the%20calendar%20used%20in%20most%20parts%20of%20the%20world),\n",
    "but any calendar with fixed rules can be turned in a Dec calendar\n",
    "(Decalendar) by expressing its dates as zero-based moving its starting\n",
    "point ().\n",
    "\n",
    "The various Decalendars can have different\n",
    "[epochs](https://en.wikipedia.org/wiki/Epoch#:~:text=an%20instant%20in%20time%20chosen%20as%20the%20origin%20of%20a%20particular%20calendar%20era),\n",
    "[year\n",
    "lengths](https://en.wikipedia.org/wiki/Year#:~:text=the%20mean%20length%20of%20the%20Gregorian%20calendar%20year%20is%20365.2425%20days),\n",
    "and [leap year\n",
    "rules](https://en.wikipedia.org/wiki/Leap_year#:~:text=Every%20year%20that%20is%20exactly%20divisible%20by%20four%20is%20a%20leap%20year%2C%20except%20for%20years%20that%20are%20exactly%20divisible%20by%20100%2C%20but%20these%20centurial%20years%20are%20leap%20years%20if%20they%20are%20exactly%20divisible%20by%20400).\n",
    "It should be possible to decalenderize any\n",
    "[rule-based](https://en.wikipedia.org/wiki/Rule-based_system#:~:text=a%20computer%20system%20in%20which%20domain%2Dspecific%20knowledge%20is%20represented%20in%20the%20form%20of%20rules%20and%20general%2Dpurpose%20reasoning%20is%20used%20to%20solve%20problems%20in%20the%20domain)\n",
    "calendar system, but\n",
    "[lunisolar](https://en.wikipedia.org/wiki/Lunisolar_calendar#:~:text=indicates%20both%20the%20Moon%20phase%20and%20the%20time%20of%20the%20solar%20year)\n",
    "decalendars are likely to be more difficult to implement than\n",
    "[solar](https://en.wikipedia.org/wiki/Solar_calendar#:~:text=a%20calendar%20whose%20dates%20indicate%20the%20season)\n",
    "and\n",
    "[lunar](https://en.wikipedia.org/wiki/Lunar_calendar#:~:text=a%20calendar%20based%20on%20the%20monthly%20cycles%20of%20the%20Moon%27s%20phases)\n",
    "decalendars because of the complexity of their\n",
    "[intercalation](https://en.wikipedia.org/wiki/Intercalation_%28timekeeping%29#:~:text=the%20insertion%20of%20a%20leap%20day%2C%20week%2C%20or%20month%20into%20some%20calendar%20years%20to%20make%20the%20calendar%20follow%20the%20seasons%20or%20moon%20phases)\n",
    "calculations.\n",
    "\n",
    "with simple arithmetic, Decalendar is\n",
    "[perennial](https://en.wikipedia.org/wiki/Perennial_calendar#:~:text=applies%20to%20any%20year%2C%20keeping%20the%20same%20dates),\n",
    "meaning that its features remain the same every year. Any\n",
    "\n",
    "Unlike ISO 8601 ordinal dates, Dec dates are based on the Dec calendar\n",
    "(Decalendar), a [perennial\n",
    "calendar](https://en.wikipedia.org/wiki/Perennial_calendar#:~:text=applies%20to%20any%20year%2C%20keeping%20the%20same%20dates),\n",
    "meaning that they are the same in every year, and thus can omit the year\n",
    "without becoming ambiguous. In contrast, ISO 8601 ordinal dates is\n",
    "omitted, susceptible to [off-by-one\n",
    "errors](https://en.wikipedia.org/wiki/Off-by-one_error#:~:text=a%20logic%20error%20that%20involves%20a%20number%20that%20differs%20from%20its%20intended%20value%20by%20%2B1%20or%20%E2%88%921).\n",
    "For example, the current day of the year.\n",
    "\n",
    "This major Dec dates can be omit the year and still be unequivocally\n",
    "converted into a month and a day [start counting days from\n",
    "zero](https://en.wikipedia.org/wiki/Zero-based_numbering#:~:text=a%20way%20of%20numbering%20in%20which%20the%20initial%20element%20of%20a%20sequence%20is%20assigned%20the%20index%C2%A00)\n",
    "and do not need omit the year .\n",
    "\n",
    "The first of the Dec year, [Day 0](), corresponds to Day 59 or Day 60\n",
    "have a different starting point while ISO 8601 ordinal dates start\n",
    "counting [from one](). Unlike ISO 8601 ordinal dates, Dec dates can omit\n",
    "the year and still be useful. are zero-based and can the ordinal day\n",
    "component of Dec dates can be unequivocally converted into [Gregorian\n",
    "calendar](https://en.wikipedia.org/wiki/Gregorian_calendar#:~:text=the%20calendar%20used%20in%20most%20parts%20of%20the%20world)\n",
    "dates Dec addresses the two major flaws of the by moving the start of\n",
    "the year to March 1. When Leap Day is the last day of the year, the day\n",
    "numbers (indexes) used by Decalendar remain constant year to year.\n",
    "Starting the year on March 1 also brings Decalendar in better alignment\n",
    "with the [metereological\n",
    "seasons](https://en.wikipedia.org/wiki/Season#:~:text=meteorological%20seasons%20are%20reckoned%20by%20temperature%2C%20with%20summer%20being%20the%20hottest%20quarter%20of%20the%20year%20and%20winter%20the%20coldest%20quarter%20of%20the%20year).\n",
    "\n",
    "Dec dates overcome several major flaws with the Gregorian calendar. The\n",
    "`day` in `year+day` dates is referred to as the “day of the year” or\n",
    "doty.\n",
    "\n",
    "a single number that can identify specific days of the year (like months\n",
    "and days of the month) and coordinate schedules of work and rest days\n",
    "(like weeks and days of the week). Essentially, Dec greatly simplifies\n",
    "the [Gregorian\n",
    "calendar](https://en.wikipedia.org/wiki/Gregorian_calendar#:~:text=the%20calendar%20used%20in%20most%20parts%20of%20the%20world)\n",
    "by replacing months and weeks with units called deks.\n",
    "\n",
    "[Gregorian\n",
    "calendar](https://en.wikipedia.org/wiki/Gregorian_calendar#:~:text=the%20calendar%20used%20in%20most%20parts%20of%20the%20world)\n",
    "dates are not aligned with the days of the week. In contrast, the day of\n",
    "the dek (dotd) is simply the last digit of the `day` number in the .y\n",
    "format.\n",
    "\n",
    "The `day` in `year+day` dates is a single number that can identify\n",
    "specific days of the year (like months and days of the month) and\n",
    "coordinate schedules of work and rest days (like weeks and days of the\n",
    "week). Essentially, Dec greatly simplifies the [Gregorian\n",
    "calendar](https://en.wikipedia.org/wiki/Gregorian_calendar#:~:text=the%20calendar%20used%20in%20most%20parts%20of%20the%20world)\n",
    "by replacing months and weeks with units called deks.\n",
    "\n",
    "Unlike months and weeks, deks are 10 days long and thus work well with\n",
    "our decimal number system. The dek and day of the dek are provided by\n",
    "the first two digits and the last digit of the 3-digit `day` number in\n",
    "Dec dates, respectively. For example, the current dek is Dek\n",
    "<span id=\"ojs-element-id-7\"></span> and the current day of the dek is\n",
    "Day <span id=\"ojs-element-id-3\"></span>.\n",
    "\n",
    "The most prominent Dec date on my site is the one in the Dec\n",
    "[timestamp](https://en.wikipedia.org/wiki/Timestamp#:~:text=a%20sequence%20of%20characters%20or%20encoded%20information%20identifying%20when%20a%20certain%20event%20occurred)\n",
    "in [navigation\n",
    "bar](https://en.wikipedia.org/wiki/Navigation_bar#:~:text=a%20section%20of%20a%20graphical%20user%20interface%20intended%20to%20aid%20visitors%20in%20accessing%20information)\n",
    "(navbar) above: <span id=\"ojs-element-id-4\"></span>. In this article, I\n",
    "will focus only on Dec dates (<span id=\"ojs-element-id-5\"></span>), but\n",
    "I will discuss Dec times (<span id=\"ojs-element-id-6\"></span>) in the\n",
    "[next article](../../dec/time) in the [Measurement section](../../dec).\n",
    "\n",
    "Dec dates are based on the decimal year date equation:\n",
    "$\\lfloor\\colorbox{yellow}{y}\\rfloor{+}\\colorbox{cyan}{d}{\\div}\\colorbox{orange}{n}{=}\\colorbox{yellow}{y}$.\n",
    "In this equation, $\\lfloor\\colorbox{yellow}{y}\\rfloor$ is the year,\n",
    "$\\colorbox{cyan}{d}$ is the day of the year, $\\colorbox{orange}{n}$ is\n",
    "the total number of days in the year, and the $\\colorbox{yellow}{y}$ is\n",
    "the decimal year.\n",
    "\n",
    "Dates in the `year+day` format only include the first two terms from the\n",
    "decimal year date equation ($\\colorbox{yellow}{y}$ and\n",
    "$\\colorbox{cyan}{d}$), because $\\colorbox{orange}{n}$ is not needed to\n",
    "identify a specific date in time, only has 2 possible values (365 or\n",
    "366), remains constant for long periods of time (366, 1095, or 2920\n",
    "days), and can be determined by applying the [Gregorian\n",
    "calendar](https://en.wikipedia.org/wiki/Gregorian_calendar#:~:text=the%20calendar%20used%20in%20most%20parts%20of%20the%20world)\n",
    "[leap year\n",
    "rule](https://en.wikipedia.org/wiki/Leap_year#:~:text=Every%20year%20that%20is%20exactly%20divisible%20by%20four%20is%20a%20leap%20year%2C%20except%20for%20years%20that%20are%20exactly%20divisible%20by%20100%2C%20but%20these%20centurial%20years%20are%20leap%20years%20if%20they%20are%20exactly%20divisible%20by%20400)\n",
    "to the subsequent year ($\\lfloor\\colorbox{yellow}{y}\\rfloor{+}1$):\n",
    "\n",
    "$\\colorbox{orange}{n}=\\begin{cases}\n",
    "  366&{\\begin{align}\\text{if } (\\lfloor \\colorbox{yellow}{y}\\rfloor+1)\\text{ \\% }4=0\\\\\n",
    "  \\land(\\lfloor \\colorbox{yellow}{y}\\rfloor+1)\\text{ \\% }100\\neq0\\\\\n",
    "  \\lor(\\lfloor \\colorbox{yellow}{y}\\rfloor+1)\\text{ \\% }400=0\\end{align}}\\\\\n",
    "  365&{\\text{otherwise.}}\\end{cases}$\n",
    "\n",
    "I generate all of the dates on my site from [UNIX\n",
    "time](https://en.wikipedia.org/wiki/Unix_time#:~:text=the%20number%20of%20non%2Dleap%20seconds%20that%20have%20elapsed%20since%2000%3A00%3A00%20UTC%20on%201st%C2%A0January%201970%2C%20the%20Unix%20epoch)\n",
    "using calculations that I adapted from the\n",
    "[`civil_from_days`](https://howardhinnant.github.io/date_algorithms.html#civil_from_days)\n",
    "function in [Howard Hinnant](https://howardhinnant.github.io)’s [`date`\n",
    "library](https://howardhinnant.github.io/date/date.html). Each tab in\n",
    "the [tabset\n",
    "panel](https://quarto.org/docs/interactive/layout.html#:~:text=Tabset%20Panel,-If%20you%20want%20to%20allow)\n",
    "below shows a different implementation of a function called `unix2date`\n",
    "which converts UNIX time into `year+day` dates.\n",
    "\n",
    "In this function, `socy` is an abbreviation for solar cycle and `dote`,\n",
    "`dotc`, and `yotc` are acronyms for “day of the era”, “day of the\n",
    "cycle”, and “day of the cycle”, respectively. A solar cycle in the\n",
    "Gregorian calendar is [400\n",
    "years](https://en.wikipedia.org/wiki/Solar_cycle_%28calendar%29#:~:text=400%2Dyear%20cycle%20of%20the%20Gregorian%20calendar).\n",
    "A [calendar\n",
    "era](https://en.wikipedia.org/wiki/Calendar_era#:~:text=the%20period%20of%20time%20elapsed%20since%20one%20epoch%20of%20a%20calendar)\n",
    "is the time that has passed since a starting point called a [calendar\n",
    "epoch](https://en.wikipedia.org/wiki/Epoch#:~:text=an%20instant%20in%20time%20chosen%20as%20the%20origin%20of%20a%20particular%20calendar%20era).\n",
    "The Dec epoch is <span class=\"blue\" data-bs-toggle=\"tooltip\"\n",
    "data-bs-title=\"0000-03-01\"><u>Year 0 Day 0</u></span>.\n",
    "\n",
    "# Lua"
   ]
  },
  {
   "cell_type": "code",
   "execution_count": 1,
   "id": "11727f09",
   "metadata": {
    "tags": [
     "lua",
     "func"
    ]
   },
   "outputs": [],
   "source": [
    "function unix2date(unix)\n",
    "  local dote = unix / 86400 + 719468\n",
    "  local socy = (\n",
    "    dote >= 0 and dote\n",
    "    or dote - 146096\n",
    "  ) // 146097\n",
    "  local dotc = dote - socy * 146097\n",
    "  local yotc = (\n",
    "    dotc - dotc // 1460\n",
    "    + dotc // 36524\n",
    "    - dotc // 146096\n",
    "  ) // 365\n",
    "  return {\n",
    "    math.floor(yotc + socy * 400),\n",
    "    dotc - (yotc * 365\n",
    "      + yotc // 4\n",
    "      - yotc // 100\n",
    "  )}\n",
    "end"
   ]
  },
  {
   "cell_type": "code",
   "execution_count": 2,
   "id": "c5d0fbdc",
   "metadata": {
    "tags": [
     "lua",
     "out0"
    ]
   },
   "outputs": [],
   "source": [
    "unix2date(1728000000)"
   ]
  },
  {
   "cell_type": "code",
   "execution_count": 3,
   "id": "0209e649",
   "metadata": {
    "tags": [
     "lua",
     "out1"
    ]
   },
   "outputs": [],
   "source": [
    "unix2date(1890000000)"
   ]
  },
  {
   "cell_type": "markdown",
   "id": "5c7d9e8f-9044-4940-beb2-55b79801e825",
   "metadata": {},
   "source": [
    "I use different programming languages to convert UNIX time in various\n",
    "places on my site. More specifically, I use a\n",
    "[Python](https://en.wikipedia.org/wiki/Python_%28programming_language%29#:~:text=a%20high%2Dlevel%2C%20general%2Dpurpose%20programming%20language)\n",
    "[post-render\n",
    "script](https://quarto.org/docs/projects/scripts.html#pre-and-post-render)\n",
    "([date.py](../../asset/date.py)) for the dates on the [page that lists\n",
    "all of the articles on my site](../../list), a\n",
    "[Lua](https://en.wikipedia.org/wiki/Lua_(programming_language)#:~:text=a%20lightweight%2C%20high%2Dlevel%2C%20multi%2Dparadigm%20programming%20language%20designed%20mainly%20for%20embedded%20use%20in%20applications)\n",
    "[filter](https://quarto.org/docs/extensions/filters.html)\n",
    "([date.lua](../../asset/date.lua)) for the PUBLISHED date at the top of\n",
    "each article, and an [include-after-body\n",
    "file](https://quarto.org/docs/output-formats/html-basics.html#includes)\n",
    "that sources a\n",
    "[JavaScript](https://en.wikipedia.org/wiki/JavaScript#:~:text=a%20programming%20language%20and%20core%20technology%20of%20the%20Web)\n",
    "file ([stamp.js](../../asset/stamp.js)) for the date in the above.\n",
    "[citation](http://localhost:4207/dec/date/#citation) information at the\n",
    "bottom of each article."
   ]
  },
  {
   "cell_type": "code",
   "execution_count": null,
   "id": "6627ba6d-841f-4ab5-ba1d-1732e3c51d0d",
   "metadata": {},
   "outputs": [
    {
     "data": {},
     "metadata": {},
     "output_type": "display_data"
    },
    {
     "data": {},
     "metadata": {},
     "output_type": "display_data"
    },
    {
     "data": {},
     "metadata": {},
     "output_type": "display_data"
    },
    {
     "data": {},
     "metadata": {},
     "output_type": "display_data"
    },
    {
     "data": {},
     "metadata": {},
     "output_type": "display_data"
    },
    {
     "data": {},
     "metadata": {},
     "output_type": "display_data"
    },
    {
     "data": {},
     "metadata": {},
     "output_type": "display_data"
    },
    {
     "data": {},
     "metadata": {},
     "output_type": "display_data"
    },
    {
     "data": {},
     "metadata": {},
     "output_type": "display_data"
    },
    {
     "data": {},
     "metadata": {},
     "output_type": "display_data"
    },
    {
     "data": {},
     "metadata": {},
     "output_type": "display_data"
    },
    {
     "data": {},
     "metadata": {},
     "output_type": "display_data"
    },
    {
     "data": {},
     "metadata": {},
     "output_type": "display_data"
    },
    {
     "data": {},
     "metadata": {},
     "output_type": "display_data"
    },
    {
     "data": {},
     "metadata": {},
     "output_type": "display_data"
    },
    {
     "data": {},
     "metadata": {},
     "output_type": "display_data"
    },
    {
     "data": {},
     "metadata": {},
     "output_type": "display_data"
    },
    {
     "data": {},
     "metadata": {},
     "output_type": "display_data"
    },
    {
     "data": {},
     "metadata": {},
     "output_type": "display_data"
    },
    {
     "data": {},
     "metadata": {},
     "output_type": "display_data"
    },
    {
     "data": {},
     "metadata": {},
     "output_type": "display_data"
    },
    {
     "data": {},
     "metadata": {},
     "output_type": "display_data"
    },
    {
     "data": {},
     "metadata": {},
     "output_type": "display_data"
    },
    {
     "data": {},
     "metadata": {},
     "output_type": "display_data"
    },
    {
     "data": {},
     "metadata": {},
     "output_type": "display_data"
    },
    {
     "data": {},
     "metadata": {},
     "output_type": "display_data"
    },
    {
     "data": {},
     "metadata": {},
     "output_type": "display_data"
    },
    {
     "data": {},
     "metadata": {},
     "output_type": "display_data"
    },
    {
     "data": {},
     "metadata": {},
     "output_type": "display_data"
    }
   ],
   "source": []
  },
  {
   "cell_type": "code",
   "execution_count": null,
   "id": "6f93fa12-a38d-4fdb-be42-e200e97ca05a",
   "metadata": {},
   "outputs": [],
   "source": [
    "transformInput = function(target, {bind: source, transform = identity, involutory = false, invert = involutory ? transform : inverse(transform)} = {}){\n",
    "  if (source === undefined) {\n",
    "    source = target;\n",
    "    target = html`<div>${source}</div>`;\n",
    "  }\n",
    "  function sourceInputHandler() {\n",
    "    target.removeEventListener(\"input\", targetInputHandler);\n",
    "    setTransform(target).to(transform(source.value)).andDispatchEvent();\n",
    "    target.addEventListener(\"input\", targetInputHandler);\n",
    "  }\n",
    "  function targetInputHandler() {\n",
    "    source.removeEventListener(\"input\", sourceInputHandler);\n",
    "    setTransform(source).to(invert(target.value)).andDispatchEvent();\n",
    "    source.addEventListener(\"input\", sourceInputHandler);\n",
    "  }\n",
    "  source.addEventListener(\"input\", sourceInputHandler);\n",
    "  target.addEventListener(\"input\", targetInputHandler);\n",
    "  invalidation.then(() => {\n",
    "    source.removeEventListener(\"input\", sourceInputHandler);\n",
    "    target.removeEventListener(\"input\", targetInputHandler);\n",
    "  });\n",
    "  sourceInputHandler();\n",
    "  return target;\n",
    "}\n",
    "setTransform = (input) => ({to: (value) => (input.value = value, {andDispatchEvent: (event = new Event(\"input\")) => input.dispatchEvent(event)})});\n",
    "function inverse(f) {\n",
    "  switch (f) {\n",
    "    case identity:  return identity;\n",
    "    case Math.sqrt: return square;\n",
    "    case Math.log:  return Math.exp;\n",
    "    case Math.exp:  return Math.log;\n",
    "    default:        return (x => solve(f, x, x));\n",
    "  }\n",
    "  function solve(f, y, x = 0) {\n",
    "    const dx = 1e-6;\n",
    "    let steps = 100, deltax, fx, dfx;\n",
    "    do {\n",
    "      fx = f(x)\n",
    "      dfx = (f(x + dx) - fx) || dx;\n",
    "      deltax = dx * (fx - y)/dfx\n",
    "      x -= deltax;\n",
    "    } while (Math.abs(deltax) > dx && --steps > 0);\n",
    "    return steps === 0 ? NaN : x;\n",
    "  }\n",
    "function square(x) {\n",
    "    return x * x;\n",
    "  }\n",
    "}\n",
    "function identity(x) {\n",
    "  return x;\n",
    "}\n",
    "function doty2month(doty = 0) {\n",
    "    const m = Math.floor((5 * doty + 2) / 153);\n",
    "    return Math.floor(m < 10 ? m + 3 : m - 9);\n",
    "}\n",
    "function month2doty(month = 1) {\n",
    "    return Math.floor(\n",
    "        (153 * (month > 2 ? month - 3 : month + 9) + 2) / 5\n",
    ")}\n",
    "function doty2dotm(doty = 0) {\n",
    "    const m = Math.floor((5 * doty + 2) / 153);\n",
    "    return doty - Math.floor((153 * m + 2) / 5) + 1;\n",
    "}\n",
    "numbers = Array.from({length: 366}, (_, i) => i)\n",
    "set(viewof inputDoty, scrubberDoty)"
   ]
  },
  {
   "cell_type": "markdown",
   "id": "3fe8b8b3-f010-4aaa-a4cd-cb27763aa62b",
   "metadata": {},
   "source": [
    "<script type='ojs-module-contents'>\n",
    "eyJjb250ZW50cyI6WyAgeyJtZXRob2ROYW1lIjoiaW50ZXJwcmV0IiwiaW5saW5lIjoidHJ1ZSIsInNvdXJjZSI6Imh0bC5odG1sYDxzcGFuPiR7c3R5bGVkVGlja1RpbWV9PC9zcGFuPmAiLCAiY2VsbE5hbWUiOiJvanMtZWxlbWVudC1pZC0xIn0sICB7Im1ldGhvZE5hbWUiOiJpbnRlcnByZXQiLCJpbmxpbmUiOiJ0cnVlIiwic291cmNlIjoiaHRsLmh0bWxgPHNwYW4+JHtkZWNvRGF0ZX08L3NwYW4+YCIsICJjZWxsTmFtZSI6Im9qcy1lbGVtZW50LWlkLTIifSwgIHsibWV0aG9kTmFtZSI6ImludGVycHJldCIsImlubGluZSI6InRydWUiLCJzb3VyY2UiOiJodGwuaHRtbGA8c3Bhbj4ke2RlY29bN119PC9zcGFuPmAiLCAiY2VsbE5hbWUiOiJvanMtZWxlbWVudC1pZC0zIn0sICB7Im1ldGhvZE5hbWUiOiJpbnRlcnByZXQiLCJpbmxpbmUiOiJ0cnVlIiwic291cmNlIjoiaHRsLmh0bWxgPHNwYW4+JHtzdHlsZWREZWNvWWVhcjB9KyR7c3R5bGVkRGVjb0RhdGUwfSR7c3R5bGVkRGVjb1RpbWUwfS0ke3N0eWxlZFRpbWVab25lMH08L3NwYW4+YCIsICJjZWxsTmFtZSI6Im9qcy1lbGVtZW50LWlkLTQifSwgIHsibWV0aG9kTmFtZSI6ImludGVycHJldCIsImlubGluZSI6InRydWUiLCJzb3VyY2UiOiJodGwuaHRtbGA8c3Bhbj4ke3N0eWxlZERlY29ZZWFyMX0rJHtzdHlsZWREZWNvRGF0ZTF9PC9zcGFuPmAiLCAiY2VsbE5hbWUiOiJvanMtZWxlbWVudC1pZC01In0sICB7Im1ldGhvZE5hbWUiOiJpbnRlcnByZXQiLCJpbmxpbmUiOiJ0cnVlIiwic291cmNlIjoiaHRsLmh0bWxgPHNwYW4+JHtzdHlsZWREZWNvVGltZTF9LSR7c3R5bGVkVGltZVpvbmUxfTwvc3Bhbj5gIiwgImNlbGxOYW1lIjoib2pzLWVsZW1lbnQtaWQtNiJ9LCAgeyJtZXRob2ROYW1lIjoiaW50ZXJwcmV0IiwiaW5saW5lIjoidHJ1ZSIsInNvdXJjZSI6Imh0bC5odG1sYDxzcGFuPiR7ZGVjby5zbGljZSg1LCA3KX08L3NwYW4+YCIsICJjZWxsTmFtZSI6Im9qcy1lbGVtZW50LWlkLTcifV19\n",
    "</script>"
   ]
  }
 ],
 "metadata": {
  "kernelspec": {
   "display_name": "Lua  (XLua)",
   "language": "lua",
   "name": "xlua"
  },
  "language_info": {
   "file_extension": ".lua",
   "mimetype": "text/x-luasrc",
   "name": "lua",
   "version": "14.0.0"
  }
 },
 "nbformat": 4,
 "nbformat_minor": 5
}
