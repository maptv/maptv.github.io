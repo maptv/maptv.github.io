


utc_now <- as.POSIXlt(Sys.time(), tz = "UTC")
unix <- (as.numeric(as.POSIXct(utc_now)) / 86400) %% 1
utc <- utc_now$hour / 24 +
       utc_now$min / 1440 +
       as.numeric(utc_now$sec) / 86400
utc
unix








unix2date <- function(unix) {
  dote = unix / 86400 + 719468
  socy = ifelse(
    dote >= 0, dote,
    dote - 146096
  ) %/% 146097
  dotc = dote - socy * 146097
  yotc = (
    dotc - dotc %/% 1460
    + dotc %/% 36524
    - dotc %/% 146096
  ) %/% 365
  c(
    yotc + socy * 400,
    dotc - (yotc * 365
      + yotc %/% 4
      - yotc %/% 100
))}
unix2date(1728000000)
unix2date(1890000000)









