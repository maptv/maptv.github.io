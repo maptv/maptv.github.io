{
 "cells": [
  {
   "cell_type": "code",
   "execution_count": 4,
   "metadata": {
    "editable": true,
    "slideshow": {
     "slide_type": ""
    },
    "tags": []
   },
   "outputs": [],
   "source": [
    "function dote2date(dote) {\n",
    "  const socy = Math.floor((\n",
    "      dote >= 0 ? dote\n",
    "      : dote - 146096\n",
    "    ) / 146097),\n",
    "  dotc = dote - socy * 146097,\n",
    "  yotc = Math.floor((dotc\n",
    "    - Math.floor(dotc / 1460)\n",
    "    + Math.floor(dotc / 36524)\n",
    "    - Math.floor(dotc / 146096)\n",
    "  ) / 365);\n",
    "  return [\n",
    "    yotc + socy * 400,\n",
    "    dotc - (yotc * 365\n",
    "      + Math.floor(yotc / 4)\n",
    "      - Math.floor(yotc / 100)\n",
    "  )]}"
   ]
  },
  {
   "cell_type": "code",
   "execution_count": null,
   "metadata": {},
   "outputs": [],
   "source": []
  },
  {
   "cell_type": "code",
   "execution_count": null,
   "metadata": {},
   "outputs": [],
   "source": []
  },
  {
   "cell_type": "code",
   "execution_count": 5,
   "metadata": {
    "editable": true,
    "slideshow": {
     "slide_type": ""
    },
    "tags": []
   },
   "outputs": [
    {
     "data": {
      "text/plain": [
       "[ \u001b[33m2024\u001b[39m, \u001b[33m217\u001b[39m ]"
      ]
     },
     "execution_count": 5,
     "metadata": {},
     "output_type": "execute_result"
    }
   ],
   "source": [
    "function unix2date(unix) {\n",
    "  return dote2date(unix / 86400 + 719468)\n",
    "}\n",
    "unix2date(1728000000)"
   ]
  },
  {
   "cell_type": "code",
   "execution_count": 6,
   "metadata": {
    "editable": true,
    "slideshow": {
     "slide_type": ""
    },
    "tags": []
   },
   "outputs": [],
   "source": [
    "function unix2dote(unix) {\n",
    "  return unix / 86400 + 719468\n",
    "}"
   ]
  },
  {
   "cell_type": "code",
   "execution_count": 7,
   "metadata": {
    "editable": true,
    "slideshow": {
     "slide_type": ""
    },
    "tags": []
   },
   "outputs": [
    {
     "data": {
      "text/plain": [
       "[ \u001b[33m2024\u001b[39m, \u001b[33m217\u001b[39m ]"
      ]
     },
     "execution_count": 7,
     "metadata": {},
     "output_type": "execute_result"
    }
   ],
   "source": [
    "unix2date(1728000000)"
   ]
  },
  {
   "cell_type": "code",
   "execution_count": 8,
   "metadata": {
    "scrolled": true
   },
   "outputs": [
    {
     "data": {
      "text/plain": [
       "[ \u001b[33m2029\u001b[39m, \u001b[33m266\u001b[39m ]"
      ]
     },
     "execution_count": 8,
     "metadata": {},
     "output_type": "execute_result"
    }
   ],
   "source": [
    "unix2date(1890000000)"
   ]
  },
  {
   "cell_type": "code",
   "execution_count": 4,
   "metadata": {},
   "outputs": [],
   "source": [
    "function date2dote(year, doty) {\n",
    "  if (year >= 0) {\n",
    "    return year * 365\n",
    "      + Math.floor(year / 4)\n",
    "      - Math.floor(year / 100)\n",
    "      + Math.floor(year) / 400\n",
    "      + doty\n",
    "  }\n",
    "  const socy = Math.floor(\n",
    "    (year - 399) / 400),\n",
    "    yotc = year - socy * 400;\n",
    "  return socy * 146097\n",
    "    + yotc * 365\n",
    "    + Math.floor(yotc / 4)\n",
    "    - Math.floor(yotc / 100)\n",
    "    + doty\n",
    "}   "
   ]
  },
  {
   "cell_type": "code",
   "execution_count": 5,
   "metadata": {},
   "outputs": [
    {
     "data": {
      "text/plain": [
       "\u001b[33m60\u001b[39m"
      ]
     },
     "execution_count": 5,
     "metadata": {},
     "output_type": "execute_result"
    }
   ],
   "source": [
    "date2dote(0, 0) - date2dote(-1, 306)"
   ]
  },
  {
   "cell_type": "code",
   "execution_count": 6,
   "metadata": {},
   "outputs": [
    {
     "data": {
      "text/plain": [
       "\u001b[33m739616.0625\u001b[39m"
      ]
     },
     "execution_count": 6,
     "metadata": {},
     "output_type": "execute_result"
    }
   ],
   "source": [
    "date2dote(2025, 0)"
   ]
  },
  {
   "cell_type": "code",
   "execution_count": 88,
   "metadata": {},
   "outputs": [
    {
     "name": "stdout",
     "output_type": "stream",
     "text": [
      "\u001b[33mfalse\u001b[39m\n",
      "\u001b[33m365\u001b[39m\n",
      "[ \u001b[33m1970\u001b[39m, \u001b[33m1\u001b[39m ]\n",
      "[ \u001b[33m1969\u001b[39m, \u001b[33m306\u001b[39m ]\n"
     ]
    }
   ],
   "source": [
    "function leap(year = 1969) {\n",
    "  return year % 4 == 0 && year % 100 != 0 || year % 400 == 0;\n",
    "}\n",
    "function leap1(year = 1969) {\n",
    "  return year % 4 || !(year % 100) && year % 400 ? 0 : 1;\n",
    "}\n",
    "function year2dity(year = 1969) {\n",
    "  return 365 + leap(year + 1)\n",
    "}\n",
    "function date2isoo(year = 1969, doty = 306) {\n",
    "  return [year + (doty > 305),\n",
    "          (doty + 59 + leap(year)) % (365 + leap(year)) + 1]\n",
    "}\n",
    "function isoo2date(year = 1970, doty = 1) {\n",
    "  return [year - (doty < (60 + leap(year))),\n",
    "          (doty + 305) % (365 + leap(year))]\n",
    "}\n",
    "console.log(leap())\n",
    "console.log(year2dity())\n",
    "console.log(date2isoo())\n",
    "console.log(isoo2date())"
   ]
  },
  {
   "cell_type": "code",
   "execution_count": 92,
   "metadata": {},
   "outputs": [
    {
     "data": {
      "text/plain": [
       "\u001b[33m1\u001b[39m"
      ]
     },
     "execution_count": 92,
     "metadata": {},
     "output_type": "execute_result"
    }
   ],
   "source": [
    "leap1(0)"
   ]
  },
  {
   "cell_type": "code",
   "execution_count": 93,
   "metadata": {},
   "outputs": [
    {
     "data": {
      "text/plain": [
       "\u001b[33m1\u001b[39m"
      ]
     },
     "execution_count": 93,
     "metadata": {},
     "output_type": "execute_result"
    }
   ],
   "source": [
    "leap1(2000)"
   ]
  },
  {
   "cell_type": "code",
   "execution_count": 94,
   "metadata": {},
   "outputs": [
    {
     "data": {
      "text/plain": [
       "\u001b[33m1\u001b[39m"
      ]
     },
     "execution_count": 94,
     "metadata": {},
     "output_type": "execute_result"
    }
   ],
   "source": [
    "leap1(4)"
   ]
  },
  {
   "cell_type": "code",
   "execution_count": 95,
   "metadata": {},
   "outputs": [
    {
     "data": {
      "text/plain": [
       "\u001b[33m0\u001b[39m"
      ]
     },
     "execution_count": 95,
     "metadata": {},
     "output_type": "execute_result"
    }
   ],
   "source": [
    "leap1(100)"
   ]
  },
  {
   "cell_type": "code",
   "execution_count": 120,
   "metadata": {},
   "outputs": [],
   "source": [
    "function daysInMonth(y, m) {\n",
    "    return m === 2 ? (28 + leap(y)) : 31 - (m -  1) %  7 %  2 ;\n",
    "}"
   ]
  },
  {
   "cell_type": "code",
   "execution_count": 121,
   "metadata": {},
   "outputs": [
    {
     "data": {
      "text/plain": [
       "\u001b[33m29\u001b[39m"
      ]
     },
     "execution_count": 121,
     "metadata": {},
     "output_type": "execute_result"
    }
   ],
   "source": [
    "daysInMonth(2000, 2)"
   ]
  },
  {
   "cell_type": "code",
   "execution_count": 49,
   "metadata": {},
   "outputs": [
    {
     "data": {
      "text/plain": [
       "\u001b[33m0\u001b[39m"
      ]
     },
     "execution_count": 49,
     "metadata": {},
     "output_type": "execute_result"
    }
   ],
   "source": [
    "4 % 4"
   ]
  },
  {
   "cell_type": "code",
   "execution_count": 12,
   "metadata": {},
   "outputs": [
    {
     "data": {
      "text/plain": [
       "[ \u001b[33m2\u001b[39m, \u001b[33m60\u001b[39m ]"
      ]
     },
     "execution_count": 12,
     "metadata": {},
     "output_type": "execute_result"
    }
   ],
   "source": [
    "date2isoo(1, 365)"
   ]
  },
  {
   "cell_type": "code",
   "execution_count": 26,
   "metadata": {},
   "outputs": [
    {
     "data": {
      "text/plain": [
       "[\n",
       "  [ \u001b[33m0\u001b[39m, \u001b[33m361\u001b[39m ], [ \u001b[33m0\u001b[39m, \u001b[33m362\u001b[39m ],\n",
       "  [ \u001b[33m0\u001b[39m, \u001b[33m363\u001b[39m ], [ \u001b[33m0\u001b[39m, \u001b[33m364\u001b[39m ],\n",
       "  [ \u001b[33m0\u001b[39m, \u001b[33m365\u001b[39m ], [ \u001b[33m0\u001b[39m, \u001b[33m366\u001b[39m ],\n",
       "  [ \u001b[33m1\u001b[39m, \u001b[33m1\u001b[39m ],   [ \u001b[33m1\u001b[39m, \u001b[33m2\u001b[39m ],\n",
       "  [ \u001b[33m1\u001b[39m, \u001b[33m3\u001b[39m ]\n",
       "]"
      ]
     },
     "execution_count": 26,
     "metadata": {},
     "output_type": "execute_result"
    }
   ],
   "source": [
    "[...Array(9).keys()].map(n => date2isoo(0, n+300))"
   ]
  },
  {
   "cell_type": "code",
   "execution_count": 27,
   "metadata": {},
   "outputs": [
    {
     "data": {
      "text/plain": [
       "[\n",
       "  [ \u001b[33m3\u001b[39m, \u001b[33m360\u001b[39m ], [ \u001b[33m3\u001b[39m, \u001b[33m361\u001b[39m ],\n",
       "  [ \u001b[33m3\u001b[39m, \u001b[33m362\u001b[39m ], [ \u001b[33m3\u001b[39m, \u001b[33m363\u001b[39m ],\n",
       "  [ \u001b[33m3\u001b[39m, \u001b[33m364\u001b[39m ], [ \u001b[33m3\u001b[39m, \u001b[33m365\u001b[39m ],\n",
       "  [ \u001b[33m4\u001b[39m, \u001b[33m1\u001b[39m ],   [ \u001b[33m4\u001b[39m, \u001b[33m2\u001b[39m ],\n",
       "  [ \u001b[33m4\u001b[39m, \u001b[33m3\u001b[39m ]\n",
       "]"
      ]
     },
     "execution_count": 27,
     "metadata": {},
     "output_type": "execute_result"
    }
   ],
   "source": [
    "[...Array(9).keys()].map(n => date2isoo(3, n+300))"
   ]
  },
  {
   "cell_type": "code",
   "execution_count": 28,
   "metadata": {},
   "outputs": [
    {
     "data": {
      "text/plain": [
       "[\n",
       "  [ \u001b[33m4\u001b[39m, \u001b[33m361\u001b[39m ], [ \u001b[33m4\u001b[39m, \u001b[33m362\u001b[39m ],\n",
       "  [ \u001b[33m4\u001b[39m, \u001b[33m363\u001b[39m ], [ \u001b[33m4\u001b[39m, \u001b[33m364\u001b[39m ],\n",
       "  [ \u001b[33m4\u001b[39m, \u001b[33m365\u001b[39m ], [ \u001b[33m4\u001b[39m, \u001b[33m366\u001b[39m ],\n",
       "  [ \u001b[33m5\u001b[39m, \u001b[33m1\u001b[39m ],   [ \u001b[33m5\u001b[39m, \u001b[33m2\u001b[39m ],\n",
       "  [ \u001b[33m5\u001b[39m, \u001b[33m3\u001b[39m ]\n",
       "]"
      ]
     },
     "execution_count": 28,
     "metadata": {},
     "output_type": "execute_result"
    }
   ],
   "source": [
    "[...Array(9).keys()].map(n => date2isoo(4, n+300))"
   ]
  },
  {
   "cell_type": "code",
   "execution_count": 29,
   "metadata": {},
   "outputs": [
    {
     "data": {
      "text/plain": [
       "[ \u001b[33m2001\u001b[39m, \u001b[33m364\u001b[39m ]"
      ]
     },
     "execution_count": 29,
     "metadata": {},
     "output_type": "execute_result"
    }
   ],
   "source": [
    "isoo2date(2002, 59)"
   ]
  },
  {
   "cell_type": "code",
   "execution_count": 30,
   "metadata": {},
   "outputs": [
    {
     "data": {
      "text/plain": [
       "[\n",
       "  [ \u001b[33m-1\u001b[39m, \u001b[33m363\u001b[39m ], [ \u001b[33m-1\u001b[39m, \u001b[33m364\u001b[39m ],\n",
       "  [ \u001b[33m-1\u001b[39m, \u001b[33m365\u001b[39m ], [ \u001b[33m0\u001b[39m, \u001b[33m0\u001b[39m ],\n",
       "  [ \u001b[33m0\u001b[39m, \u001b[33m1\u001b[39m ],    [ \u001b[33m0\u001b[39m, \u001b[33m2\u001b[39m ],\n",
       "  [ \u001b[33m0\u001b[39m, \u001b[33m3\u001b[39m ],    [ \u001b[33m0\u001b[39m, \u001b[33m4\u001b[39m ],\n",
       "  [ \u001b[33m0\u001b[39m, \u001b[33m5\u001b[39m ]\n",
       "]"
      ]
     },
     "execution_count": 30,
     "metadata": {},
     "output_type": "execute_result"
    }
   ],
   "source": [
    "[...Array(9).keys()].map(n => isoo2date(0, n+58))"
   ]
  },
  {
   "cell_type": "code",
   "execution_count": 31,
   "metadata": {},
   "outputs": [
    {
     "data": {
      "text/plain": [
       "[\n",
       "  [ \u001b[33m2\u001b[39m, \u001b[33m363\u001b[39m ], [ \u001b[33m2\u001b[39m, \u001b[33m364\u001b[39m ],\n",
       "  [ \u001b[33m3\u001b[39m, \u001b[33m0\u001b[39m ],   [ \u001b[33m3\u001b[39m, \u001b[33m1\u001b[39m ],\n",
       "  [ \u001b[33m3\u001b[39m, \u001b[33m2\u001b[39m ],   [ \u001b[33m3\u001b[39m, \u001b[33m3\u001b[39m ],\n",
       "  [ \u001b[33m3\u001b[39m, \u001b[33m4\u001b[39m ],   [ \u001b[33m3\u001b[39m, \u001b[33m5\u001b[39m ],\n",
       "  [ \u001b[33m3\u001b[39m, \u001b[33m6\u001b[39m ]\n",
       "]"
      ]
     },
     "execution_count": 31,
     "metadata": {},
     "output_type": "execute_result"
    }
   ],
   "source": [
    "[...Array(9).keys()].map(n => isoo2date(3, n+58))"
   ]
  },
  {
   "cell_type": "code",
   "execution_count": 32,
   "metadata": {},
   "outputs": [
    {
     "data": {
      "text/plain": [
       "[\n",
       "  [ \u001b[33m3\u001b[39m, \u001b[33m363\u001b[39m ], [ \u001b[33m3\u001b[39m, \u001b[33m364\u001b[39m ],\n",
       "  [ \u001b[33m3\u001b[39m, \u001b[33m365\u001b[39m ], [ \u001b[33m4\u001b[39m, \u001b[33m0\u001b[39m ],\n",
       "  [ \u001b[33m4\u001b[39m, \u001b[33m1\u001b[39m ],   [ \u001b[33m4\u001b[39m, \u001b[33m2\u001b[39m ],\n",
       "  [ \u001b[33m4\u001b[39m, \u001b[33m3\u001b[39m ],   [ \u001b[33m4\u001b[39m, \u001b[33m4\u001b[39m ],\n",
       "  [ \u001b[33m4\u001b[39m, \u001b[33m5\u001b[39m ]\n",
       "]"
      ]
     },
     "execution_count": 32,
     "metadata": {},
     "output_type": "execute_result"
    }
   ],
   "source": [
    "[...Array(9).keys()].map(n => isoo2date(4, n+58))"
   ]
  },
  {
   "cell_type": "code",
   "execution_count": 33,
   "metadata": {},
   "outputs": [
    {
     "data": {
      "text/plain": [
       "[ \u001b[33m1969\u001b[39m, \u001b[33m306\u001b[39m ]"
      ]
     },
     "execution_count": 33,
     "metadata": {},
     "output_type": "execute_result"
    }
   ],
   "source": [
    "isoo2date()"
   ]
  },
  {
   "cell_type": "code",
   "execution_count": 34,
   "metadata": {},
   "outputs": [
    {
     "data": {
      "text/plain": [
       "[ \u001b[33m1970\u001b[39m, \u001b[33m1\u001b[39m ]"
      ]
     },
     "execution_count": 34,
     "metadata": {},
     "output_type": "execute_result"
    }
   ],
   "source": [
    "date2isoo()"
   ]
  },
  {
   "cell_type": "code",
   "execution_count": null,
   "metadata": {},
   "outputs": [],
   "source": []
  }
 ],
 "metadata": {
  "kernelspec": {
   "display_name": "Deno",
   "language": "typescript",
   "name": "deno"
  },
  "language_info": {
   "codemirror_mode": "typescript",
   "file_extension": ".ts",
   "mimetype": "text/x.typescript",
   "name": "typescript",
   "nbconvert_exporter": "script",
   "pygments_lexer": "typescript",
   "version": "5.7.3"
  }
 },
 "nbformat": 4,
 "nbformat_minor": 4
}
