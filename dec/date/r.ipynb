{
 "cells": [
  {
   "cell_type": "code",
   "execution_count": 1,
   "id": "7830fbb9-fc84-4666-8c5b-ae279e28b15d",
   "metadata": {},
   "outputs": [],
   "source": [
    "unix2doty <- function(unix) {\n",
    "  dote = unix / 86400 + 719468\n",
    "  socy = ifelse(\n",
    "    dote >= 0, dote,\n",
    "    dote - 146096\n",
    "  ) %/% 146097\n",
    "  dotc = dote - socy * 146097\n",
    "  yotc = (\n",
    "    dotc - dotc %/% 1460\n",
    "    + dotc %/% 36524\n",
    "    - dotc %/% 146096\n",
    "  ) %/% 365\n",
    "  c(\n",
    "    yotc + socy * 400,\n",
    "    dotc - (yotc * 365\n",
    "      + yotc %/% 4\n",
    "      - yotc %/% 100\n",
    "))}"
   ]
  },
  {
   "cell_type": "code",
   "execution_count": 2,
   "id": "bd0ba9e6-554e-4736-9e9c-33bdbf7948e8",
   "metadata": {
    "editable": true,
    "slideshow": {
     "slide_type": ""
    },
    "tags": []
   },
   "outputs": [
    {
     "data": {
      "text/html": [
       "<style>\n",
       ".list-inline {list-style: none; margin:0; padding: 0}\n",
       ".list-inline>li {display: inline-block}\n",
       ".list-inline>li:not(:last-child)::after {content: \"\\00b7\"; padding: 0 .5ex}\n",
       "</style>\n",
       "<ol class=list-inline><li>2024</li><li>217</li></ol>\n"
      ],
      "text/latex": [
       "\\begin{enumerate*}\n",
       "\\item 2024\n",
       "\\item 217\n",
       "\\end{enumerate*}\n"
      ],
      "text/markdown": [
       "1. 2024\n",
       "2. 217\n",
       "\n",
       "\n"
      ],
      "text/plain": [
       "[1] 2024  217"
      ]
     },
     "metadata": {},
     "output_type": "display_data"
    }
   ],
   "source": [
    "unix2doty(1728000000)"
   ]
  },
  {
   "cell_type": "code",
   "execution_count": 3,
   "id": "c22b641d-82d3-4fdf-9166-44eacb6fd3e2",
   "metadata": {},
   "outputs": [
    {
     "data": {
      "text/html": [
       "<style>\n",
       ".list-inline {list-style: none; margin:0; padding: 0}\n",
       ".list-inline>li {display: inline-block}\n",
       ".list-inline>li:not(:last-child)::after {content: \"\\00b7\"; padding: 0 .5ex}\n",
       "</style>\n",
       "<ol class=list-inline><li>2029</li><li>266</li></ol>\n"
      ],
      "text/latex": [
       "\\begin{enumerate*}\n",
       "\\item 2029\n",
       "\\item 266\n",
       "\\end{enumerate*}\n"
      ],
      "text/markdown": [
       "1. 2029\n",
       "2. 266\n",
       "\n",
       "\n"
      ],
      "text/plain": [
       "[1] 2029  266"
      ]
     },
     "metadata": {},
     "output_type": "display_data"
    }
   ],
   "source": [
    "unix2doty(1890000000)"
   ]
  }
 ],
 "metadata": {
  "kernelspec": {
   "display_name": "R",
   "language": "R",
   "name": "ir"
  },
  "language_info": {
   "codemirror_mode": "r",
   "file_extension": ".r",
   "mimetype": "text/x-r-source",
   "name": "R",
   "pygments_lexer": "r",
   "version": "4.4.0"
  }
 },
 "nbformat": 4,
 "nbformat_minor": 5
}
