{
  "cells": [
    {
      "cell_type": "markdown",
      "metadata": {},
      "source": [
        "# \n",
        "\n",
        "\\| [Martin Laptev]()  \n",
        "1725349117000"
      ],
      "id": "0bdb8c16-98ed-4590-9a4a-655fe9cba44e"
    },
    {
      "cell_type": "code",
      "execution_count": 1,
      "metadata": {
        "editable": true,
        "slideshow": {
          "slide_type": ""
        },
        "tags": []
      },
      "outputs": [],
      "source": [
        "function unix2doty(unix)\n",
        "  local dote = unix / 86400 + 719468\n",
        "  local cykl = (\n",
        "    dote >= 0 and dote\n",
        "    or dote - 146096\n",
        "  ) // 146097\n",
        "  local dotc = dote - cykl * 146097\n",
        "  local yotc = (\n",
        "    dotc - dotc // 1460\n",
        "    + dotc // 36524\n",
        "    - dotc // 146096\n",
        "  ) // 365\n",
        "  return {\n",
        "    math.floor(yotc + cykl * 400),\n",
        "    dotc - (yotc * 365\n",
        "      + yotc // 4\n",
        "      - yotc // 100\n",
        "  )}\n",
        "end"
      ],
      "id": "cell-0"
    },
    {
      "cell_type": "code",
      "execution_count": 2,
      "metadata": {
        "editable": true,
        "slideshow": {
          "slide_type": ""
        },
        "tags": []
      },
      "outputs": [
        {
          "output_type": "stream",
          "name": "stdout",
          "text": [
            "{ 2024, 217.0 } "
          ]
        }
      ],
      "source": [
        "unix2doty(1728000000)"
      ],
      "id": "cell-1"
    },
    {
      "cell_type": "code",
      "execution_count": 3,
      "metadata": {},
      "outputs": [
        {
          "output_type": "stream",
          "name": "stdout",
          "text": [
            "{ 2029, 266.0 } "
          ]
        }
      ],
      "source": [
        "unix2doty(1890000000)"
      ],
      "id": "cell-2"
    }
  ],
  "nbformat": 4,
  "nbformat_minor": 5,
  "metadata": {
    "kernelspec": {
      "name": "xlua",
      "display_name": "Lua (XLua)",
      "language": "lua"
    },
    "language_info": {
      "name": "lua",
      "file_extension": ".lua",
      "mimetype": "text/x-luasrc",
      "version": "14.0.0"
    }
  }
}