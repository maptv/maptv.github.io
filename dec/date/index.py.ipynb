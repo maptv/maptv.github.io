{
 "cells": [
  {
   "cell_type": "markdown",
   "id": "95b8d4d0",
   "metadata": {},
   "source": [
    "# Ordinal date\n",
    "\n",
    "\\| [Martin Laptev]()  \n",
    "2024+188\n",
    "\n",
    "My site is full of dates in the `year+day` format. The major advantage\n",
    "of this format is that the `day` component can unequivocally identify\n",
    "any date and time in a given year and thus can replace months, days of\n",
    "the month, hours, minutes, and seconds. In essence, the `day` number can\n",
    "To create all of the dates, I use three different programming languages:\n",
    "Python for the [listing page](../../list), Lua for the Published date at\n",
    "the top of each article, and JavaScript for the citation information at\n",
    "the bottom of each article.\n",
    "\n",
    "To test the code, I will create a separate Quarto markdown (`qmd`) file\n",
    "for each of these 3 programming languages and\n",
    "[embed](https://quarto.org/docs/authoring/notebook-embed.html#overview)\n",
    "them into this `qmd` file.\n",
    "\n",
    "# Python"
   ]
  },
  {
   "cell_type": "code",
   "execution_count": 1,
   "id": "26ca81ba",
   "metadata": {
    "execution": {
     "iopub.execute_input": "2024-09-05T22:29:58.566497Z",
     "iopub.status.busy": "2024-09-05T22:29:58.566228Z",
     "iopub.status.idle": "2024-09-05T22:29:58.572906Z",
     "shell.execute_reply": "2024-09-05T22:29:58.572337Z"
    }
   },
   "outputs": [],
   "source": [
    "def unix2doty(unix):\n",
    "    dote = unix / 86400 + 719468\n",
    "    cykl = (\n",
    "        dote if dote >= 0\n",
    "        else dote - 146096\n",
    "    ) // 146097\n",
    "    dotc = dote - cykl * 146097\n",
    "    yotc = (dotc\n",
    "        - dotc // 1460\n",
    "        + dotc // 36524\n",
    "        - dotc // 146096\n",
    "    ) // 365\n",
    "    return [\n",
    "        int(yotc + cykl * 400),\n",
    "        dotc - (yotc * 365\n",
    "            + yotc // 4\n",
    "            - yotc // 100\n",
    "    )]"
   ]
  },
  {
   "cell_type": "code",
   "execution_count": 2,
   "id": "0dff5454",
   "metadata": {
    "execution": {
     "iopub.execute_input": "2024-09-05T22:29:58.575894Z",
     "iopub.status.busy": "2024-09-05T22:29:58.575678Z",
     "iopub.status.idle": "2024-09-05T22:29:58.581971Z",
     "shell.execute_reply": "2024-09-05T22:29:58.581403Z"
    }
   },
   "outputs": [
    {
     "data": {
      "text/plain": [
       "[2024, 217.0]"
      ]
     },
     "execution_count": 2,
     "metadata": {},
     "output_type": "execute_result"
    }
   ],
   "source": [
    "unix2doty(1728000000)"
   ]
  },
  {
   "cell_type": "code",
   "execution_count": 3,
   "id": "19d77555",
   "metadata": {
    "execution": {
     "iopub.execute_input": "2024-09-05T22:29:58.585069Z",
     "iopub.status.busy": "2024-09-05T22:29:58.584883Z",
     "iopub.status.idle": "2024-09-05T22:29:58.587894Z",
     "shell.execute_reply": "2024-09-05T22:29:58.587522Z"
    }
   },
   "outputs": [
    {
     "data": {
      "text/plain": [
       "[2029, 266.0]"
      ]
     },
     "execution_count": 3,
     "metadata": {},
     "output_type": "execute_result"
    }
   ],
   "source": [
    "unix2doty(1890000000)"
   ]
  }
 ],
 "metadata": {
  "kernelspec": {
   "display_name": "Python 3 (ipykernel)",
   "language": "python",
   "name": "python3",
   "path": "/opt/homebrew/Caskroom/miniforge/base/envs/py/share/jupyter/kernels/python3"
  },
  "language_info": {
   "codemirror_mode": {
    "name": "ipython",
    "version": 3
   },
   "file_extension": ".py",
   "mimetype": "text/x-python",
   "name": "python",
   "nbconvert_exporter": "python",
   "pygments_lexer": "ipython3",
   "version": "3.12.3"
  }
 },
 "nbformat": 4,
 "nbformat_minor": 5
}
