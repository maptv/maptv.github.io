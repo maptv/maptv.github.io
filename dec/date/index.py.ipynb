{
 "cells": [
  {
   "cell_type": "markdown",
   "id": "9cd1224e",
   "metadata": {},
   "source": [
    "# Ordinal date\n",
    "\n",
    "\\| [Martin Laptev]()  \n",
    "2024+188\n",
    "\n",
    "My site is full of dates in the `year+day` format. The major advantage\n",
    "of this format is that the `day` component can unequivocally identify\n",
    "any date and time in a given year and thus can replace months, days of\n",
    "the month, hours, minutes, and seconds. In essence, the `day` number can\n",
    "To create all of the dates, I use three different programming languages:\n",
    "Python for the [listing page](../../list), Lua for the Published date at\n",
    "the top of each article, and JavaScript for the citation information at\n",
    "the bottom of each article.\n",
    "\n",
    "To test the code, I will create a separate Quarto markdown (`qmd`) file\n",
    "for each of these 3 programming languages and\n",
    "[embed](https://quarto.org/docs/authoring/notebook-embed.html#overview)\n",
    "them into this `qmd` file.\n",
    "\n",
    "# JavaScript\n",
    "\n",
    "``` {typescript}\n",
    "function unix2doty(unix) {\n",
    "  const dote = unix / 86400 + 719468,\n",
    "    cykl = Math.floor((\n",
    "      dote >= 0 ? dote\n",
    "      : dote - 146096\n",
    "    ) / 146097),\n",
    "  dotc = dote - cykl * 146097,\n",
    "  yotc = Math.floor((dotc\n",
    "    - Math.floor(dotc / 1460)\n",
    "    + Math.floor(dotc / 36524)\n",
    "    - Math.floor(dotc / 146096)\n",
    "  ) / 365);\n",
    "  return [\n",
    "    yotc + cykl * 400,\n",
    "    dotc - (yotc * 365\n",
    "      + Math.floor(yotc / 4)\n",
    "      - Math.floor(yotc / 100)\n",
    "  )]}\n",
    "```\n",
    "\n",
    "``` {typescript}\n",
    "unix2doty(1728000000)\n",
    "```\n",
    "\n",
    "``` {typescript}\n",
    "unix2doty(1890000000)\n",
    "```\n",
    "\n",
    "# Lua\n",
    "\n",
    "``` {lua}\n",
    "function unix2doty(unix)\n",
    "  local dote = unix / 86400 + 719468\n",
    "  local cykl = (\n",
    "    dote >= 0 and dote\n",
    "    or dote - 146096\n",
    "  ) // 146097\n",
    "  local dotc = dote - cykl * 146097\n",
    "  local yotc = (\n",
    "    dotc - dotc // 1460\n",
    "    + dotc // 36524\n",
    "    - dotc // 146096\n",
    "  ) // 365\n",
    "  return {\n",
    "    math.floor(yotc + cykl * 400),\n",
    "    dotc - (yotc * 365\n",
    "      + yotc // 4\n",
    "      - yotc // 100\n",
    "  )}\n",
    "end\n",
    "```\n",
    "\n",
    "``` {lua}\n",
    "unix2doty(1728000000)\n",
    "```\n",
    "\n",
    "``` {lua}\n",
    "unix2doty(1890000000)\n",
    "```\n",
    "\n",
    "# Python"
   ]
  },
  {
   "cell_type": "code",
   "execution_count": 1,
   "id": "3b9ff4ce",
   "metadata": {
    "execution": {
     "iopub.execute_input": "2024-09-05T21:36:47.640279Z",
     "iopub.status.busy": "2024-09-05T21:36:47.639894Z",
     "iopub.status.idle": "2024-09-05T21:36:47.647019Z",
     "shell.execute_reply": "2024-09-05T21:36:47.646219Z"
    }
   },
   "outputs": [],
   "source": [
    "def unix2doty(unix):\n",
    "    dote = unix / 86400 + 719468\n",
    "    cykl = (\n",
    "        dote if dote >= 0\n",
    "        else dote - 146096\n",
    "    ) // 146097\n",
    "    dotc = dote - cykl * 146097\n",
    "    yotc = (dotc\n",
    "        - dotc // 1460\n",
    "        + dotc // 36524\n",
    "        - dotc // 146096\n",
    "    ) // 365\n",
    "    return [\n",
    "        int(yotc + cykl * 400),\n",
    "        dotc - (yotc * 365\n",
    "            + yotc // 4\n",
    "            - yotc // 100\n",
    "    )]"
   ]
  },
  {
   "cell_type": "code",
   "execution_count": 2,
   "id": "546fe3be",
   "metadata": {
    "execution": {
     "iopub.execute_input": "2024-09-05T21:36:47.650535Z",
     "iopub.status.busy": "2024-09-05T21:36:47.650237Z",
     "iopub.status.idle": "2024-09-05T21:36:47.657607Z",
     "shell.execute_reply": "2024-09-05T21:36:47.656983Z"
    }
   },
   "outputs": [
    {
     "data": {
      "text/plain": [
       "[2024, 217.0]"
      ]
     },
     "execution_count": 2,
     "metadata": {},
     "output_type": "execute_result"
    }
   ],
   "source": [
    "unix2doty(1728000000)"
   ]
  },
  {
   "cell_type": "code",
   "execution_count": 3,
   "id": "a3c05d6c",
   "metadata": {
    "execution": {
     "iopub.execute_input": "2024-09-05T21:36:47.660672Z",
     "iopub.status.busy": "2024-09-05T21:36:47.660425Z",
     "iopub.status.idle": "2024-09-05T21:36:47.663595Z",
     "shell.execute_reply": "2024-09-05T21:36:47.663239Z"
    }
   },
   "outputs": [
    {
     "data": {
      "text/plain": [
       "[2029, 266.0]"
      ]
     },
     "execution_count": 3,
     "metadata": {},
     "output_type": "execute_result"
    }
   ],
   "source": [
    "unix2doty(1890000000)"
   ]
  }
 ],
 "metadata": {
  "kernelspec": {
   "display_name": "Python 3 (ipykernel)",
   "language": "python",
   "name": "python3",
   "path": "/opt/homebrew/Caskroom/miniforge/base/envs/py/share/jupyter/kernels/python3"
  },
  "language_info": {
   "codemirror_mode": {
    "name": "ipython",
    "version": 3
   },
   "file_extension": ".py",
   "mimetype": "text/x-python",
   "name": "python",
   "nbconvert_exporter": "python",
   "pygments_lexer": "ipython3",
   "version": "3.12.3"
  }
 },
 "nbformat": 4,
 "nbformat_minor": 5
}
