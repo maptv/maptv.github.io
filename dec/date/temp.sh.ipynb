{
  "cells": [
    {
      "cell_type": "markdown",
      "metadata": {},
      "source": [
        "# Ordinal date\n",
        "\n",
        "\\| [Martin Laptev]()  \n",
        "2024+192\n",
        "\n",
        "My site is full of dates in the `year+day` format. The major advantage\n",
        "of this format is that the `day` component can unequivocally identify\n",
        "any date and time in a given year and thus can replace months, days of\n",
        "the month, hours, minutes, and seconds. In essence, the `day` number can\n",
        "To create all of the dates, I use three different programming languages:\n",
        "Python for the [listing page](../../list), Lua for the Published date at\n",
        "the top of each article, and JavaScript for the citation information at\n",
        "the bottom of each article.\n",
        "\n",
        "To test the code, I will create a separate Quarto markdown (`qmd`) file\n",
        "for each of these 3 programming languages and\n",
        "[embed](https://quarto.org/docs/authoring/notebook-embed.html#overview)\n",
        "them into this `qmd` file.\n",
        "\n",
        "# Bash"
      ],
      "id": "98728f94-4285-40a0-8be2-7345a3496e66"
    },
    {
      "cell_type": "code",
      "execution_count": null,
      "metadata": {
        "tags": [
          "bash",
          "func"
        ]
      },
      "outputs": [],
      "source": [
        "unix2doty() {\n",
        "    local unix=${1:-$(date +%s)}\n",
        "    local dote=$(echo \"scale=0; $unix / 86400 + 719468\" | bc)\n",
        "    if [ $(echo \"$dote >= 0\" | bc) -eq 1 ]; then\n",
        "        local cykl=$(echo \"scale=0; $dote / 146097\" | bc)\n",
        "    else\n",
        "        local cykl=$(echo \"scale=0; ($dote - 146096) / 146097\" | bc)\n",
        "    fi\n",
        "    local dotc=$(echo \"scale=0; $dote - $cykl * 146097\" | bc)\n",
        "    local yotc=$(echo \"scale=0; ($dotc - $dotc / 1460 + $dotc / 36524 - $dotc / 146096) / 365\" | bc)\n",
        "    echo \"$(echo \"$yotc + $cykl * 400\" | bc) $(echo \"$dotc - ($yotc * 365 + $yotc / 4 - $yotc / 100)\" | bc)\"\n",
        "}"
      ],
      "id": "ad867800-14a7-4632-be67-2b427832c72f"
    },
    {
      "cell_type": "code",
      "execution_count": null,
      "metadata": {
        "tags": [
          "bash",
          "out0"
        ]
      },
      "outputs": [],
      "source": [
        "unix2doty 1728000000"
      ],
      "id": "36dec621-36ee-4d4c-900d-e3a45c84b332"
    },
    {
      "cell_type": "code",
      "execution_count": null,
      "metadata": {
        "tags": [
          "bash",
          "out1"
        ]
      },
      "outputs": [],
      "source": [
        "unix2doty 1890000000"
      ],
      "id": "9e850406-448e-4baf-89e2-1a4a7f180376"
    }
  ],
  "nbformat": 4,
  "nbformat_minor": 5,
  "metadata": {
    "kernelspec": {
      "display_name": "Python 3",
      "language": "python",
      "name": "python3"
    }
  }
}