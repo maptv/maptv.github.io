{
 "cells": [
  {
   "cell_type": "code",
   "execution_count": 4,
   "id": "18a390ae-fd7d-4829-a73a-783e55618dc1",
   "metadata": {
    "scrolled": true
   },
   "outputs": [
    {
     "data": {
      "text/plain": [
       "unix2doty (generic function with 1 method)"
      ]
     },
     "execution_count": 4,
     "metadata": {},
     "output_type": "execute_result"
    }
   ],
   "source": [
    "function unix2doty(unix)\n",
    "    dote2date(unix / 86400 + 719468)\n",
    "end"
   ]
  },
  {
   "cell_type": "code",
   "execution_count": 5,
   "id": "fff69e02-1916-4fa8-bbec-eb8b5bd102e9",
   "metadata": {},
   "outputs": [
    {
     "data": {
      "text/plain": [
       "dote2date (generic function with 1 method)"
      ]
     },
     "execution_count": 5,
     "metadata": {},
     "output_type": "execute_result"
    }
   ],
   "source": [
    "function dote2date(dote)\n",
    "    socy = (\n",
    "        dote >= 0 ? dote\n",
    "        : dote - 146096\n",
    "        ) ÷ 146097\n",
    "    dotc = dote - socy * 146097\n",
    "    yotc = (\n",
    "        dotc - dotc ÷ 1460\n",
    "        + dotc ÷ 36524\n",
    "        - dotc ÷ 146096\n",
    "    ) ÷ 365\n",
    "    return Int(\n",
    "        yotc + socy * 400),\n",
    "    dotc - (yotc * 365\n",
    "        + yotc ÷ 4\n",
    "        - yotc ÷ 100)\n",
    "end"
   ]
  },
  {
   "cell_type": "code",
   "execution_count": 6,
   "id": "95115ed8-6f6d-44ee-b270-339279071fef",
   "metadata": {},
   "outputs": [
    {
     "data": {
      "text/plain": [
       "unix2dote (generic function with 1 method)"
      ]
     },
     "execution_count": 6,
     "metadata": {},
     "output_type": "execute_result"
    }
   ],
   "source": [
    "function unix2dote(unix)\n",
    "    return unix / 86400 + 719468\n",
    "end"
   ]
  },
  {
   "cell_type": "code",
   "execution_count": 2,
   "id": "bd0ba9e6-554e-4736-9e9c-33bdbf7948e8",
   "metadata": {
    "editable": true,
    "slideshow": {
     "slide_type": ""
    },
    "tags": []
   },
   "outputs": [
    {
     "data": {
      "text/plain": [
       "(2024, 217.0)"
      ]
     },
     "execution_count": 2,
     "metadata": {},
     "output_type": "execute_result"
    }
   ],
   "source": [
    "unix2doty(1728000000)"
   ]
  },
  {
   "cell_type": "code",
   "execution_count": 1,
   "id": "c22b641d-82d3-4fdf-9166-44eacb6fd3e2",
   "metadata": {},
   "outputs": [
    {
     "ename": "LoadError",
     "evalue": "UndefVarError: `unix2doty` not defined",
     "output_type": "error",
     "traceback": [
      "UndefVarError: `unix2doty` not defined",
      "",
      "Stacktrace:",
      " [1] top-level scope",
      "   @ In[1]:1"
     ]
    }
   ],
   "source": [
    "unix2doty(1890000000)"
   ]
  },
  {
   "cell_type": "code",
   "execution_count": 3,
   "id": "c9912fbe-223a-4e06-a212-ea841b9deb96",
   "metadata": {},
   "outputs": [
    {
     "data": {
      "text/plain": [
       "365"
      ]
     },
     "execution_count": 3,
     "metadata": {},
     "output_type": "execute_result"
    }
   ],
   "source": [
    "function leap(year)\n",
    "    year % 4 == 0 && year % 100 != 0 || year % 400 == 0\n",
    "end\n",
    "365 + leap(2024 + 1)"
   ]
  },
  {
   "cell_type": "code",
   "execution_count": 4,
   "id": "a3df4fb9-6670-48a9-b1ed-4598abd1a551",
   "metadata": {},
   "outputs": [
    {
     "data": {
      "text/plain": [
       "365"
      ]
     },
     "execution_count": 4,
     "metadata": {},
     "output_type": "execute_result"
    }
   ],
   "source": [
    "function year2dity(year)\n",
    "    return 365 + leap(year + 1)\n",
    "end\n",
    "year2dity(2024)"
   ]
  },
  {
   "cell_type": "code",
   "execution_count": 1,
   "id": "ed0f1e93-1cf7-4afe-8f64-e38bd979626d",
   "metadata": {},
   "outputs": [
    {
     "name": "stdout",
     "output_type": "stream",
     "text": [
      "false\n",
      "365\n",
      "(1970, 1)\n",
      "(1969, 306)\n"
     ]
    }
   ],
   "source": [
    "function leap(year = 1969)\n",
    "    return year % 4 == 0 && year % 100 != 0 || year % 400 == 0\n",
    "end\n",
    "function year2dity(year = 1969)\n",
    "    return 365 + leap(year + 1)\n",
    "end\n",
    "function date2isoo(year::Int = 1969, doty::Int = 306)\n",
    "    return (year + (doty > 305),\n",
    "        (doty + 59 + leap(year)) % (365 + leap(year)) + 1)\n",
    "end\n",
    "function isoo2date(year::Int = 1970, doty::Int = 1)\n",
    "    return (year - (doty < (60 + leap(year)) ? 1 : 0),\n",
    "        (doty + 305) % (365 + leap(year)))\n",
    "end\n",
    "println(leap())\n",
    "println(year2dity())\n",
    "println(date2isoo())\n",
    "println(isoo2date())"
   ]
  },
  {
   "cell_type": "code",
   "execution_count": 2,
   "id": "52de6a07-d132-4bcd-bf87-f5d479b23d0e",
   "metadata": {},
   "outputs": [
    {
     "data": {
      "text/plain": [
       "9-element Vector{Tuple{Int64, Int64}}:\n",
       " (0, 361)\n",
       " (0, 362)\n",
       " (0, 363)\n",
       " (0, 364)\n",
       " (0, 365)\n",
       " (0, 366)\n",
       " (1, 1)\n",
       " (1, 2)\n",
       " (1, 3)"
      ]
     },
     "execution_count": 2,
     "metadata": {},
     "output_type": "execute_result"
    }
   ],
   "source": [
    "[date2isoo(0, n + 300) for n in 0:8]"
   ]
  },
  {
   "cell_type": "code",
   "execution_count": 3,
   "id": "0ae82ece-0e34-4681-8a0c-17a40f21ed2d",
   "metadata": {},
   "outputs": [
    {
     "data": {
      "text/plain": [
       "9-element Vector{Tuple{Int64, Int64}}:\n",
       " (-1, 363)\n",
       " (-1, 364)\n",
       " (-1, 365)\n",
       " (0, 0)\n",
       " (0, 1)\n",
       " (0, 2)\n",
       " (0, 3)\n",
       " (0, 4)\n",
       " (0, 5)"
      ]
     },
     "execution_count": 3,
     "metadata": {},
     "output_type": "execute_result"
    }
   ],
   "source": [
    "[isoo2date(0, n + 58) for n in 0:8]"
   ]
  }
 ],
 "metadata": {
  "kernelspec": {
   "display_name": "Julia 1.10.2",
   "language": "julia",
   "name": "julia-1.10"
  },
  "language_info": {
   "file_extension": ".jl",
   "mimetype": "application/julia",
   "name": "julia",
   "version": "1.10.2"
  }
 },
 "nbformat": 4,
 "nbformat_minor": 5
}
